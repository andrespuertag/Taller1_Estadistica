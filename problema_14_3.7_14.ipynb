{
 "cells": [
  {
   "cell_type": "code",
   "execution_count": 2,
   "metadata": {},
   "outputs": [],
   "source": [
    "import numpy as np\n",
    "import pandas as pd\n",
    "import statsmodels.api as sm"
   ]
  },
  {
   "cell_type": "code",
   "execution_count": 7,
   "metadata": {},
   "outputs": [],
   "source": [
    "rng = np.random.default_rng (10)\n",
    "x1 = rng.uniform(0, 1, size=100)\n",
    "x2 = 0.5 * x1 + rng.normal(size=100) / 10\n",
    "y = 2 + 2 * x1 + 0.3 * x2 + rng.normal(size=100)"
   ]
  },
  {
   "cell_type": "markdown",
   "metadata": {},
   "source": [
    "a) La última línea corresponde a la creación de un modelo lineal en el que y es una función de x1 y x2. Escriba la forma del modelo lineal. ¿Cuáles son los coeficientes de regresión?"
   ]
  },
  {
   "cell_type": "code",
   "execution_count": 28,
   "metadata": {},
   "outputs": [],
   "source": [
    "import numpy as np\n",
    "import pandas as pd\n",
    "from sklearn.linear_model import LinearRegression\n",
    "from sklearn.metrics import r2_score\n",
    "import matplotlib.pyplot as plt"
   ]
  },
  {
   "cell_type": "markdown",
   "metadata": {},
   "source": [
    "Aquí utilizo las dos librerias de numpy y statsmodels para generar la regresión lineal"
   ]
  },
  {
   "cell_type": "code",
   "execution_count": 25,
   "metadata": {},
   "outputs": [
    {
     "name": "stdout",
     "output_type": "stream",
     "text": [
      "Intercept: 1.957909291136691\n",
      "Coefficients: [1.6153677 0.9427767]\n"
     ]
    }
   ],
   "source": [
    "# Generar los datos\n",
    "rng = np.random.default_rng(10)\n",
    "x1 = rng.uniform(0, 1, size=100)\n",
    "x2 = 0.5 * x1 + rng.normal(size=100) / 10\n",
    "y = 2 + 2 * x1 + 0.3 * x2 + rng.normal(size=100)\n",
    "\n",
    "# Crear el modelo de regresión lineal\n",
    "model = LinearRegression().fit(np.column_stack((x1, x2)), y)\n",
    "\n",
    "# Extraer los coeficientes\n",
    "intercept = model.intercept_\n",
    "coefficients = model.coef_\n",
    "\n",
    "print(\"Intercept:\", intercept)\n",
    "print(\"Coefficients:\", coefficients)"
   ]
  },
  {
   "cell_type": "code",
   "execution_count": 5,
   "metadata": {},
   "outputs": [
    {
     "name": "stdout",
     "output_type": "stream",
     "text": [
      "                            OLS Regression Results                            \n",
      "==============================================================================\n",
      "Dep. Variable:                      y   R-squared:                       0.291\n",
      "Model:                            OLS   Adj. R-squared:                  0.276\n",
      "Method:                 Least Squares   F-statistic:                     19.89\n",
      "Date:                Wed, 01 Nov 2023   Prob (F-statistic):           5.76e-08\n",
      "Time:                        19:04:23   Log-Likelihood:                -130.62\n",
      "No. Observations:                 100   AIC:                             267.2\n",
      "Df Residuals:                      97   BIC:                             275.1\n",
      "Df Model:                           2                                         \n",
      "Covariance Type:            nonrobust                                         \n",
      "==============================================================================\n",
      "                 coef    std err          t      P>|t|      [0.025      0.975]\n",
      "------------------------------------------------------------------------------\n",
      "const          1.9579      0.190     10.319      0.000       1.581       2.334\n",
      "x1             1.6154      0.527      3.065      0.003       0.569       2.661\n",
      "x2             0.9428      0.831      1.134      0.259      -0.707       2.592\n",
      "==============================================================================\n",
      "Omnibus:                        0.051   Durbin-Watson:                   1.964\n",
      "Prob(Omnibus):                  0.975   Jarque-Bera (JB):                0.041\n",
      "Skew:                          -0.036   Prob(JB):                        0.979\n",
      "Kurtosis:                       2.931   Cond. No.                         11.9\n",
      "==============================================================================\n",
      "\n",
      "Notes:\n",
      "[1] Standard Errors assume that the covariance matrix of the errors is correctly specified.\n"
     ]
    }
   ],
   "source": [
    "# Generar los datos\n",
    "rng = np.random.default_rng(10)\n",
    "x1 = rng.uniform(0, 1, size=100)\n",
    "x2 = 0.5 * x1 + rng.normal(size=100) / 10\n",
    "y = 2 + 2 * x1 + 0.3 * x2 + rng.normal(size=100)\n",
    "\n",
    "df = pd.DataFrame({\"x1\": x1, \"x2\": x2, \"y\": y})\n",
    "\n",
    "model = sm.OLS(y, sm.add_constant(df[[\"x1\", \"x2\"]])).fit()\n",
    "\n",
    "print(model.summary())"
   ]
  },
  {
   "cell_type": "markdown",
   "metadata": {},
   "source": [
    "b) ¿Cuál es la correlación entre x1 y x2? Crear un diagrama de dispersión mostrando la relación entre las variables."
   ]
  },
  {
   "cell_type": "code",
   "execution_count": 33,
   "metadata": {},
   "outputs": [
    {
     "data": {
      "image/png": "[encoded data removed]",
      "text/plain": [
       "<Figure size 640x480 with 1 Axes>"
      ]
     },
     "metadata": {},
     "output_type": "display_data"
    },
    {
     "name": "stdout",
     "output_type": "stream",
     "text": [
      "Correlación entre x1 y x2: 0.772324497691354\n"
     ]
    }
   ],
   "source": [
    "# Generar los datos\n",
    "rng = np.random.default_rng(10)\n",
    "x1 = rng.uniform(0, 1, size=100)\n",
    "x2 = 0.5 * x1 + rng.normal(size=100) / 10\n",
    "y = 2 + 2 * x1 + 0.3 * x2 + rng.normal(size=100)\n",
    "\n",
    "# Calcular la correlación\n",
    "corr = np.corrcoef(x1, x2)[0, 1]\n",
    "\n",
    "# Crear el diagrama de dispersión\n",
    "plt.scatter(x1, x2)\n",
    "plt.xlabel('x1')\n",
    "plt.ylabel('x2')\n",
    "plt.title('Diagrama de dispersión')\n",
    "plt.show()\n",
    "\n",
    "print(\"Correlación entre x1 y x2:\", corr)"
   ]
  },
  {
   "cell_type": "markdown",
   "metadata": {},
   "source": [
    "C) Usando estos datos, ajuste una regresión de mínimos cuadrados para predecir el uso de y x1 y x2. Describa los resultados obtenidos. Que es B0, B1 y B2 ? Cómo se relacionan con los verdaderos B0, B1 y B3 ? ¿Puedes rechazar la hipótesis nula de que H0 : B1 = 0 ? Puedes rechazar la hipótesis nula de que H0 : B2 = 0 ?"
   ]
  },
  {
   "cell_type": "code",
   "execution_count": 8,
   "metadata": {},
   "outputs": [
    {
     "name": "stdout",
     "output_type": "stream",
     "text": [
      "                            OLS Regression Results                            \n",
      "==============================================================================\n",
      "Dep. Variable:                      y   R-squared:                       0.291\n",
      "Model:                            OLS   Adj. R-squared:                  0.276\n",
      "Method:                 Least Squares   F-statistic:                     19.89\n",
      "Date:                Wed, 01 Nov 2023   Prob (F-statistic):           5.76e-08\n",
      "Time:                        19:25:29   Log-Likelihood:                -130.62\n",
      "No. Observations:                 100   AIC:                             267.2\n",
      "Df Residuals:                      97   BIC:                             275.1\n",
      "Df Model:                           2                                         \n",
      "Covariance Type:            nonrobust                                         \n",
      "==============================================================================\n",
      "                 coef    std err          t      P>|t|      [0.025      0.975]\n",
      "------------------------------------------------------------------------------\n",
      "const          1.9579      0.190     10.319      0.000       1.581       2.334\n",
      "x1             1.6154      0.527      3.065      0.003       0.569       2.661\n",
      "x2             0.9428      0.831      1.134      0.259      -0.707       2.592\n",
      "==============================================================================\n",
      "Omnibus:                        0.051   Durbin-Watson:                   1.964\n",
      "Prob(Omnibus):                  0.975   Jarque-Bera (JB):                0.041\n",
      "Skew:                          -0.036   Prob(JB):                        0.979\n",
      "Kurtosis:                       2.931   Cond. No.                         11.9\n",
      "==============================================================================\n",
      "\n",
      "Notes:\n",
      "[1] Standard Errors assume that the covariance matrix of the errors is correctly specified.\n"
     ]
    }
   ],
   "source": [
    "# Generar los datos\n",
    "rng = np.random.default_rng(10)\n",
    "x1 = rng.uniform(0, 1, size=100)\n",
    "x2 = 0.5 * x1 + rng.normal(size=100) / 10\n",
    "y = 2 + 2 * x1 + 0.3 * x2 + rng.normal(size=100)\n",
    "\n",
    "# Crear un DataFrame con los datos\n",
    "df = pd.DataFrame({\"x1\": x1, \"x2\": x2, \"y\": y})\n",
    "\n",
    "# Ajustar el modelo de regresión lineal\n",
    "model = sm.OLS(y, sm.add_constant(df[[\"x1\", \"x2\"]])).fit()\n",
    "\n",
    "print(model.summary())\n"
   ]
  },
  {
   "cell_type": "markdown",
   "metadata": {},
   "source": [
    "El valor p para la prueba de hipótesis de B1 es 0.000, lo que es menor que el nivel de significancia de 0.05. Por lo tanto, se puede rechazar la hipótesis nula de que B1 = 0. Esto indica que x1 tiene un efecto significativo en y.\n",
    "\n",
    "\n",
    "El valor p para la prueba de hipótesis de B2 es 0.259, lo que es mayor que el nivel de significancia de 0.05. Por lo tanto, NO se puede rechazar la hipótesis nula de que B2 = 0."
   ]
  },
  {
   "cell_type": "markdown",
   "metadata": {},
   "source": [
    "d) Ahora ajuste una regresión de mínimos cuadrados para predecir y usando solo x1.\n",
    "Comenta tus resultados. ¿Puedes rechazar la hipótesis nula H0: B1 = 0 ?"
   ]
  },
  {
   "cell_type": "code",
   "execution_count": 10,
   "metadata": {},
   "outputs": [
    {
     "name": "stdout",
     "output_type": "stream",
     "text": [
      "                            OLS Regression Results                            \n",
      "==============================================================================\n",
      "Dep. Variable:                      y   R-squared:                       0.281\n",
      "Model:                            OLS   Adj. R-squared:                  0.274\n",
      "Method:                 Least Squares   F-statistic:                     38.39\n",
      "Date:                Wed, 01 Nov 2023   Prob (F-statistic):           1.37e-08\n",
      "Time:                        19:28:13   Log-Likelihood:                -131.28\n",
      "No. Observations:                 100   AIC:                             266.6\n",
      "Df Residuals:                      98   BIC:                             271.8\n",
      "Df Model:                           1                                         \n",
      "Covariance Type:            nonrobust                                         \n",
      "==============================================================================\n",
      "                 coef    std err          t      P>|t|      [0.025      0.975]\n",
      "------------------------------------------------------------------------------\n",
      "const          1.9371      0.189     10.242      0.000       1.562       2.312\n",
      "x1             2.0771      0.335      6.196      0.000       1.412       2.742\n",
      "==============================================================================\n",
      "Omnibus:                        0.204   Durbin-Watson:                   1.931\n",
      "Prob(Omnibus):                  0.903   Jarque-Bera (JB):                0.042\n",
      "Skew:                          -0.046   Prob(JB):                        0.979\n",
      "Kurtosis:                       3.038   Cond. No.                         4.65\n",
      "==============================================================================\n",
      "\n",
      "Notes:\n",
      "[1] Standard Errors assume that the covariance matrix of the errors is correctly specified.\n"
     ]
    }
   ],
   "source": [
    "# Generar los datos\n",
    "# Generar los datos\n",
    "rng = np.random.default_rng(10)\n",
    "x1 = rng.uniform(0, 1, size=100)\n",
    "x2 = 0.5 * x1 + rng.normal(size=100) / 10\n",
    "y = 2 + 2 * x1 + 0.3 * x2 + rng.normal(size=100)\n",
    "\n",
    "# Crear un DataFrame con los datos\n",
    "df = pd.DataFrame({\"x1\": x1, \"x2\": x2, \"y\": y})\n",
    "\n",
    "# Ajustar el modelo de regresión lineal\n",
    "model = sm.OLS(y, sm.add_constant(df[\"x1\"])).fit()\n",
    "\n",
    "print(model.summary())"
   ]
  },
  {
   "cell_type": "markdown",
   "metadata": {},
   "source": [
    "El valor p para la prueba de hipótesis de B1 es 0.000, lo que es menor que el nivel de significancia de 0.05. Por lo tanto, se puede rechazar la hipótesis nula de que B1 = 0. Esto indica que x1 tiene un efecto significativo en y."
   ]
  },
  {
   "cell_type": "markdown",
   "metadata": {},
   "source": [
    "e) Ahora ajuste una regresión de mínimos cuadrados para predecir y usando solo x2.\n",
    "Comenta tus resultados. ¿Puedes rechazar la hipótesis nula H0: B1 = 0 ?"
   ]
  },
  {
   "cell_type": "code",
   "execution_count": 11,
   "metadata": {},
   "outputs": [
    {
     "name": "stdout",
     "output_type": "stream",
     "text": [
      "                            OLS Regression Results                            \n",
      "==============================================================================\n",
      "Dep. Variable:                      y   R-squared:                       0.222\n",
      "Model:                            OLS   Adj. R-squared:                  0.214\n",
      "Method:                 Least Squares   F-statistic:                     27.99\n",
      "Date:                Wed, 01 Nov 2023   Prob (F-statistic):           7.43e-07\n",
      "Time:                        19:29:22   Log-Likelihood:                -135.24\n",
      "No. Observations:                 100   AIC:                             274.5\n",
      "Df Residuals:                      98   BIC:                             279.7\n",
      "Df Model:                           1                                         \n",
      "Covariance Type:            nonrobust                                         \n",
      "==============================================================================\n",
      "                 coef    std err          t      P>|t|      [0.025      0.975]\n",
      "------------------------------------------------------------------------------\n",
      "const          2.3239      0.154     15.124      0.000       2.019       2.629\n",
      "x2             2.9103      0.550      5.291      0.000       1.819       4.002\n",
      "==============================================================================\n",
      "Omnibus:                        0.191   Durbin-Watson:                   1.943\n",
      "Prob(Omnibus):                  0.909   Jarque-Bera (JB):                0.373\n",
      "Skew:                          -0.034   Prob(JB):                        0.830\n",
      "Kurtosis:                       2.709   Cond. No.                         6.11\n",
      "==============================================================================\n",
      "\n",
      "Notes:\n",
      "[1] Standard Errors assume that the covariance matrix of the errors is correctly specified.\n"
     ]
    }
   ],
   "source": [
    "# Generar los datos\n",
    "rng = np.random.default_rng(10)\n",
    "x1 = rng.uniform(0, 1, size=100)\n",
    "x2 = 0.5 * x1 + rng.normal(size=100) / 10\n",
    "y = 2 + 2 * x1 + 0.3 * x2 + rng.normal(size=100)\n",
    "\n",
    "# Crear un DataFrame con los datos\n",
    "df = pd.DataFrame({\"x1\": x1, \"x2\": x2, \"y\": y})\n",
    "\n",
    "# Ajustar el modelo de regresión lineal\n",
    "model = sm.OLS(y, sm.add_constant(df[\"x2\"])).fit()\n",
    "\n",
    "print(model.summary())"
   ]
  },
  {
   "cell_type": "markdown",
   "metadata": {},
   "source": [
    "El valor p para la prueba de hipótesis de B1 es 0.000, lo que es menor que el nivel de significancia de 0.05. Por lo tanto, se puede rechazar la hipótesis nula de que B1 = 0. Esto indica que x2 tiene un efecto significativo en y."
   ]
  },
  {
   "cell_type": "markdown",
   "metadata": {},
   "source": [
    "g) Supongamos que obtenemos una observación adicional, que fue por desgracia\n",
    "medición incorrecta. Usamos la función np.concatenate() para agregar\n",
    "esta observación adicional a cada uno de x1, x2 y y.\n",
    "\n",
    "Reajuste los modelos lineales de (c) a (e) utilizando estos nuevos datos. ¿Qué\n",
    "efecto tiene esta nueva observación en cada uno de los modelos?\n",
    "En cada modelo, ¿es esta observación un valor atípico? Un alto apalancamiento\n",
    "punto? Ambos? Explique sus respuestas."
   ]
  },
  {
   "cell_type": "markdown",
   "metadata": {},
   "source": [
    "Ajuste del punto C"
   ]
  },
  {
   "cell_type": "code",
   "execution_count": 38,
   "metadata": {},
   "outputs": [
    {
     "name": "stdout",
     "output_type": "stream",
     "text": [
      "Coeficientes de la regresión:\n",
      "Intercepto: 2.0617912597584565\n",
      "Coeficiente de x1: 0.8575448183694923\n",
      "Coeficiente de x2: 2.2663234876910465\n"
     ]
    }
   ],
   "source": [
    "# Generar los datos\n",
    "rng = np.random.default_rng(10)\n",
    "x1 = rng.uniform(0, 1, size=100)\n",
    "x2 = 0.5 * x1 + rng.normal(size=100) / 10\n",
    "y = 2 + 2 * x1 + 0.3 * x2 + rng.normal(size=100)\n",
    "\n",
    "x1 = np.concatenate([x1, [0.1]])\n",
    "x2 = np.concatenate([x2, [0.8]])\n",
    "y = np.concatenate([y, [6]])\n",
    "\n",
    "# Ajustar la regresión de mínimos cuadrados\n",
    "X = np.column_stack((np.ones_like(x1), x1, x2))\n",
    "beta = np.linalg.lstsq(X, y, rcond=None)[0]\n",
    "\n",
    "# Imprimir los resultados\n",
    "print(\"Coeficientes de la regresión:\")\n",
    "print(\"Intercepto:\", beta[0])\n",
    "print(\"Coeficiente de x1:\", beta[1])\n",
    "print(\"Coeficiente de x2:\", beta[2])"
   ]
  },
  {
   "cell_type": "markdown",
   "metadata": {},
   "source": [
    "Ajuste del punto e"
   ]
  },
  {
   "cell_type": "code",
   "execution_count": 40,
   "metadata": {},
   "outputs": [
    {
     "name": "stdout",
     "output_type": "stream",
     "text": [
      "Coeficientes de la regresión:\n",
      "Intercepto: 2.2840118640185625\n",
      "Coeficiente de x1: 3.1458486275754862\n"
     ]
    }
   ],
   "source": [
    "# Generar los datos\n",
    "rng = np.random.default_rng(10)\n",
    "x1 = rng.uniform(0, 1, size=100)\n",
    "x2 = 0.5 * x1 + rng.normal(size=100) / 10\n",
    "y = 2 + 2 * x1 + 0.3 * x2 + rng.normal(size=100)\n",
    "\n",
    "x1 = np.concatenate([x1, [0.1]])\n",
    "x2 = np.concatenate([x2, [0.8]])\n",
    "y = np.concatenate([y, [6]])\n",
    "\n",
    "# Ajustar la regresión de mínimos cuadrados\n",
    "X = np.column_stack((np.ones_like(x2), x2))\n",
    "beta = np.linalg.lstsq(X, y, rcond=None)[0]\n",
    "\n",
    "# Imprimir los resultados\n",
    "print(\"Coeficientes de la regresión:\")\n",
    "print(\"Intercepto:\", beta[0])\n",
    "print(\"Coeficiente de x1:\", beta[1])"
   ]
  },
  {
   "cell_type": "markdown",
   "metadata": {},
   "source": [
    "Considero que genero un gran cambio en los coeficientes de los modelos, lo que puede implicar que el valor agregado en la variable x1 es un valor atipico generando este gran cambio. Esto lo podemos evidenciar en el modelo del punto C Vs el modelo del punto C ajustado. Para el punto e seria lo contrario, no afecta tanto el modelo, lo que significa que el dato agregado en la variable x2 que se agregaron no son atipicos"
   ]
  }
 ],
 "metadata": {
  "kernelspec": {
   "display_name": "Taller1_Estadistica-fldT_h8R",
   "language": "python",
   "name": "python3"
  },
  "language_info": {
   "codemirror_mode": {
    "name": "ipython",
    "version": 3
   },
   "file_extension": ".py",
   "mimetype": "text/x-python",
   "name": "python",
   "nbconvert_exporter": "python",
   "pygments_lexer": "ipython3",
   "version": "3.11.5"
  }
 },
 "nbformat": 4,
 "nbformat_minor": 2
}
