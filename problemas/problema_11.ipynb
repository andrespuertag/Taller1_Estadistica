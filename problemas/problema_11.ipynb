{
 "cells": [
  {
   "cell_type": "markdown",
   "metadata": {},
   "source": [
    "![image.png](images/enunciado_problema_11.png)"
   ]
  },
  {
   "cell_type": "code",
   "execution_count": 3,
   "metadata": {},
   "outputs": [],
   "source": [
    "import numpy as np"
   ]
  },
  {
   "cell_type": "code",
   "execution_count": 4,
   "metadata": {},
   "outputs": [],
   "source": [
    "def exponential_distribution(lambda_, n):\n",
    "    return np.random.exponential(scale=1 / lambda_, size=n)\n",
    "\n",
    "def first_estimator(data):\n",
    "    return data[0]\n",
    "\n",
    "def second_estimator(data):\n",
    "    result = np.sum(data) - data[len(data) - 1]\n",
    "    return result / (len(data) - 1)\n",
    "\n",
    "\n",
    "def third_estimator(data):\n",
    "    return np.mean(data)\n",
    "\n",
    "def fourth_estimator(data):\n",
    "    return np.min(data)"
   ]
  },
  {
   "cell_type": "code",
   "execution_count": 5,
   "metadata": {},
   "outputs": [
    {
     "name": "stdout",
     "output_type": "stream",
     "text": [
      "First estimator with 10 data points: 2.355749701666982\n",
      "Second estimator with 10 data points 1.1622239442502216\n",
      "Third estimatorwith 10 data points 1.0479216689615327\n",
      "Fourth estimator with 10 data points 0.019201191363333592\n",
      "-------------------------------------------------------\n",
      "First estimator with 100 data points: 4.6825515207596204\n",
      "Second estimator with 100 data points 1.0720393866622944\n",
      "Third estimatorwith 100 data points 1.067431696693326\n",
      "Fourth estimator with 100 data points 0.04339406709043315\n",
      "-------------------------------------------------------\n",
      "First estimator with 1000 data points: 0.47355255599549556\n",
      "Second estimator with 1000 data points 0.9844864260167003\n",
      "Third estimatorwith 1000 data points 0.9845191497260966\n",
      "Fourth estimator with 1000 data points 0.0021142104708184476\n",
      "-------------------------------------------------------\n"
     ]
    }
   ],
   "source": [
    "lambda_ = 1\n",
    "data_lengths = [10, 100, 1000]\n",
    "for length in data_lengths:\n",
    "    data = exponential_distribution(lambda_, length)\n",
    "    print(f\"First estimator with {length} data points:\", first_estimator(data))\n",
    "    print(f\"Second estimator with {length} data points\", second_estimator(data))\n",
    "    print(f\"Third estimatorwith {length} data points\", third_estimator(data))\n",
    "    print(f\"Fourth estimator with {length} data points\", fourth_estimator(data))\n",
    "    print(\"-------------------------------------------------------\")"
   ]
  }
 ],
 "metadata": {
  "kernelspec": {
   "display_name": "Taller1_Estadistica-u9N2_7Dj",
   "language": "python",
   "name": "python3"
  },
  "language_info": {
   "codemirror_mode": {
    "name": "ipython",
    "version": 3
   },
   "file_extension": ".py",
   "mimetype": "text/x-python",
   "name": "python",
   "nbconvert_exporter": "python",
   "pygments_lexer": "ipython3",
   "version": "3.11.5"
  }
 },
 "nbformat": 4,
 "nbformat_minor": 2
}
