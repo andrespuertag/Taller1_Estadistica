{
 "cells": [
  {
   "cell_type": "code",
   "execution_count": 1,
   "metadata": {},
   "outputs": [],
   "source": [
    "import numpy as np\n",
    "import matplotlib.pyplot as plt\n",
    "import random\n",
    "import collections\n",
    "import pandas as pd\n",
    "import plotly.express as px\n",
    "from scipy import stats"
   ]
  },
  {
   "cell_type": "markdown",
   "metadata": {},
   "source": [
    "1. Suponga que se cuenta con una prueba para detectar la enfermedad A, que es positiva el 90% \n",
    "de las veces cuando se realiza en un paciente que tiene dicha enfermedad, y es negativa el 95% \n",
    "de las veces cuando se realiza en una persona que no tiene la enfermedad. También se sabe que \n",
    "la enfermedad afecta a un 1% de la población.  \n",
    " \n",
    "2. Construya  una  muestra  aleatoria  de  tamaño  100000,  que  contenga  “Sí”  y  “No”,  con \n",
    "probabilidades de 1% y 99%, respectivamente."
   ]
  },
  {
   "cell_type": "code",
   "execution_count": 2,
   "metadata": {},
   "outputs": [],
   "source": [
    "n=100000\n",
    "\n",
    "def crear_muestra_aleatoria():\n",
    "  return random.choices([\"Sí\", \"No\"], k=n, weights=[0.01, 0.99])"
   ]
  },
  {
   "cell_type": "code",
   "execution_count": 3,
   "metadata": {},
   "outputs": [
    {
     "data": {
      "text/html": [
       "<div>\n",
       "<style scoped>\n",
       "    .dataframe tbody tr th:only-of-type {\n",
       "        vertical-align: middle;\n",
       "    }\n",
       "\n",
       "    .dataframe tbody tr th {\n",
       "        vertical-align: top;\n",
       "    }\n",
       "\n",
       "    .dataframe thead th {\n",
       "        text-align: right;\n",
       "    }\n",
       "</style>\n",
       "<table border=\"1\" class=\"dataframe\">\n",
       "  <thead>\n",
       "    <tr style=\"text-align: right;\">\n",
       "      <th></th>\n",
       "      <th>Infectado</th>\n",
       "    </tr>\n",
       "  </thead>\n",
       "  <tbody>\n",
       "    <tr>\n",
       "      <th>0</th>\n",
       "      <td>No</td>\n",
       "    </tr>\n",
       "    <tr>\n",
       "      <th>1</th>\n",
       "      <td>No</td>\n",
       "    </tr>\n",
       "    <tr>\n",
       "      <th>2</th>\n",
       "      <td>No</td>\n",
       "    </tr>\n",
       "    <tr>\n",
       "      <th>3</th>\n",
       "      <td>No</td>\n",
       "    </tr>\n",
       "    <tr>\n",
       "      <th>4</th>\n",
       "      <td>No</td>\n",
       "    </tr>\n",
       "  </tbody>\n",
       "</table>\n",
       "</div>"
      ],
      "text/plain": [
       "  Infectado\n",
       "0        No\n",
       "1        No\n",
       "2        No\n",
       "3        No\n",
       "4        No"
      ]
     },
     "execution_count": 3,
     "metadata": {},
     "output_type": "execute_result"
    }
   ],
   "source": [
    "muestra = crear_muestra_aleatoria()\n",
    "\n",
    "df=pd.DataFrame({\"Infectado\": muestra})\n",
    "df.head()"
   ]
  },
  {
   "cell_type": "code",
   "execution_count": 4,
   "metadata": {},
   "outputs": [
    {
     "data": {
      "text/plain": [
       "Infectado\n",
       "No           98958\n",
       "Sí            1042\n",
       "Name: count, dtype: int64"
      ]
     },
     "execution_count": 4,
     "metadata": {},
     "output_type": "execute_result"
    }
   ],
   "source": [
    "df.value_counts()"
   ]
  },
  {
   "cell_type": "code",
   "execution_count": 5,
   "metadata": {},
   "outputs": [
    {
     "name": "stdout",
     "output_type": "stream",
     "text": [
      "(0.01012, 0.98988)\n"
     ]
    }
   ],
   "source": [
    "def calcular_probabilidad(muestra):\n",
    "  contador = collections.Counter(muestra)\n",
    "  return (contador[\"Sí\"] / len(muestra), contador[\"No\"] / len(muestra))\n",
    "\n",
    "muestra = crear_muestra_aleatoria()\n",
    "probabilidad = calcular_probabilidad(muestra)\n",
    "\n",
    "print(probabilidad)"
   ]
  },
  {
   "cell_type": "markdown",
   "metadata": {},
   "source": [
    "3. Construya una muestra aleatoria a partir del vector de valores (“Negativo” y “Positivo”), que \n",
    "de  cuenta  de  que  la  probabilidad  de  que  el  test  salga  “Negativo”  dado  que  “No”  tiene  la \n",
    "enfermedad A es del 90%. Presente tablas de contingencia cruzadas condicionadas de acuerdo \n",
    "con si tiene o no tiene la enfermedad. "
   ]
  },
  {
   "cell_type": "markdown",
   "metadata": {},
   "source": [
    "4. Construya una muestra aleatoria a partir del vector de valores (“Negativo” y “Positivo”), que \n",
    "de cuenta de que la probabilidad de que el test salga “Positivo” dado que “Sí” tiene la \n",
    "enfermedad A es del 90%. Presente tablas de contingencia cruzadas condicionadas de acuerdo \n",
    "con si tiene o no tiene la enfermedad."
   ]
  },
  {
   "cell_type": "code",
   "execution_count": 6,
   "metadata": {},
   "outputs": [
    {
     "name": "stdout",
     "output_type": "stream",
     "text": [
      "Resultado_test\n",
      "Negativo    0.94027\n",
      "Positivo    0.05973\n",
      "Name: proportion, dtype: float64\n"
     ]
    }
   ],
   "source": [
    "# Agregar la columna \"Resultado_test\" basada en las reglas de probabilidad\n",
    "df[\"Resultado_test\"] = np.where((df[\"Infectado\"] == \"Sí\") & (np.random.rand(n) < 0.9), \"Positivo\", \"Negativo\")\n",
    "df.loc[(df[\"Infectado\"] == \"No\") & (np.random.rand(n) < 0.05), \"Resultado_test\"] = \"Positivo\"\n",
    "\n",
    "# Verificar la proporción final de \"Resultado_test\"\n",
    "proporcion_resultado = df[\"Resultado_test\"].value_counts(normalize=True)\n",
    "print(proporcion_resultado)"
   ]
  },
  {
   "cell_type": "code",
   "execution_count": 7,
   "metadata": {},
   "outputs": [
    {
     "data": {
      "text/html": [
       "<div>\n",
       "<style scoped>\n",
       "    .dataframe tbody tr th:only-of-type {\n",
       "        vertical-align: middle;\n",
       "    }\n",
       "\n",
       "    .dataframe tbody tr th {\n",
       "        vertical-align: top;\n",
       "    }\n",
       "\n",
       "    .dataframe thead th {\n",
       "        text-align: right;\n",
       "    }\n",
       "</style>\n",
       "<table border=\"1\" class=\"dataframe\">\n",
       "  <thead>\n",
       "    <tr style=\"text-align: right;\">\n",
       "      <th></th>\n",
       "      <th></th>\n",
       "      <th>Resultado_test</th>\n",
       "    </tr>\n",
       "    <tr>\n",
       "      <th>Infectado</th>\n",
       "      <th>Resultado_test</th>\n",
       "      <th></th>\n",
       "    </tr>\n",
       "  </thead>\n",
       "  <tbody>\n",
       "    <tr>\n",
       "      <th rowspan=\"2\" valign=\"top\">No</th>\n",
       "      <th>Negativo</th>\n",
       "      <td>93921</td>\n",
       "    </tr>\n",
       "    <tr>\n",
       "      <th>Positivo</th>\n",
       "      <td>5037</td>\n",
       "    </tr>\n",
       "    <tr>\n",
       "      <th rowspan=\"2\" valign=\"top\">Sí</th>\n",
       "      <th>Negativo</th>\n",
       "      <td>106</td>\n",
       "    </tr>\n",
       "    <tr>\n",
       "      <th>Positivo</th>\n",
       "      <td>936</td>\n",
       "    </tr>\n",
       "  </tbody>\n",
       "</table>\n",
       "</div>"
      ],
      "text/plain": [
       "                          Resultado_test\n",
       "Infectado Resultado_test                \n",
       "No        Negativo                 93921\n",
       "          Positivo                  5037\n",
       "Sí        Negativo                   106\n",
       "          Positivo                   936"
      ]
     },
     "execution_count": 7,
     "metadata": {},
     "output_type": "execute_result"
    }
   ],
   "source": [
    "df.groupby([\"Infectado\",\"Resultado_test\"])[[\"Resultado_test\"]].count()"
   ]
  },
  {
   "cell_type": "code",
   "execution_count": 8,
   "metadata": {},
   "outputs": [
    {
     "data": {
      "text/html": [
       "<div>\n",
       "<style scoped>\n",
       "    .dataframe tbody tr th:only-of-type {\n",
       "        vertical-align: middle;\n",
       "    }\n",
       "\n",
       "    .dataframe tbody tr th {\n",
       "        vertical-align: top;\n",
       "    }\n",
       "\n",
       "    .dataframe thead th {\n",
       "        text-align: right;\n",
       "    }\n",
       "</style>\n",
       "<table border=\"1\" class=\"dataframe\">\n",
       "  <thead>\n",
       "    <tr style=\"text-align: right;\">\n",
       "      <th></th>\n",
       "      <th></th>\n",
       "      <th>Resultado_test</th>\n",
       "    </tr>\n",
       "    <tr>\n",
       "      <th>Resultado_test</th>\n",
       "      <th>Infectado</th>\n",
       "      <th></th>\n",
       "    </tr>\n",
       "  </thead>\n",
       "  <tbody>\n",
       "    <tr>\n",
       "      <th rowspan=\"2\" valign=\"top\">Negativo</th>\n",
       "      <th>No</th>\n",
       "      <td>93921</td>\n",
       "    </tr>\n",
       "    <tr>\n",
       "      <th>Sí</th>\n",
       "      <td>106</td>\n",
       "    </tr>\n",
       "    <tr>\n",
       "      <th rowspan=\"2\" valign=\"top\">Positivo</th>\n",
       "      <th>No</th>\n",
       "      <td>5037</td>\n",
       "    </tr>\n",
       "    <tr>\n",
       "      <th>Sí</th>\n",
       "      <td>936</td>\n",
       "    </tr>\n",
       "  </tbody>\n",
       "</table>\n",
       "</div>"
      ],
      "text/plain": [
       "                          Resultado_test\n",
       "Resultado_test Infectado                \n",
       "Negativo       No                  93921\n",
       "               Sí                    106\n",
       "Positivo       No                   5037\n",
       "               Sí                    936"
      ]
     },
     "execution_count": 8,
     "metadata": {},
     "output_type": "execute_result"
    }
   ],
   "source": [
    "df.groupby([\"Resultado_test\",\"Infectado\"])[[\"Resultado_test\"]].count()"
   ]
  },
  {
   "cell_type": "code",
   "execution_count": 9,
   "metadata": {},
   "outputs": [
    {
     "data": {
      "text/html": [
       "<div>\n",
       "<style scoped>\n",
       "    .dataframe tbody tr th:only-of-type {\n",
       "        vertical-align: middle;\n",
       "    }\n",
       "\n",
       "    .dataframe tbody tr th {\n",
       "        vertical-align: top;\n",
       "    }\n",
       "\n",
       "    .dataframe thead th {\n",
       "        text-align: right;\n",
       "    }\n",
       "</style>\n",
       "<table border=\"1\" class=\"dataframe\">\n",
       "  <thead>\n",
       "    <tr style=\"text-align: right;\">\n",
       "      <th></th>\n",
       "      <th>Infectado</th>\n",
       "      <th>Resultado_test</th>\n",
       "    </tr>\n",
       "  </thead>\n",
       "  <tbody>\n",
       "    <tr>\n",
       "      <th>0</th>\n",
       "      <td>No</td>\n",
       "      <td>Negativo</td>\n",
       "    </tr>\n",
       "    <tr>\n",
       "      <th>1</th>\n",
       "      <td>No</td>\n",
       "      <td>Negativo</td>\n",
       "    </tr>\n",
       "    <tr>\n",
       "      <th>2</th>\n",
       "      <td>No</td>\n",
       "      <td>Negativo</td>\n",
       "    </tr>\n",
       "    <tr>\n",
       "      <th>3</th>\n",
       "      <td>No</td>\n",
       "      <td>Positivo</td>\n",
       "    </tr>\n",
       "    <tr>\n",
       "      <th>4</th>\n",
       "      <td>No</td>\n",
       "      <td>Negativo</td>\n",
       "    </tr>\n",
       "    <tr>\n",
       "      <th>...</th>\n",
       "      <td>...</td>\n",
       "      <td>...</td>\n",
       "    </tr>\n",
       "    <tr>\n",
       "      <th>99995</th>\n",
       "      <td>No</td>\n",
       "      <td>Negativo</td>\n",
       "    </tr>\n",
       "    <tr>\n",
       "      <th>99996</th>\n",
       "      <td>No</td>\n",
       "      <td>Negativo</td>\n",
       "    </tr>\n",
       "    <tr>\n",
       "      <th>99997</th>\n",
       "      <td>Sí</td>\n",
       "      <td>Positivo</td>\n",
       "    </tr>\n",
       "    <tr>\n",
       "      <th>99998</th>\n",
       "      <td>No</td>\n",
       "      <td>Positivo</td>\n",
       "    </tr>\n",
       "    <tr>\n",
       "      <th>99999</th>\n",
       "      <td>No</td>\n",
       "      <td>Negativo</td>\n",
       "    </tr>\n",
       "  </tbody>\n",
       "</table>\n",
       "<p>100000 rows × 2 columns</p>\n",
       "</div>"
      ],
      "text/plain": [
       "      Infectado Resultado_test\n",
       "0            No       Negativo\n",
       "1            No       Negativo\n",
       "2            No       Negativo\n",
       "3            No       Positivo\n",
       "4            No       Negativo\n",
       "...         ...            ...\n",
       "99995        No       Negativo\n",
       "99996        No       Negativo\n",
       "99997        Sí       Positivo\n",
       "99998        No       Positivo\n",
       "99999        No       Negativo\n",
       "\n",
       "[100000 rows x 2 columns]"
      ]
     },
     "execution_count": 9,
     "metadata": {},
     "output_type": "execute_result"
    }
   ],
   "source": [
    "df"
   ]
  },
  {
   "cell_type": "markdown",
   "metadata": {},
   "source": [
    "5. Calcule la probabilidad de tener la enfermedad dado que el test salió positivo. Realice los \n",
    "cálculos utilizando las variables simuladas. "
   ]
  },
  {
   "cell_type": "code",
   "execution_count": 10,
   "metadata": {},
   "outputs": [
    {
     "name": "stdout",
     "output_type": "stream",
     "text": [
      "Infectados con test positivo: 936\n",
      "Total test positivos: 5973\n",
      "Probabilidad de estar infectado con test positivo:  0.1567051732797589\n"
     ]
    }
   ],
   "source": [
    "\n",
    "pacientes_infectados_positivos = df[(df[\"Infectado\"] == \"Sí\") & (df[\"Resultado_test\"] == \"Positivo\")]\n",
    "pacientes_infectados_positivos = pacientes_infectados_positivos.shape[0]\n",
    "\n",
    "pacientes_positivos= df[df[\"Resultado_test\"] == \"Positivo\"]\n",
    "pacientes_positivos= pacientes_positivos.shape[0]\n",
    "\n",
    "\n",
    "probabilidad_infectado_verdadero_positivo = pacientes_infectados_positivos/pacientes_positivos\n",
    "\n",
    "print(f\"Infectados con test positivo: {pacientes_infectados_positivos}\")\n",
    "print(f\"Total test positivos: {pacientes_positivos}\")\n",
    "print(f\"Probabilidad de estar infectado con test positivo:  {probabilidad_infectado_verdadero_positivo}\")\n"
   ]
  },
  {
   "cell_type": "markdown",
   "metadata": {},
   "source": [
    "6. Realice los cálculos del punto anterior, utilizando la información del enunciado y el Teorema \n",
    "de Bayes. ¿Qué puede concluir? "
   ]
  },
  {
   "cell_type": "markdown",
   "metadata": {},
   "source": [
    "Para calcular la probabilidad de tener la enfermedad dado que el test salió positivo utilizando el Teorema de Bayes y la información del enunciado, podemos seguir los pasos que se mencionaron previamente. Aquí está el cálculo:\n",
    "\n",
    "1. Probabilidad de tener la enfermedad (P(Enfermedad)):\n",
    "   - En el enunciado, se menciona que el 1% de la muestra tiene la enfermedad, por lo que \\(P({Enfermedad}) = 0.01\\).\n",
    "\n",
    "2. Probabilidad de obtener un resultado positivo en el test dado que se tiene la enfermedad (P(Positivo | Enfermedad)):\n",
    "   - En el enunciado, se establece que el 90% de las personas infectadas obtiene un resultado positivo, es decir, \\(P({Positivo} | {Enfermedad}) = 0.9\\).\n",
    "\n",
    "3. Probabilidad de no tener la enfermedad (P(¬Enfermedad)):\n",
    "   - \\(P({¬Enfermedad}) = 1 - P({Enfermedad}) = 0.99\\).\n",
    "\n",
    "4. Probabilidad de obtener un resultado positivo en el test dado que no se tiene la enfermedad (P(Positivo | ¬Enfermedad)):\n",
    "   - En el enunciado, se establece que el 5% de las personas no infectadas obtiene un resultado positivo, es decir, \\(P({Positivo} | {¬Enfermedad}) = 0.05\\).\n",
    "\n",
    "5. Probabilidad de obtener un resultado positivo en el test (P(Positivo)):\n",
    "   - Utilizando el teorema de probabilidad total:\n",
    "   \\[P({Positivo}) = P({Positivo} | {Enfermedad}) \\cdot P({Enfermedad}) + P({Positivo} | {¬Enfermedad}) \\cdot P({¬Enfermedad})\\]\n",
    "   - Sustituyendo los valores:\n",
    "   \\[P({Positivo}) = 0.9 \\cdot 0.01 + 0.05 \\cdot 0.99\\]\n",
    "   \\[P({Positivo}) = 0.0145\\]\n",
    "\n",
    "6. Probabilidad de tener la enfermedad dado que el test salió positivo (P(Enfermedad | Positivo)):\n",
    "   - Utilizando el Teorema de Bayes:\n",
    "   \\[P({Enfermedad} | {Positivo}) = \\frac{P({Positivo} | {Enfermedad}) \\cdot P({Enfermedad})}{P({Positivo})}\\]\n",
    "   - Sustituyendo los valores:\n",
    "   \\[P({Enfermedad} | {Positivo}) = \\frac{0.9 \\cdot 0.01}{0.0145} \\approx 0.6207\\]\n",
    "\n",
    "Por lo tanto, la probabilidad de tener la enfermedad dado que el test salió positivo es aproximadamente 0.6207 o alrededor del 62.07%. Esto significa que si alguien obtiene un resultado positivo en el test, la probabilidad de que realmente tenga la enfermedad es del 62.07%."
   ]
  },
  {
   "cell_type": "code",
   "execution_count": 11,
   "metadata": {},
   "outputs": [
    {
     "name": "stdout",
     "output_type": "stream",
     "text": [
      "Probabilidad de tener la enfermedad dado que el test salió positivo: 0.15384615384615385\n"
     ]
    }
   ],
   "source": [
    "# Probabilidad de tener la enfermedad (P(Enfermedad))\n",
    "p_enfermedad = 0.01\n",
    "\n",
    "# Probabilidad de obtener un resultado positivo en el test dado que se tiene la enfermedad (P(Positivo | Enfermedad))\n",
    "p_positivo_enfermedad = 0.9\n",
    "\n",
    "# Probabilidad de no tener la enfermedad (P(¬Enfermedad))\n",
    "p_no_enfermedad = 1 - p_enfermedad\n",
    "\n",
    "# Probabilidad de obtener un resultado positivo en el test dado que no se tiene la enfermedad (P(Positivo | ¬Enfermedad))\n",
    "p_positivo_no_enfermedad = 0.05\n",
    "\n",
    "# Probabilidad de obtener un resultado positivo en el test (P(Positivo))\n",
    "p_positivo = (p_positivo_enfermedad * p_enfermedad) + (p_positivo_no_enfermedad * p_no_enfermedad)\n",
    "\n",
    "# Probabilidad de tener la enfermedad dado que el test salió positivo (P(Enfermedad | Positivo))\n",
    "p_enfermedad_positivo = (p_positivo_enfermedad * p_enfermedad) / p_positivo\n",
    "\n",
    "print(\"Probabilidad de tener la enfermedad dado que el test salió positivo:\", p_enfermedad_positivo)\n"
   ]
  }
 ],
 "metadata": {
  "kernelspec": {
   "display_name": "Taller1_Estadistica-fldT_h8R",
   "language": "python",
   "name": "python3"
  },
  "language_info": {
   "codemirror_mode": {
    "name": "ipython",
    "version": 3
   },
   "file_extension": ".py",
   "mimetype": "text/x-python",
   "name": "python",
   "nbconvert_exporter": "python",
   "pygments_lexer": "ipython3",
   "version": "3.11.4"
  }
 },
 "nbformat": 4,
 "nbformat_minor": 2
}
