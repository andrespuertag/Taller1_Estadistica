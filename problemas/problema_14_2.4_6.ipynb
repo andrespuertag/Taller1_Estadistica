{
 "cells": [
  {
   "cell_type": "markdown",
   "metadata": {},
   "source": [
    "Describe the diferences between a parametric and a non-parametric statistical learning approach. What are the advantages of a parametric approach to regression or classifcation (as opposed to a non-parametric approach)? What are its disadvantages?"
   ]
  },
  {
   "cell_type": "markdown",
   "metadata": {},
   "source": [
    "Las diferencias entre un enfoque de aprendizaje estadístico **paramétrico** y **no paramétrico** son:\n",
    "\n",
    "- **Enfoque paramétrico:** \n",
    "1. Se asume que los datos siguen un **modelo predefinido** con un número de parámetros fijos. Dicho modelo predefinido se basa en suposiciones que se deben cumplir para que los resultados tengan sentido estadístico.\n",
    "\n",
    "2. Bajo este enfoque los datos deben cumplir alguna distribución de probabilidad estadística específica para que el modelo sea válido.\n",
    "\n",
    "3. El objetivo principal de este enfoque es estimar los parámetros fijos desconocidos a partir de datos observados.\n",
    "\n",
    "Las principales ventajas de este enfoque son: Su eficiencia cuando los datos se ajustan a los supuestos de los modelos y, su interpretabilidad de los parámetros estimados.\n",
    "\n",
    "Por otra parte, su principal desventaja es que si los datos no siguen la distribución adecuada y no cumplen los demás supuestos de los modelos, las estimaciones sobre los parámetros reales no serán acertadas.\n",
    "\n",
    "\n",
    "- **Enfoque no paramétrico:**\n",
    "1. Bajo este enfoque el modelo es libre, es decir, no se asume una dsitribución específica de los datos y de trabaja con la menor cantidad de supuestos posibles. Esto causa que el modelo sea flexible y que se ajuste a los datos sin restricciones específicas.\n",
    "\n",
    "2. Permite que la forma de la relación entre las variables sea determinada por los datos y no por parámetros fijos, esto los hace adecuados para situaciones en las que no se conocen las caracteristicas de la distribución subyacente o cuando la distribución de los datos no se ajusta a una distribución de probabilidad estadística específica.\n",
    "\n",
    "La principal ventaja del enfoque no paramétrico que su flexibilidad permite permite capturar patrones en los datos sin suponer una distribución estadística específica.\n",
    "\n",
    "Su desventaja es que la interpretación de los reusltados es más compleja que bajo en el enfoque parámetrico y, en muchos casos, de poco valor.\n",
    "\n",
    "Por ejemplo, para un modelo de regresión, las ventajas de usa un efoque parámetrico, es que garantiza el cumplimiento de todos sus supuestos y, por lo tanto, los valores estimados son los de menor error y, por lo tanto, se ajustarán muy bien a los valores reales o poblacionales. Por otra parte, si usamos un enfoque no parámetrico, la estimación estaría muy sesgada y su interpretabilidad puede estar completamente desalineada con la realidad."
   ]
  }
 ],
 "metadata": {
  "kernelspec": {
   "display_name": "Taller1_Estadistica-hEzBuzBD",
   "language": "python",
   "name": "python3"
  },
  "language_info": {
   "codemirror_mode": {
    "name": "ipython",
    "version": 3
   },
   "file_extension": ".py",
   "mimetype": "text/x-python",
   "name": "python",
   "nbconvert_exporter": "python",
   "pygments_lexer": "ipython3",
   "version": "3.11.5"
  }
 },
 "nbformat": 4,
 "nbformat_minor": 2
}
