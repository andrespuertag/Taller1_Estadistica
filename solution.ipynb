{
 "cells": [
  {
   "cell_type": "code",
   "execution_count": 85,
   "metadata": {},
   "outputs": [],
   "source": [
    "import numpy as np\n",
    "import matplotlib.pyplot as plt\n",
    "import random\n",
    "import collections\n",
    "import pandas as pd\n",
    "import plotly.express as px\n",
    "\n",
    "#from scipy.stats import norm"
   ]
  },
  {
   "cell_type": "markdown",
   "metadata": {},
   "source": [
    "# Parte 1"
   ]
  },
  {
   "cell_type": "markdown",
   "metadata": {},
   "source": [
    "1. Suponga que se cuenta con una prueba para detectar la enfermedad A, que es positiva el 90% \n",
    "de las veces cuando se realiza en un paciente que tiene dicha enfermedad, y es negativa el 95% \n",
    "de las veces cuando se realiza en una persona que no tiene la enfermedad. También se sabe que \n",
    "la enfermedad afecta a un 1% de la población.  \n",
    " \n",
    "2. Construya  una  muestra  aleatoria  de  tamaño  100000,  que  contenga  “Sí”  y  “No”,  con \n",
    "probabilidades de 1% y 99%, respectivamente."
   ]
  },
  {
   "cell_type": "code",
   "execution_count": 62,
   "metadata": {},
   "outputs": [],
   "source": [
    "n=100000\n",
    "\n",
    "def crear_muestra_aleatoria():\n",
    "  return random.choices([\"Sí\", \"No\"], k=n, weights=[0.01, 0.99])"
   ]
  },
  {
   "cell_type": "code",
   "execution_count": 63,
   "metadata": {},
   "outputs": [
    {
     "data": {
      "text/html": [
       "<div>\n",
       "<style scoped>\n",
       "    .dataframe tbody tr th:only-of-type {\n",
       "        vertical-align: middle;\n",
       "    }\n",
       "\n",
       "    .dataframe tbody tr th {\n",
       "        vertical-align: top;\n",
       "    }\n",
       "\n",
       "    .dataframe thead th {\n",
       "        text-align: right;\n",
       "    }\n",
       "</style>\n",
       "<table border=\"1\" class=\"dataframe\">\n",
       "  <thead>\n",
       "    <tr style=\"text-align: right;\">\n",
       "      <th></th>\n",
       "      <th>Infectado</th>\n",
       "    </tr>\n",
       "  </thead>\n",
       "  <tbody>\n",
       "    <tr>\n",
       "      <th>0</th>\n",
       "      <td>No</td>\n",
       "    </tr>\n",
       "    <tr>\n",
       "      <th>1</th>\n",
       "      <td>No</td>\n",
       "    </tr>\n",
       "    <tr>\n",
       "      <th>2</th>\n",
       "      <td>No</td>\n",
       "    </tr>\n",
       "    <tr>\n",
       "      <th>3</th>\n",
       "      <td>No</td>\n",
       "    </tr>\n",
       "    <tr>\n",
       "      <th>4</th>\n",
       "      <td>No</td>\n",
       "    </tr>\n",
       "  </tbody>\n",
       "</table>\n",
       "</div>"
      ],
      "text/plain": [
       "  Infectado\n",
       "0        No\n",
       "1        No\n",
       "2        No\n",
       "3        No\n",
       "4        No"
      ]
     },
     "execution_count": 63,
     "metadata": {},
     "output_type": "execute_result"
    }
   ],
   "source": [
    "muestra = crear_muestra_aleatoria()\n",
    "\n",
    "df=pd.DataFrame({\"Infectado\": muestra})\n",
    "df.head()"
   ]
  },
  {
   "cell_type": "code",
   "execution_count": 64,
   "metadata": {},
   "outputs": [
    {
     "data": {
      "text/plain": [
       "Infectado\n",
       "No           98986\n",
       "Sí            1014\n",
       "Name: count, dtype: int64"
      ]
     },
     "execution_count": 64,
     "metadata": {},
     "output_type": "execute_result"
    }
   ],
   "source": [
    "df.value_counts()"
   ]
  },
  {
   "cell_type": "code",
   "execution_count": 65,
   "metadata": {},
   "outputs": [
    {
     "name": "stdout",
     "output_type": "stream",
     "text": [
      "(0.0094, 0.9906)\n"
     ]
    }
   ],
   "source": [
    "def calcular_probabilidad(muestra):\n",
    "  contador = collections.Counter(muestra)\n",
    "  return (contador[\"Sí\"] / len(muestra), contador[\"No\"] / len(muestra))\n",
    "\n",
    "muestra = crear_muestra_aleatoria()\n",
    "probabilidad = calcular_probabilidad(muestra)\n",
    "\n",
    "print(probabilidad)"
   ]
  },
  {
   "cell_type": "markdown",
   "metadata": {},
   "source": [
    "3. Construya una muestra aleatoria a partir del vector de valores (“Negativo” y “Positivo”), que \n",
    "de  cuenta  de  que  la  probabilidad  de  que  el  test  salga  “Negativo”  dado  que  “No”  tiene  la \n",
    "enfermedad A es del 90%. Presente tablas de contingencia cruzadas condicionadas de acuerdo \n",
    "con si tiene o no tiene la enfermedad. "
   ]
  },
  {
   "cell_type": "markdown",
   "metadata": {},
   "source": [
    "4. Construya una muestra aleatoria a partir del vector de valores (“Negativo” y “Positivo”), que \n",
    "de cuenta de que la probabilidad de que el test salga “Positivo” dado que “Sí” tiene la \n",
    "enfermedad A es del 90%. Presente tablas de contingencia cruzadas condicionadas de acuerdo \n",
    "con si tiene o no tiene la enfermedad."
   ]
  },
  {
   "cell_type": "code",
   "execution_count": 66,
   "metadata": {},
   "outputs": [
    {
     "name": "stdout",
     "output_type": "stream",
     "text": [
      "Resultado_test\n",
      "Negativo    0.94121\n",
      "Positivo    0.05879\n",
      "Name: proportion, dtype: float64\n"
     ]
    }
   ],
   "source": [
    "# Agregar la columna \"Resultado_test\" basada en las reglas de probabilidad\n",
    "df[\"Resultado_test\"] = np.where((df[\"Infectado\"] == \"Sí\") & (np.random.rand(n) < 0.9), \"Positivo\", \"Negativo\")\n",
    "df.loc[(df[\"Infectado\"] == \"No\") & (np.random.rand(n) < 0.05), \"Resultado_test\"] = \"Positivo\"\n",
    "\n",
    "# Verificar la proporción final de \"Resultado_test\"\n",
    "proporcion_resultado = df[\"Resultado_test\"].value_counts(normalize=True)\n",
    "print(proporcion_resultado)"
   ]
  },
  {
   "cell_type": "code",
   "execution_count": 67,
   "metadata": {},
   "outputs": [
    {
     "data": {
      "text/html": [
       "<div>\n",
       "<style scoped>\n",
       "    .dataframe tbody tr th:only-of-type {\n",
       "        vertical-align: middle;\n",
       "    }\n",
       "\n",
       "    .dataframe tbody tr th {\n",
       "        vertical-align: top;\n",
       "    }\n",
       "\n",
       "    .dataframe thead th {\n",
       "        text-align: right;\n",
       "    }\n",
       "</style>\n",
       "<table border=\"1\" class=\"dataframe\">\n",
       "  <thead>\n",
       "    <tr style=\"text-align: right;\">\n",
       "      <th></th>\n",
       "      <th></th>\n",
       "      <th>Resultado_test</th>\n",
       "    </tr>\n",
       "    <tr>\n",
       "      <th>Infectado</th>\n",
       "      <th>Resultado_test</th>\n",
       "      <th></th>\n",
       "    </tr>\n",
       "  </thead>\n",
       "  <tbody>\n",
       "    <tr>\n",
       "      <th rowspan=\"2\" valign=\"top\">No</th>\n",
       "      <th>Negativo</th>\n",
       "      <td>94017</td>\n",
       "    </tr>\n",
       "    <tr>\n",
       "      <th>Positivo</th>\n",
       "      <td>4969</td>\n",
       "    </tr>\n",
       "    <tr>\n",
       "      <th rowspan=\"2\" valign=\"top\">Sí</th>\n",
       "      <th>Negativo</th>\n",
       "      <td>104</td>\n",
       "    </tr>\n",
       "    <tr>\n",
       "      <th>Positivo</th>\n",
       "      <td>910</td>\n",
       "    </tr>\n",
       "  </tbody>\n",
       "</table>\n",
       "</div>"
      ],
      "text/plain": [
       "                          Resultado_test\n",
       "Infectado Resultado_test                \n",
       "No        Negativo                 94017\n",
       "          Positivo                  4969\n",
       "Sí        Negativo                   104\n",
       "          Positivo                   910"
      ]
     },
     "execution_count": 67,
     "metadata": {},
     "output_type": "execute_result"
    }
   ],
   "source": [
    "df.groupby([\"Infectado\",\"Resultado_test\"])[[\"Resultado_test\"]].count()"
   ]
  },
  {
   "cell_type": "code",
   "execution_count": 68,
   "metadata": {},
   "outputs": [
    {
     "data": {
      "text/html": [
       "<div>\n",
       "<style scoped>\n",
       "    .dataframe tbody tr th:only-of-type {\n",
       "        vertical-align: middle;\n",
       "    }\n",
       "\n",
       "    .dataframe tbody tr th {\n",
       "        vertical-align: top;\n",
       "    }\n",
       "\n",
       "    .dataframe thead th {\n",
       "        text-align: right;\n",
       "    }\n",
       "</style>\n",
       "<table border=\"1\" class=\"dataframe\">\n",
       "  <thead>\n",
       "    <tr style=\"text-align: right;\">\n",
       "      <th></th>\n",
       "      <th></th>\n",
       "      <th>Resultado_test</th>\n",
       "    </tr>\n",
       "    <tr>\n",
       "      <th>Resultado_test</th>\n",
       "      <th>Infectado</th>\n",
       "      <th></th>\n",
       "    </tr>\n",
       "  </thead>\n",
       "  <tbody>\n",
       "    <tr>\n",
       "      <th rowspan=\"2\" valign=\"top\">Negativo</th>\n",
       "      <th>No</th>\n",
       "      <td>94017</td>\n",
       "    </tr>\n",
       "    <tr>\n",
       "      <th>Sí</th>\n",
       "      <td>104</td>\n",
       "    </tr>\n",
       "    <tr>\n",
       "      <th rowspan=\"2\" valign=\"top\">Positivo</th>\n",
       "      <th>No</th>\n",
       "      <td>4969</td>\n",
       "    </tr>\n",
       "    <tr>\n",
       "      <th>Sí</th>\n",
       "      <td>910</td>\n",
       "    </tr>\n",
       "  </tbody>\n",
       "</table>\n",
       "</div>"
      ],
      "text/plain": [
       "                          Resultado_test\n",
       "Resultado_test Infectado                \n",
       "Negativo       No                  94017\n",
       "               Sí                    104\n",
       "Positivo       No                   4969\n",
       "               Sí                    910"
      ]
     },
     "execution_count": 68,
     "metadata": {},
     "output_type": "execute_result"
    }
   ],
   "source": [
    "df.groupby([\"Resultado_test\",\"Infectado\"])[[\"Resultado_test\"]].count()"
   ]
  },
  {
   "cell_type": "code",
   "execution_count": 69,
   "metadata": {},
   "outputs": [
    {
     "data": {
      "text/html": [
       "<div>\n",
       "<style scoped>\n",
       "    .dataframe tbody tr th:only-of-type {\n",
       "        vertical-align: middle;\n",
       "    }\n",
       "\n",
       "    .dataframe tbody tr th {\n",
       "        vertical-align: top;\n",
       "    }\n",
       "\n",
       "    .dataframe thead th {\n",
       "        text-align: right;\n",
       "    }\n",
       "</style>\n",
       "<table border=\"1\" class=\"dataframe\">\n",
       "  <thead>\n",
       "    <tr style=\"text-align: right;\">\n",
       "      <th></th>\n",
       "      <th>Infectado</th>\n",
       "      <th>Resultado_test</th>\n",
       "    </tr>\n",
       "  </thead>\n",
       "  <tbody>\n",
       "    <tr>\n",
       "      <th>0</th>\n",
       "      <td>No</td>\n",
       "      <td>Negativo</td>\n",
       "    </tr>\n",
       "    <tr>\n",
       "      <th>1</th>\n",
       "      <td>No</td>\n",
       "      <td>Negativo</td>\n",
       "    </tr>\n",
       "    <tr>\n",
       "      <th>2</th>\n",
       "      <td>No</td>\n",
       "      <td>Negativo</td>\n",
       "    </tr>\n",
       "    <tr>\n",
       "      <th>3</th>\n",
       "      <td>No</td>\n",
       "      <td>Negativo</td>\n",
       "    </tr>\n",
       "    <tr>\n",
       "      <th>4</th>\n",
       "      <td>No</td>\n",
       "      <td>Negativo</td>\n",
       "    </tr>\n",
       "    <tr>\n",
       "      <th>...</th>\n",
       "      <td>...</td>\n",
       "      <td>...</td>\n",
       "    </tr>\n",
       "    <tr>\n",
       "      <th>99995</th>\n",
       "      <td>No</td>\n",
       "      <td>Negativo</td>\n",
       "    </tr>\n",
       "    <tr>\n",
       "      <th>99996</th>\n",
       "      <td>No</td>\n",
       "      <td>Negativo</td>\n",
       "    </tr>\n",
       "    <tr>\n",
       "      <th>99997</th>\n",
       "      <td>No</td>\n",
       "      <td>Negativo</td>\n",
       "    </tr>\n",
       "    <tr>\n",
       "      <th>99998</th>\n",
       "      <td>No</td>\n",
       "      <td>Positivo</td>\n",
       "    </tr>\n",
       "    <tr>\n",
       "      <th>99999</th>\n",
       "      <td>No</td>\n",
       "      <td>Positivo</td>\n",
       "    </tr>\n",
       "  </tbody>\n",
       "</table>\n",
       "<p>100000 rows × 2 columns</p>\n",
       "</div>"
      ],
      "text/plain": [
       "      Infectado Resultado_test\n",
       "0            No       Negativo\n",
       "1            No       Negativo\n",
       "2            No       Negativo\n",
       "3            No       Negativo\n",
       "4            No       Negativo\n",
       "...         ...            ...\n",
       "99995        No       Negativo\n",
       "99996        No       Negativo\n",
       "99997        No       Negativo\n",
       "99998        No       Positivo\n",
       "99999        No       Positivo\n",
       "\n",
       "[100000 rows x 2 columns]"
      ]
     },
     "execution_count": 69,
     "metadata": {},
     "output_type": "execute_result"
    }
   ],
   "source": [
    "df"
   ]
  },
  {
   "cell_type": "markdown",
   "metadata": {},
   "source": [
    "5. Calcule la probabilidad de tener la enfermedad dado que el test salió positivo. Realice los \n",
    "cálculos utilizando las variables simuladas. "
   ]
  },
  {
   "cell_type": "code",
   "execution_count": 70,
   "metadata": {},
   "outputs": [
    {
     "name": "stdout",
     "output_type": "stream",
     "text": [
      "Infectados con test positivo: 910\n",
      "Total test positivos: 5879\n",
      "Probabilidad de estar infectado con test positivo:  0.1547882292906957\n"
     ]
    }
   ],
   "source": [
    "\n",
    "pacientes_infectados_positivos = df[(df[\"Infectado\"] == \"Sí\") & (df[\"Resultado_test\"] == \"Positivo\")]\n",
    "pacientes_infectados_positivos = pacientes_infectados_positivos.shape[0]\n",
    "\n",
    "pacientes_positivos= df[df[\"Resultado_test\"] == \"Positivo\"]\n",
    "pacientes_positivos= pacientes_positivos.shape[0]\n",
    "\n",
    "\n",
    "probabilidad_infectado_verdadero_positivo = pacientes_infectados_positivos/pacientes_positivos\n",
    "\n",
    "print(f\"Infectados con test positivo: {pacientes_infectados_positivos}\")\n",
    "print(f\"Total test positivos: {pacientes_positivos}\")\n",
    "print(f\"Probabilidad de estar infectado con test positivo:  {probabilidad_infectado_verdadero_positivo}\")\n"
   ]
  },
  {
   "cell_type": "markdown",
   "metadata": {},
   "source": [
    "6. Realice los cálculos del punto anterior, utilizando la información del enunciado y el Teorema \n",
    "de Bayes. ¿Qué puede concluir? "
   ]
  },
  {
   "cell_type": "markdown",
   "metadata": {},
   "source": [
    "Para calcular la probabilidad de tener la enfermedad dado que el test salió positivo utilizando el Teorema de Bayes y la información del enunciado, podemos seguir los pasos que se mencionaron previamente. Aquí está el cálculo:\n",
    "\n",
    "1. Probabilidad de tener la enfermedad (P(Enfermedad)):\n",
    "   - En el enunciado, se menciona que el 1% de la muestra tiene la enfermedad, por lo que \\(P({Enfermedad}) = 0.01\\).\n",
    "\n",
    "2. Probabilidad de obtener un resultado positivo en el test dado que se tiene la enfermedad (P(Positivo | Enfermedad)):\n",
    "   - En el enunciado, se establece que el 90% de las personas infectadas obtiene un resultado positivo, es decir, \\(P({Positivo} | {Enfermedad}) = 0.9\\).\n",
    "\n",
    "3. Probabilidad de no tener la enfermedad (P(¬Enfermedad)):\n",
    "   - \\(P({¬Enfermedad}) = 1 - P({Enfermedad}) = 0.99\\).\n",
    "\n",
    "4. Probabilidad de obtener un resultado positivo en el test dado que no se tiene la enfermedad (P(Positivo | ¬Enfermedad)):\n",
    "   - En el enunciado, se establece que el 5% de las personas no infectadas obtiene un resultado positivo, es decir, \\(P({Positivo} | {¬Enfermedad}) = 0.05\\).\n",
    "\n",
    "5. Probabilidad de obtener un resultado positivo en el test (P(Positivo)):\n",
    "   - Utilizando el teorema de probabilidad total:\n",
    "   \\[P({Positivo}) = P({Positivo} | {Enfermedad}) \\cdot P({Enfermedad}) + P({Positivo} | {¬Enfermedad}) \\cdot P({¬Enfermedad})\\]\n",
    "   - Sustituyendo los valores:\n",
    "   \\[P({Positivo}) = 0.9 \\cdot 0.01 + 0.05 \\cdot 0.99\\]\n",
    "   \\[P({Positivo}) = 0.0145\\]\n",
    "\n",
    "6. Probabilidad de tener la enfermedad dado que el test salió positivo (P(Enfermedad | Positivo)):\n",
    "   - Utilizando el Teorema de Bayes:\n",
    "   \\[P({Enfermedad} | {Positivo}) = \\frac{P({Positivo} | {Enfermedad}) \\cdot P({Enfermedad})}{P({Positivo})}\\]\n",
    "   - Sustituyendo los valores:\n",
    "   \\[P({Enfermedad} | {Positivo}) = \\frac{0.9 \\cdot 0.01}{0.0145} \\approx 0.6207\\]\n",
    "\n",
    "Por lo tanto, la probabilidad de tener la enfermedad dado que el test salió positivo es aproximadamente 0.6207 o alrededor del 62.07%. Esto significa que si alguien obtiene un resultado positivo en el test, la probabilidad de que realmente tenga la enfermedad es del 62.07%."
   ]
  },
  {
   "cell_type": "code",
   "execution_count": 71,
   "metadata": {},
   "outputs": [
    {
     "name": "stdout",
     "output_type": "stream",
     "text": [
      "Probabilidad de tener la enfermedad dado que el test salió positivo: 0.15384615384615385\n"
     ]
    }
   ],
   "source": [
    "# Probabilidad de tener la enfermedad (P(Enfermedad))\n",
    "p_enfermedad = 0.01\n",
    "\n",
    "# Probabilidad de obtener un resultado positivo en el test dado que se tiene la enfermedad (P(Positivo | Enfermedad))\n",
    "p_positivo_enfermedad = 0.9\n",
    "\n",
    "# Probabilidad de no tener la enfermedad (P(¬Enfermedad))\n",
    "p_no_enfermedad = 1 - p_enfermedad\n",
    "\n",
    "# Probabilidad de obtener un resultado positivo en el test dado que no se tiene la enfermedad (P(Positivo | ¬Enfermedad))\n",
    "p_positivo_no_enfermedad = 0.05\n",
    "\n",
    "# Probabilidad de obtener un resultado positivo en el test (P(Positivo))\n",
    "p_positivo = (p_positivo_enfermedad * p_enfermedad) + (p_positivo_no_enfermedad * p_no_enfermedad)\n",
    "\n",
    "# Probabilidad de tener la enfermedad dado que el test salió positivo (P(Enfermedad | Positivo))\n",
    "p_enfermedad_positivo = (p_positivo_enfermedad * p_enfermedad) / p_positivo\n",
    "\n",
    "print(\"Probabilidad de tener la enfermedad dado que el test salió positivo:\", p_enfermedad_positivo)\n"
   ]
  },
  {
   "cell_type": "markdown",
   "metadata": {},
   "source": [
    "# Parte 2"
   ]
  },
  {
   "cell_type": "markdown",
   "metadata": {},
   "source": [
    "7. Simule 1000 valores para cada una de las distribuciones de probabilidad uniforme discreta, \n",
    "binomial, Poisson, uniforme continua, normal y Exponencial. Especifique libremente los \n",
    "parámetros para cada una de ellas. Encuentre media y desviación estándar muestral para cada \n",
    "uno de los vectores simulados y compare dichos resultados con los obtenidos con las fórmulas \n",
    "de valor esperado y desviación estándar teoricos. "
   ]
  },
  {
   "cell_type": "markdown",
   "metadata": {},
   "source": [
    "### Distribución de probabilidad uniforme discreta"
   ]
  },
  {
   "cell_type": "code",
   "execution_count": 72,
   "metadata": {},
   "outputs": [
    {
     "data": {
      "image/png": "[encoded data removed]",
      "text/plain": [
       "<Figure size 500x300 with 1 Axes>"
      ]
     },
     "metadata": {},
     "output_type": "display_data"
    }
   ],
   "source": [
    "N = 1000\n",
    "a_uniforme_discreta = 0\n",
    "b_uniforme_discreta = 100\n",
    "\n",
    "dpud = np.random.randint(low=a_uniforme_discreta, high=b_uniforme_discreta, size=N)\n",
    "\n",
    "plt.figure(figsize=(5,3))\n",
    "plt.hist(dpud, bins=20, edgecolor='k', alpha=0.7)\n",
    "plt.xlabel('Valores')\n",
    "plt.ylabel('Frecuencia')\n",
    "plt.title('Histograma de datos generados con distribución de probabilidad uniforme discreta')\n",
    "\n",
    "# Mostrar la gráfica\n",
    "plt.show()"
   ]
  },
  {
   "cell_type": "markdown",
   "metadata": {},
   "source": [
    "### Distribución de probabilidad binomial"
   ]
  },
  {
   "cell_type": "code",
   "execution_count": 73,
   "metadata": {},
   "outputs": [
    {
     "data": {
      "image/png": "[encoded data removed]",
      "text/plain": [
       "<Figure size 500x300 with 1 Axes>"
      ]
     },
     "metadata": {},
     "output_type": "display_data"
    }
   ],
   "source": [
    "n_binomial = 1\n",
    "p_binomial = 0.5\n",
    "\n",
    "dpb = np.random.binomial(n=n_binomial, p=p_binomial, size=N)\n",
    "\n",
    "plt.figure(figsize=(5,3))\n",
    "plt.hist(dpb, bins=20, edgecolor='k')\n",
    "plt.xlabel('Valores')\n",
    "plt.ylabel('Frecuencia')\n",
    "plt.title('Histograma de datos generados con distribución binomial')\n",
    "\n",
    "# Mostrar la gráfica\n",
    "plt.show()"
   ]
  },
  {
   "cell_type": "markdown",
   "metadata": {},
   "source": [
    "### Distribución de probabilidad poisson"
   ]
  },
  {
   "cell_type": "code",
   "execution_count": 74,
   "metadata": {},
   "outputs": [
    {
     "data": {
      "image/png": "[encoded data removed]",
      "text/plain": [
       "<Figure size 500x300 with 1 Axes>"
      ]
     },
     "metadata": {},
     "output_type": "display_data"
    }
   ],
   "source": [
    "lmbda_poisson = 1.5\n",
    "dpp = np.random.poisson(lam=lmbda_poisson, size=N)\n",
    "\n",
    "plt.figure(figsize=(5,3))\n",
    "plt.hist(dpp, bins=20, edgecolor='k')\n",
    "plt.xlabel('Valores')\n",
    "plt.ylabel('Frecuencia')\n",
    "plt.title('Histograma de datos generados con distribución Poisson')\n",
    "\n",
    "# Mostrar la gráfica\n",
    "plt.show()"
   ]
  },
  {
   "cell_type": "markdown",
   "metadata": {},
   "source": [
    "### Distribuicón uniforme continua"
   ]
  },
  {
   "cell_type": "code",
   "execution_count": 75,
   "metadata": {},
   "outputs": [
    {
     "data": {
      "image/png": "[encoded data removed]",
      "text/plain": [
       "<Figure size 500x300 with 1 Axes>"
      ]
     },
     "metadata": {},
     "output_type": "display_data"
    }
   ],
   "source": [
    "a_uniforme_continua = 0\n",
    "b_uniforme_continua = 1\n",
    "duc = np.random.uniform(low=a_uniforme_continua, high=b_uniforme_continua, size=N)\n",
    "\n",
    "plt.figure(figsize=(5,3))\n",
    "plt.hist(duc, bins=20, edgecolor='k', alpha=0.7)\n",
    "plt.xlabel('Valores')\n",
    "plt.ylabel('Frecuencia')\n",
    "plt.title('Histograma de datos generados con distribución uniforme continua')\n",
    "\n",
    "# Mostrar la gráfica\n",
    "plt.show()"
   ]
  },
  {
   "cell_type": "markdown",
   "metadata": {},
   "source": [
    "### Distribuicón normal"
   ]
  },
  {
   "cell_type": "code",
   "execution_count": 76,
   "metadata": {},
   "outputs": [
    {
     "data": {
      "image/png": "[encoded data removed]",
      "text/plain": [
       "<Figure size 500x300 with 1 Axes>"
      ]
     },
     "metadata": {},
     "output_type": "display_data"
    }
   ],
   "source": [
    "mu_normal = 0\n",
    "sigma_normal = 1\n",
    "\n",
    "dnorm = np.random.normal(loc=mu_normal, scale=sigma_normal, size=N)\n",
    "\n",
    "plt.figure(figsize=(5,3))\n",
    "plt.hist(dnorm, bins=20, edgecolor='k', alpha=0.7)\n",
    "plt.xlabel('Valores')\n",
    "plt.ylabel('Frecuencia')\n",
    "plt.title('Histograma de datos generados con distribución normal')\n",
    "\n",
    "# Mostrar la gráfica\n",
    "plt.show()"
   ]
  },
  {
   "cell_type": "markdown",
   "metadata": {},
   "source": [
    "### Distribución Exponencial"
   ]
  },
  {
   "cell_type": "code",
   "execution_count": 77,
   "metadata": {},
   "outputs": [
    {
     "data": {
      "image/png": "[encoded data removed]",
      "text/plain": [
       "<Figure size 500x300 with 1 Axes>"
      ]
     },
     "metadata": {},
     "output_type": "display_data"
    }
   ],
   "source": [
    "lmbda_exponencial = 1\n",
    "dexp = np.random.exponential( scale=lmbda_exponencial, size=N)\n",
    "\n",
    "\n",
    "plt.figure(figsize=(5,3))\n",
    "plt.hist(dexp, bins=20, edgecolor='k', alpha=0.7)\n",
    "plt.xlabel('Valores')\n",
    "plt.ylabel('Frecuencia')\n",
    "plt.title('Histograma de datos generados con distribución exponencial')\n",
    "\n",
    "# Mostrar la gráfica\n",
    "plt.show()"
   ]
  },
  {
   "cell_type": "markdown",
   "metadata": {},
   "source": [
    "### Media y Desviación Estándar de las muestras simuladas"
   ]
  },
  {
   "cell_type": "code",
   "execution_count": 83,
   "metadata": {},
   "outputs": [
    {
     "data": {
      "text/html": [
       "<div>\n",
       "<style scoped>\n",
       "    .dataframe tbody tr th:only-of-type {\n",
       "        vertical-align: middle;\n",
       "    }\n",
       "\n",
       "    .dataframe tbody tr th {\n",
       "        vertical-align: top;\n",
       "    }\n",
       "\n",
       "    .dataframe thead th {\n",
       "        text-align: right;\n",
       "    }\n",
       "</style>\n",
       "<table border=\"1\" class=\"dataframe\">\n",
       "  <thead>\n",
       "    <tr style=\"text-align: right;\">\n",
       "      <th></th>\n",
       "      <th>dist_prob_unif_dis</th>\n",
       "      <th>dist_prob_binom</th>\n",
       "      <th>dist_prob_poisson</th>\n",
       "      <th>dist_prob_unif_cont</th>\n",
       "      <th>dist_prob_norm</th>\n",
       "      <th>dist_prob_exp</th>\n",
       "    </tr>\n",
       "  </thead>\n",
       "  <tbody>\n",
       "    <tr>\n",
       "      <th>count</th>\n",
       "      <td>1000.000000</td>\n",
       "      <td>1000.00000</td>\n",
       "      <td>1000.000000</td>\n",
       "      <td>1000.000000</td>\n",
       "      <td>1000.000000</td>\n",
       "      <td>1000.000000</td>\n",
       "    </tr>\n",
       "    <tr>\n",
       "      <th>mean</th>\n",
       "      <td>49.401000</td>\n",
       "      <td>0.49000</td>\n",
       "      <td>1.520000</td>\n",
       "      <td>0.509583</td>\n",
       "      <td>-0.015512</td>\n",
       "      <td>0.993522</td>\n",
       "    </tr>\n",
       "    <tr>\n",
       "      <th>std</th>\n",
       "      <td>28.337982</td>\n",
       "      <td>0.50015</td>\n",
       "      <td>1.223559</td>\n",
       "      <td>0.289894</td>\n",
       "      <td>1.003529</td>\n",
       "      <td>0.956899</td>\n",
       "    </tr>\n",
       "    <tr>\n",
       "      <th>min</th>\n",
       "      <td>0.000000</td>\n",
       "      <td>0.00000</td>\n",
       "      <td>0.000000</td>\n",
       "      <td>0.000322</td>\n",
       "      <td>-2.752592</td>\n",
       "      <td>0.001087</td>\n",
       "    </tr>\n",
       "    <tr>\n",
       "      <th>25%</th>\n",
       "      <td>25.000000</td>\n",
       "      <td>0.00000</td>\n",
       "      <td>1.000000</td>\n",
       "      <td>0.259181</td>\n",
       "      <td>-0.734951</td>\n",
       "      <td>0.281793</td>\n",
       "    </tr>\n",
       "    <tr>\n",
       "      <th>50%</th>\n",
       "      <td>50.000000</td>\n",
       "      <td>0.00000</td>\n",
       "      <td>1.000000</td>\n",
       "      <td>0.519940</td>\n",
       "      <td>-0.033179</td>\n",
       "      <td>0.724704</td>\n",
       "    </tr>\n",
       "    <tr>\n",
       "      <th>75%</th>\n",
       "      <td>72.000000</td>\n",
       "      <td>1.00000</td>\n",
       "      <td>2.000000</td>\n",
       "      <td>0.763292</td>\n",
       "      <td>0.662374</td>\n",
       "      <td>1.369109</td>\n",
       "    </tr>\n",
       "    <tr>\n",
       "      <th>max</th>\n",
       "      <td>99.000000</td>\n",
       "      <td>1.00000</td>\n",
       "      <td>7.000000</td>\n",
       "      <td>0.996682</td>\n",
       "      <td>3.615972</td>\n",
       "      <td>7.306187</td>\n",
       "    </tr>\n",
       "  </tbody>\n",
       "</table>\n",
       "</div>"
      ],
      "text/plain": [
       "       dist_prob_unif_dis  dist_prob_binom  dist_prob_poisson  \\\n",
       "count         1000.000000       1000.00000        1000.000000   \n",
       "mean            49.401000          0.49000           1.520000   \n",
       "std             28.337982          0.50015           1.223559   \n",
       "min              0.000000          0.00000           0.000000   \n",
       "25%             25.000000          0.00000           1.000000   \n",
       "50%             50.000000          0.00000           1.000000   \n",
       "75%             72.000000          1.00000           2.000000   \n",
       "max             99.000000          1.00000           7.000000   \n",
       "\n",
       "       dist_prob_unif_cont  dist_prob_norm  dist_prob_exp  \n",
       "count          1000.000000     1000.000000    1000.000000  \n",
       "mean              0.509583       -0.015512       0.993522  \n",
       "std               0.289894        1.003529       0.956899  \n",
       "min               0.000322       -2.752592       0.001087  \n",
       "25%               0.259181       -0.734951       0.281793  \n",
       "50%               0.519940       -0.033179       0.724704  \n",
       "75%               0.763292        0.662374       1.369109  \n",
       "max               0.996682        3.615972       7.306187  "
      ]
     },
     "execution_count": 83,
     "metadata": {},
     "output_type": "execute_result"
    }
   ],
   "source": [
    "df_resumen =pd.DataFrame({\"dist_prob_unif_dis\": dpud, \n",
    "                          \"dist_prob_binom\":dpb, \n",
    "                          \"dist_prob_poisson\":dpp, \n",
    "                          \"dist_prob_unif_cont\":duc,\n",
    "                          \"dist_prob_norm\":dnorm,\n",
    "                          \"dist_prob_exp\": dexp})\n",
    "df_resumen.describe()"
   ]
  },
  {
   "cell_type": "markdown",
   "metadata": {},
   "source": [
    "### Valores esperados teóricos"
   ]
  },
  {
   "cell_type": "code",
   "execution_count": 79,
   "metadata": {},
   "outputs": [
    {
     "name": "stdout",
     "output_type": "stream",
     "text": [
      "Valor Esperado Teórico para Uniforme Discreta: 50.0\n",
      "Valor Esperado Teórico para Binomial: 0.5\n",
      "Valor Esperado Teórico para Poisson: 1.5\n",
      "Valor Esperado Teórico para Uniforme Continua: 0.5\n",
      "Valor Esperado Teórico para Normal: 0\n",
      "Valor Esperado Teórico para Exponencial: 1.0\n"
     ]
    }
   ],
   "source": [
    "\n",
    "# Calcula los valores esperados teóricos (medias) para cada distribución\n",
    "mu_uniforme_discreta = (a_uniforme_discreta + b_uniforme_discreta) / 2\n",
    "mu_binomial = n_binomial * p_binomial\n",
    "mu_poisson = lmbda_poisson\n",
    "mu_uniforme_continua = (a_uniforme_continua + b_uniforme_continua) / 2\n",
    "mu_normal_teorico = mu_normal  # En la distribución normal, mu es igual al valor teórico\n",
    "mu_exponencial = 1 / lmbda_exponencial\n",
    "# \n",
    "# Imprime los valores esperados teóricos\n",
    "print(\"Valor Esperado Teórico para Uniforme Discreta:\", mu_uniforme_discreta)\n",
    "print(\"Valor Esperado Teórico para Binomial:\", mu_binomial)\n",
    "print(\"Valor Esperado Teórico para Poisson:\", mu_poisson)\n",
    "print(\"Valor Esperado Teórico para Uniforme Continua:\", mu_uniforme_continua)\n",
    "print(\"Valor Esperado Teórico para Normal:\", mu_normal_teorico)\n",
    "print(\"Valor Esperado Teórico para Exponencial:\", mu_exponencial)\n"
   ]
  },
  {
   "cell_type": "markdown",
   "metadata": {},
   "source": [
    "8. Realice secuencialmente la simulación del lanzamiento de un dado, de manera que en cada \n",
    "lanzamiento encuentre la proporción de veces que sale el número 5 (es decir, vamos a estimar \n",
    "de manera secuencial con el enfoque frecuentista del evento que al lanzar un dado se obtenga \n",
    "el número 5). Comente los resultados de cómo es la probabilidad cuando se hacen: 2 \n",
    "lanzamientos, 6 lanzamientos, 10 lanzamientos, 100 lanzamientos, 1000 lanzamientos. ¿La \n",
    "proporción de veces que sale el dado es equivalente a la teórica? Adicionalmente, construya \n",
    "un gráfico donde se evidencie la evolución de la proporción vs la cantidad de veces que se \n",
    "lanza el dado, interprete los resultados "
   ]
  },
  {
   "cell_type": "code",
   "execution_count": 84,
   "metadata": {},
   "outputs": [
    {
     "data": {
      "image/png": "[encoded data removed]",
      "text/plain": [
       "<Figure size 1200x600 with 1 Axes>"
      ]
     },
     "metadata": {},
     "output_type": "display_data"
    }
   ],
   "source": [
    "\n",
    "# Configuración de la simulación\n",
    "np.random.seed(0)  # Establecer una semilla aleatoria para reproducibilidad\n",
    "num_lanzamientos = [2, 6, 10, 100, 1000]  # Número de lanzamientos a realizar\n",
    "num_experimentos = 1000  # Cantidad de veces que se realizarán los lanzamientos\n",
    "resultados = []  # Almacenar las proporciones de 5 en cada experimento\n",
    "\n",
    "# Simulación\n",
    "for n_lanzamientos in num_lanzamientos:\n",
    "    proporciones = []  # Almacenar proporciones para el número de lanzamientos actual\n",
    "    for _ in range(num_experimentos):\n",
    "        dado = np.random.randint(1, 7, size=n_lanzamientos)  # Simulación de lanzamientos\n",
    "        proporciones.append(np.mean(dado == 5))  # Calcular la proporción de 5\n",
    "\n",
    "    resultados.append(proporciones)\n",
    "\n",
    "# Gráfico de evolución de la proporción\n",
    "plt.figure(figsize=(12, 6))\n",
    "for i, n_lanzamientos in enumerate(num_lanzamientos):\n",
    "    plt.plot(range(1, num_experimentos + 1), np.cumsum(resultados[i]) / (np.arange(1, num_experimentos + 1)), label=f\"{n_lanzamientos} lanzamientos\")\n",
    "\n",
    "plt.axhline(y=1/6, color='r', linestyle='--', label='Probabilidad teórica (1/6)')\n",
    "plt.xlabel(\"Número de Experimentos\")\n",
    "plt.ylabel(\"Proporción de 5\")\n",
    "plt.legend()\n",
    "plt.title(\"Evolución de la Proporción de 5 vs. Número de Lanzamientos\")\n",
    "plt.show()\n"
   ]
  },
  {
   "cell_type": "code",
   "execution_count": 87,
   "metadata": {},
   "outputs": [
    {
     "data": {
      "image/png": "[encoded data removed]",
      "text/plain": [
       "<Figure size 1000x600 with 1 Axes>"
      ]
     },
     "metadata": {},
     "output_type": "display_data"
    },
    {
     "name": "stdout",
     "output_type": "stream",
     "text": [
      "Proporción final de 5 en 1000 lanzamientos: 0.1610\n"
     ]
    }
   ],
   "source": [
    "# Configuración de la simulación\n",
    "np.random.seed(0)  # Establecer una semilla aleatoria para reproducibilidad\n",
    "num_lanzamientos = 1000  # Número total de lanzamientos\n",
    "lanzamientos = np.random.randint(1, 7, size=num_lanzamientos)  # Simulación de lanzamientos\n",
    "proporciones = []  # Almacenar la proporción de 5 en cada etapa\n",
    "\n",
    "# Realizar la simulación secuencial\n",
    "contador_cinco = 0  # Inicializar el contador de 5\n",
    "for i in range(num_lanzamientos):\n",
    "    if lanzamientos[i] == 5:\n",
    "        contador_cinco += 1\n",
    "    proporciones.append(contador_cinco / (i + 1))  # Calcular la proporción en cada etapa\n",
    "\n",
    "# Calcular la probabilidad teórica\n",
    "probabilidad_teorica = 1/6\n",
    "\n",
    "# Gráfico de evolución de la proporción\n",
    "plt.figure(figsize=(10, 6))\n",
    "plt.plot(range(1, num_lanzamientos + 1), proporciones)\n",
    "plt.axhline(y=probabilidad_teorica, color='red', linestyle='--', label='Probabilidad teórica (1/6)')\n",
    "plt.xlabel(\"Número de Lanzamientos\")\n",
    "plt.ylabel(\"Proporción de 5\")\n",
    "plt.legend()\n",
    "plt.title(\"Evolución de la Proporción de 5 vs. Número de Lanzamientos\")\n",
    "plt.show()\n",
    "\n",
    "# Imprimir la proporción final\n",
    "proporcion_final = proporciones[-1]\n",
    "print(f\"Proporción final de 5 en {num_lanzamientos} lanzamientos: {proporcion_final:.4f}\")\n",
    "\n"
   ]
  },
  {
   "cell_type": "code",
   "execution_count": 105,
   "metadata": {},
   "outputs": [
    {
     "data": {
      "application/vnd.plotly.v1+json": {
       "config": {
        "plotlyServerURL": "https://plot.ly"
       },
       "data": [
        {
         "hovertemplate": "Número de Lanzamientos=%{x}<br>Proporción de 5=%{y}<extra></extra>",
         "legendgroup": "",
         "line": {
          "color": "#636efa",
          "dash": "solid"
         },
         "marker": {
          "symbol": "circle"
         },
         "mode": "lines",
         "name": "",
         "orientation": "v",
         "showlegend": false,
         "type": "scatter",
         "x": [
          1,
          2,
          3,
          4,
          5,
          6,
          7,
          8,
          9,
          10,
          11,
          12,
          13,
          14,
          15,
          16,
          17,
          18,
          19,
          20,
          21,
          22,
          23,
          24,
          25,
          26,
          27,
          28,
          29,
          30,
          31,
          32,
          33,
          34,
          35,
          36,
          37,
          38,
          39,
          40,
          41,
          42,
          43,
          44,
          45,
          46,
          47,
          48,
          49,
          50,
          51,
          52,
          53,
          54,
          55,
          56,
          57,
          58,
          59,
          60,
          61,
          62,
          63,
          64,
          65,
          66,
          67,
          68,
          69,
          70,
          71,
          72,
          73,
          74,
          75,
          76,
          77,
          78,
          79,
          80,
          81,
          82,
          83,
          84,
          85,
          86,
          87,
          88,
          89,
          90,
          91,
          92,
          93,
          94,
          95,
          96,
          97,
          98,
          99,
          100,
          101,
          102,
          103,
          104,
          105,
          106,
          107,
          108,
          109,
          110,
          111,
          112,
          113,
          114,
          115,
          116,
          117,
          118,
          119,
          120,
          121,
          122,
          123,
          124,
          125,
          126,
          127,
          128,
          129,
          130,
          131,
          132,
          133,
          134,
          135,
          136,
          137,
          138,
          139,
          140,
          141,
          142,
          143,
          144,
          145,
          146,
          147,
          148,
          149,
          150,
          151,
          152,
          153,
          154,
          155,
          156,
          157,
          158,
          159,
          160,
          161,
          162,
          163,
          164,
          165,
          166,
          167,
          168,
          169,
          170,
          171,
          172,
          173,
          174,
          175,
          176,
          177,
          178,
          179,
          180,
          181,
          182,
          183,
          184,
          185,
          186,
          187,
          188,
          189,
          190,
          191,
          192,
          193,
          194,
          195,
          196,
          197,
          198,
          199,
          200,
          201,
          202,
          203,
          204,
          205,
          206,
          207,
          208,
          209,
          210,
          211,
          212,
          213,
          214,
          215,
          216,
          217,
          218,
          219,
          220,
          221,
          222,
          223,
          224,
          225,
          226,
          227,
          228,
          229,
          230,
          231,
          232,
          233,
          234,
          235,
          236,
          237,
          238,
          239,
          240,
          241,
          242,
          243,
          244,
          245,
          246,
          247,
          248,
          249,
          250,
          251,
          252,
          253,
          254,
          255,
          256,
          257,
          258,
          259,
          260,
          261,
          262,
          263,
          264,
          265,
          266,
          267,
          268,
          269,
          270,
          271,
          272,
          273,
          274,
          275,
          276,
          277,
          278,
          279,
          280,
          281,
          282,
          283,
          284,
          285,
          286,
          287,
          288,
          289,
          290,
          291,
          292,
          293,
          294,
          295,
          296,
          297,
          298,
          299,
          300,
          301,
          302,
          303,
          304,
          305,
          306,
          307,
          308,
          309,
          310,
          311,
          312,
          313,
          314,
          315,
          316,
          317,
          318,
          319,
          320,
          321,
          322,
          323,
          324,
          325,
          326,
          327,
          328,
          329,
          330,
          331,
          332,
          333,
          334,
          335,
          336,
          337,
          338,
          339,
          340,
          341,
          342,
          343,
          344,
          345,
          346,
          347,
          348,
          349,
          350,
          351,
          352,
          353,
          354,
          355,
          356,
          357,
          358,
          359,
          360,
          361,
          362,
          363,
          364,
          365,
          366,
          367,
          368,
          369,
          370,
          371,
          372,
          373,
          374,
          375,
          376,
          377,
          378,
          379,
          380,
          381,
          382,
          383,
          384,
          385,
          386,
          387,
          388,
          389,
          390,
          391,
          392,
          393,
          394,
          395,
          396,
          397,
          398,
          399,
          400,
          401,
          402,
          403,
          404,
          405,
          406,
          407,
          408,
          409,
          410,
          411,
          412,
          413,
          414,
          415,
          416,
          417,
          418,
          419,
          420,
          421,
          422,
          423,
          424,
          425,
          426,
          427,
          428,
          429,
          430,
          431,
          432,
          433,
          434,
          435,
          436,
          437,
          438,
          439,
          440,
          441,
          442,
          443,
          444,
          445,
          446,
          447,
          448,
          449,
          450,
          451,
          452,
          453,
          454,
          455,
          456,
          457,
          458,
          459,
          460,
          461,
          462,
          463,
          464,
          465,
          466,
          467,
          468,
          469,
          470,
          471,
          472,
          473,
          474,
          475,
          476,
          477,
          478,
          479,
          480,
          481,
          482,
          483,
          484,
          485,
          486,
          487,
          488,
          489,
          490,
          491,
          492,
          493,
          494,
          495,
          496,
          497,
          498,
          499,
          500,
          501,
          502,
          503,
          504,
          505,
          506,
          507,
          508,
          509,
          510,
          511,
          512,
          513,
          514,
          515,
          516,
          517,
          518,
          519,
          520,
          521,
          522,
          523,
          524,
          525,
          526,
          527,
          528,
          529,
          530,
          531,
          532,
          533,
          534,
          535,
          536,
          537,
          538,
          539,
          540,
          541,
          542,
          543,
          544,
          545,
          546,
          547,
          548,
          549,
          550,
          551,
          552,
          553,
          554,
          555,
          556,
          557,
          558,
          559,
          560,
          561,
          562,
          563,
          564,
          565,
          566,
          567,
          568,
          569,
          570,
          571,
          572,
          573,
          574,
          575,
          576,
          577,
          578,
          579,
          580,
          581,
          582,
          583,
          584,
          585,
          586,
          587,
          588,
          589,
          590,
          591,
          592,
          593,
          594,
          595,
          596,
          597,
          598,
          599,
          600,
          601,
          602,
          603,
          604,
          605,
          606,
          607,
          608,
          609,
          610,
          611,
          612,
          613,
          614,
          615,
          616,
          617,
          618,
          619,
          620,
          621,
          622,
          623,
          624,
          625,
          626,
          627,
          628,
          629,
          630,
          631,
          632,
          633,
          634,
          635,
          636,
          637,
          638,
          639,
          640,
          641,
          642,
          643,
          644,
          645,
          646,
          647,
          648,
          649,
          650,
          651,
          652,
          653,
          654,
          655,
          656,
          657,
          658,
          659,
          660,
          661,
          662,
          663,
          664,
          665,
          666,
          667,
          668,
          669,
          670,
          671,
          672,
          673,
          674,
          675,
          676,
          677,
          678,
          679,
          680,
          681,
          682,
          683,
          684,
          685,
          686,
          687,
          688,
          689,
          690,
          691,
          692,
          693,
          694,
          695,
          696,
          697,
          698,
          699,
          700,
          701,
          702,
          703,
          704,
          705,
          706,
          707,
          708,
          709,
          710,
          711,
          712,
          713,
          714,
          715,
          716,
          717,
          718,
          719,
          720,
          721,
          722,
          723,
          724,
          725,
          726,
          727,
          728,
          729,
          730,
          731,
          732,
          733,
          734,
          735,
          736,
          737,
          738,
          739,
          740,
          741,
          742,
          743,
          744,
          745,
          746,
          747,
          748,
          749,
          750,
          751,
          752,
          753,
          754,
          755,
          756,
          757,
          758,
          759,
          760,
          761,
          762,
          763,
          764,
          765,
          766,
          767,
          768,
          769,
          770,
          771,
          772,
          773,
          774,
          775,
          776,
          777,
          778,
          779,
          780,
          781,
          782,
          783,
          784,
          785,
          786,
          787,
          788,
          789,
          790,
          791,
          792,
          793,
          794,
          795,
          796,
          797,
          798,
          799,
          800,
          801,
          802,
          803,
          804,
          805,
          806,
          807,
          808,
          809,
          810,
          811,
          812,
          813,
          814,
          815,
          816,
          817,
          818,
          819,
          820,
          821,
          822,
          823,
          824,
          825,
          826,
          827,
          828,
          829,
          830,
          831,
          832,
          833,
          834,
          835,
          836,
          837,
          838,
          839,
          840,
          841,
          842,
          843,
          844,
          845,
          846,
          847,
          848,
          849,
          850,
          851,
          852,
          853,
          854,
          855,
          856,
          857,
          858,
          859,
          860,
          861,
          862,
          863,
          864,
          865,
          866,
          867,
          868,
          869,
          870,
          871,
          872,
          873,
          874,
          875,
          876,
          877,
          878,
          879,
          880,
          881,
          882,
          883,
          884,
          885,
          886,
          887,
          888,
          889,
          890,
          891,
          892,
          893,
          894,
          895,
          896,
          897,
          898,
          899,
          900,
          901,
          902,
          903,
          904,
          905,
          906,
          907,
          908,
          909,
          910,
          911,
          912,
          913,
          914,
          915,
          916,
          917,
          918,
          919,
          920,
          921,
          922,
          923,
          924,
          925,
          926,
          927,
          928,
          929,
          930,
          931,
          932,
          933,
          934,
          935,
          936,
          937,
          938,
          939,
          940,
          941,
          942,
          943,
          944,
          945,
          946,
          947,
          948,
          949,
          950,
          951,
          952,
          953,
          954,
          955,
          956,
          957,
          958,
          959,
          960,
          961,
          962,
          963,
          964,
          965,
          966,
          967,
          968,
          969,
          970,
          971,
          972,
          973,
          974,
          975,
          976,
          977,
          978,
          979,
          980,
          981,
          982,
          983,
          984,
          985,
          986,
          987,
          988,
          989,
          990,
          991,
          992,
          993,
          994,
          995,
          996,
          997,
          998,
          999,
          1000
         ],
         "xaxis": "x",
         "y": [
          1,
          0.5,
          0.3333333333333333,
          0.25,
          0.2,
          0.16666666666666666,
          0.14285714285714285,
          0.125,
          0.1111111111111111,
          0.1,
          0.18181818181818182,
          0.16666666666666666,
          0.15384615384615385,
          0.21428571428571427,
          0.2,
          0.1875,
          0.17647058823529413,
          0.16666666666666666,
          0.15789473684210525,
          0.15,
          0.14285714285714285,
          0.13636363636363635,
          0.13043478260869565,
          0.16666666666666666,
          0.16,
          0.15384615384615385,
          0.14814814814814814,
          0.14285714285714285,
          0.13793103448275862,
          0.13333333333333333,
          0.12903225806451613,
          0.125,
          0.12121212121212122,
          0.11764705882352941,
          0.11428571428571428,
          0.1111111111111111,
          0.10810810810810811,
          0.10526315789473684,
          0.10256410256410256,
          0.1,
          0.0975609756097561,
          0.09523809523809523,
          0.09302325581395349,
          0.11363636363636363,
          0.1111111111111111,
          0.10869565217391304,
          0.10638297872340426,
          0.125,
          0.12244897959183673,
          0.12,
          0.11764705882352941,
          0.1346153846153846,
          0.1320754716981132,
          0.12962962962962962,
          0.12727272727272726,
          0.14285714285714285,
          0.14035087719298245,
          0.15517241379310345,
          0.15254237288135594,
          0.15,
          0.14754098360655737,
          0.14516129032258066,
          0.14285714285714285,
          0.140625,
          0.13846153846153847,
          0.13636363636363635,
          0.13432835820895522,
          0.1323529411764706,
          0.13043478260869565,
          0.12857142857142856,
          0.1267605633802817,
          0.125,
          0.1232876712328767,
          0.13513513513513514,
          0.13333333333333333,
          0.13157894736842105,
          0.14285714285714285,
          0.14102564102564102,
          0.1518987341772152,
          0.1625,
          0.1728395061728395,
          0.17073170731707318,
          0.18072289156626506,
          0.19047619047619047,
          0.2,
          0.19767441860465115,
          0.20689655172413793,
          0.20454545454545456,
          0.20224719101123595,
          0.2,
          0.1978021978021978,
          0.1956521739130435,
          0.1935483870967742,
          0.19148936170212766,
          0.18947368421052632,
          0.1875,
          0.18556701030927836,
          0.1836734693877551,
          0.18181818181818182,
          0.18,
          0.1782178217821782,
          0.17647058823529413,
          0.18446601941747573,
          0.18269230769230768,
          0.18095238095238095,
          0.1792452830188679,
          0.17757009345794392,
          0.17592592592592593,
          0.1743119266055046,
          0.17272727272727273,
          0.17117117117117117,
          0.16964285714285715,
          0.168141592920354,
          0.16666666666666666,
          0.16521739130434782,
          0.16379310344827586,
          0.1623931623931624,
          0.16101694915254236,
          0.15966386554621848,
          0.15833333333333333,
          0.15702479338842976,
          0.1557377049180328,
          0.15447154471544716,
          0.1532258064516129,
          0.152,
          0.15079365079365079,
          0.14960629921259844,
          0.15625,
          0.15503875968992248,
          0.15384615384615385,
          0.15267175572519084,
          0.15151515151515152,
          0.15037593984962405,
          0.14925373134328357,
          0.15555555555555556,
          0.15441176470588236,
          0.15328467153284672,
          0.15217391304347827,
          0.1510791366906475,
          0.15,
          0.14893617021276595,
          0.14788732394366197,
          0.14685314685314685,
          0.14583333333333334,
          0.14482758620689656,
          0.14383561643835616,
          0.14285714285714285,
          0.14189189189189189,
          0.1476510067114094,
          0.14666666666666667,
          0.1456953642384106,
          0.14473684210526316,
          0.1437908496732026,
          0.14285714285714285,
          0.14193548387096774,
          0.14102564102564102,
          0.14012738853503184,
          0.13924050632911392,
          0.13836477987421383,
          0.1375,
          0.13664596273291926,
          0.13580246913580246,
          0.13496932515337423,
          0.13414634146341464,
          0.13333333333333333,
          0.13253012048192772,
          0.1377245508982036,
          0.13690476190476192,
          0.14201183431952663,
          0.1411764705882353,
          0.14035087719298245,
          0.14534883720930233,
          0.14450867052023122,
          0.14367816091954022,
          0.14285714285714285,
          0.14772727272727273,
          0.14689265536723164,
          0.14606741573033707,
          0.1452513966480447,
          0.14444444444444443,
          0.143646408839779,
          0.14285714285714285,
          0.14207650273224043,
          0.14130434782608695,
          0.14054054054054055,
          0.13978494623655913,
          0.13903743315508021,
          0.14361702127659576,
          0.14285714285714285,
          0.14210526315789473,
          0.14136125654450263,
          0.140625,
          0.13989637305699482,
          0.13917525773195877,
          0.13846153846153847,
          0.14285714285714285,
          0.14213197969543148,
          0.1414141414141414,
          0.1407035175879397,
          0.14,
          0.13930348258706468,
          0.13861386138613863,
          0.13793103448275862,
          0.13725490196078433,
          0.13658536585365855,
          0.13592233009708737,
          0.13526570048309178,
          0.1346153846153846,
          0.1339712918660287,
          0.13333333333333333,
          0.13744075829383887,
          0.13679245283018868,
          0.13615023474178403,
          0.13551401869158877,
          0.13488372093023257,
          0.13425925925925927,
          0.1336405529953917,
          0.13302752293577982,
          0.136986301369863,
          0.13636363636363635,
          0.13574660633484162,
          0.13513513513513514,
          0.13452914798206278,
          0.13392857142857142,
          0.13333333333333333,
          0.13274336283185842,
          0.13656387665198239,
          0.13596491228070176,
          0.13537117903930132,
          0.13478260869565217,
          0.1341991341991342,
          0.13793103448275862,
          0.13733905579399142,
          0.13675213675213677,
          0.13617021276595745,
          0.13559322033898305,
          0.1350210970464135,
          0.13445378151260504,
          0.13389121338912133,
          0.1375,
          0.13692946058091288,
          0.13636363636363635,
          0.13580246913580246,
          0.13524590163934427,
          0.1346938775510204,
          0.13414634146341464,
          0.13360323886639677,
          0.13306451612903225,
          0.13253012048192772,
          0.132,
          0.13545816733067728,
          0.1349206349206349,
          0.13438735177865613,
          0.13385826771653545,
          0.13333333333333333,
          0.1328125,
          0.13229571984435798,
          0.13178294573643412,
          0.13127413127413126,
          0.1346153846153846,
          0.13409961685823754,
          0.13358778625954199,
          0.13307984790874525,
          0.13257575757575757,
          0.1320754716981132,
          0.13157894736842105,
          0.1348314606741573,
          0.13432835820895522,
          0.13382899628252787,
          0.13333333333333333,
          0.13284132841328414,
          0.1323529411764706,
          0.13186813186813187,
          0.13138686131386862,
          0.13090909090909092,
          0.13043478260869565,
          0.1299638989169675,
          0.12949640287769784,
          0.12903225806451613,
          0.12857142857142856,
          0.12811387900355872,
          0.1276595744680851,
          0.13074204946996468,
          0.13380281690140844,
          0.13333333333333333,
          0.13286713286713286,
          0.13240418118466898,
          0.13541666666666666,
          0.13494809688581316,
          0.13448275862068965,
          0.13402061855670103,
          0.13356164383561644,
          0.13310580204778158,
          0.1326530612244898,
          0.13220338983050847,
          0.13175675675675674,
          0.13468013468013468,
          0.1342281879194631,
          0.13377926421404682,
          0.13333333333333333,
          0.132890365448505,
          0.1357615894039735,
          0.13861386138613863,
          0.13815789473684212,
          0.1377049180327869,
          0.13725490196078433,
          0.13680781758957655,
          0.13636363636363635,
          0.13592233009708737,
          0.13548387096774195,
          0.13504823151125403,
          0.13782051282051283,
          0.13738019169329074,
          0.13694267515923567,
          0.1365079365079365,
          0.1360759493670886,
          0.13564668769716087,
          0.13522012578616352,
          0.13479623824451412,
          0.134375,
          0.13395638629283488,
          0.13354037267080746,
          0.13312693498452013,
          0.13271604938271606,
          0.13538461538461538,
          0.13496932515337423,
          0.1345565749235474,
          0.13414634146341464,
          0.1337386018237082,
          0.13333333333333333,
          0.13293051359516617,
          0.13253012048192772,
          0.13513513513513514,
          0.1347305389221557,
          0.1373134328358209,
          0.13690476190476192,
          0.13649851632047477,
          0.13609467455621302,
          0.13569321533923304,
          0.13529411764705881,
          0.1348973607038123,
          0.13450292397660818,
          0.13411078717201166,
          0.13372093023255813,
          0.13333333333333333,
          0.1329479768786127,
          0.13256484149855907,
          0.13218390804597702,
          0.1318051575931232,
          0.13428571428571429,
          0.1339031339031339,
          0.13352272727272727,
          0.1359773371104816,
          0.1384180790960452,
          0.13802816901408452,
          0.13764044943820225,
          0.13725490196078433,
          0.13966480446927373,
          0.14206128133704735,
          0.14166666666666666,
          0.1440443213296399,
          0.143646408839779,
          0.14325068870523416,
          0.14285714285714285,
          0.14246575342465753,
          0.14207650273224043,
          0.14168937329700274,
          0.14130434782608695,
          0.14092140921409213,
          0.14054054054054055,
          0.14016172506738545,
          0.13978494623655913,
          0.14209115281501342,
          0.1443850267379679,
          0.144,
          0.14361702127659576,
          0.14323607427055704,
          0.1455026455026455,
          0.14511873350923482,
          0.14473684210526316,
          0.14435695538057744,
          0.14397905759162305,
          0.14360313315926893,
          0.14322916666666666,
          0.14285714285714285,
          0.14248704663212436,
          0.1421188630490956,
          0.14175257731958762,
          0.14138817480719795,
          0.14102564102564102,
          0.1432225063938619,
          0.14540816326530612,
          0.1450381679389313,
          0.1446700507614213,
          0.14430379746835442,
          0.14393939393939395,
          0.14357682619647355,
          0.14321608040201006,
          0.14285714285714285,
          0.1425,
          0.14214463840399003,
          0.14427860696517414,
          0.14392059553349876,
          0.14356435643564355,
          0.14320987654320988,
          0.14285714285714285,
          0.14250614250614252,
          0.14460784313725492,
          0.14425427872860636,
          0.14390243902439023,
          0.1435523114355231,
          0.14320388349514562,
          0.14285714285714285,
          0.14251207729468598,
          0.14216867469879518,
          0.14182692307692307,
          0.14148681055155876,
          0.14114832535885166,
          0.14081145584725538,
          0.14047619047619048,
          0.14251781472684086,
          0.14218009478672985,
          0.14184397163120568,
          0.14386792452830188,
          0.14352941176470588,
          0.1431924882629108,
          0.14285714285714285,
          0.1425233644859813,
          0.14219114219114218,
          0.14418604651162792,
          0.14617169373549885,
          0.14814814814814814,
          0.14780600461893764,
          0.14746543778801843,
          0.14942528735632185,
          0.14908256880733944,
          0.14874141876430205,
          0.14840182648401826,
          0.1480637813211845,
          0.14772727272727273,
          0.1473922902494331,
          0.14705882352941177,
          0.14672686230248308,
          0.1463963963963964,
          0.14606741573033707,
          0.14573991031390135,
          0.14541387024608501,
          0.14508928571428573,
          0.1447661469933185,
          0.14444444444444443,
          0.14634146341463414,
          0.14601769911504425,
          0.1479028697571744,
          0.14757709251101322,
          0.14725274725274726,
          0.14692982456140352,
          0.14660831509846828,
          0.1462882096069869,
          0.14814814814814814,
          0.15,
          0.15184381778741865,
          0.15151515151515152,
          0.1511879049676026,
          0.15086206896551724,
          0.15053763440860216,
          0.15021459227467812,
          0.14989293361884368,
          0.14957264957264957,
          0.1513859275053305,
          0.15106382978723404,
          0.15286624203821655,
          0.15254237288135594,
          0.1522198731501057,
          0.1518987341772152,
          0.15368421052631578,
          0.15336134453781514,
          0.1530398322851153,
          0.15271966527196654,
          0.1524008350730689,
          0.15208333333333332,
          0.15176715176715178,
          0.15145228215767634,
          0.15320910973084886,
          0.15495867768595042,
          0.15463917525773196,
          0.15432098765432098,
          0.1540041067761807,
          0.15368852459016394,
          0.15337423312883436,
          0.15306122448979592,
          0.15478615071283094,
          0.15447154471544716,
          0.15415821501014199,
          0.15384615384615385,
          0.15353535353535352,
          0.1532258064516129,
          0.1529175050301811,
          0.15461847389558234,
          0.15430861723446893,
          0.156,
          0.15768463073852296,
          0.15737051792828685,
          0.15705765407554673,
          0.15674603174603174,
          0.15643564356435644,
          0.15612648221343872,
          0.15581854043392504,
          0.15551181102362205,
          0.15520628683693516,
          0.15490196078431373,
          0.15459882583170254,
          0.154296875,
          0.15594541910331383,
          0.1556420233463035,
          0.1553398058252427,
          0.15503875968992248,
          0.15667311411992263,
          0.15637065637065636,
          0.1579961464354528,
          0.1576923076923077,
          0.15738963531669867,
          0.15708812260536398,
          0.15678776290630975,
          0.15648854961832062,
          0.15619047619047619,
          0.155893536121673,
          0.1555977229601518,
          0.1553030303030303,
          0.15689981096408318,
          0.15660377358490565,
          0.15630885122410546,
          0.15601503759398497,
          0.15572232645403378,
          0.15543071161048688,
          0.15514018691588785,
          0.15485074626865672,
          0.15456238361266295,
          0.15427509293680297,
          0.15398886827458255,
          0.1537037037037037,
          0.1534195933456562,
          0.15313653136531366,
          0.15285451197053407,
          0.15257352941176472,
          0.15229357798165138,
          0.15384615384615385,
          0.15356489945155394,
          0.15328467153284672,
          0.15300546448087432,
          0.15272727272727274,
          0.15245009074410162,
          0.1539855072463768,
          0.15370705244122965,
          0.15342960288808663,
          0.15315315315315314,
          0.1528776978417266,
          0.1526032315978456,
          0.15232974910394265,
          0.15384615384615385,
          0.15357142857142858,
          0.1532976827094474,
          0.15480427046263345,
          0.15452930728241562,
          0.15602836879432624,
          0.15575221238938053,
          0.15547703180212014,
          0.15520282186948853,
          0.15492957746478872,
          0.1546572934973638,
          0.1543859649122807,
          0.15411558669001751,
          0.15384615384615385,
          0.15357766143106458,
          0.15505226480836237,
          0.15478260869565216,
          0.1545138888888889,
          0.15424610051993068,
          0.15397923875432526,
          0.153713298791019,
          0.15517241379310345,
          0.1549053356282272,
          0.15463917525773196,
          0.15437392795883362,
          0.1541095890410959,
          0.15384615384615385,
          0.15358361774744028,
          0.15332197614991483,
          0.15306122448979592,
          0.15280135823429541,
          0.15254237288135594,
          0.15228426395939088,
          0.15202702702702703,
          0.15345699831365936,
          0.1531986531986532,
          0.15294117647058825,
          0.15268456375838926,
          0.152428810720268,
          0.15384615384615385,
          0.15358931552587646,
          0.15333333333333332,
          0.15474209650582363,
          0.15448504983388706,
          0.15422885572139303,
          0.15562913907284767,
          0.15537190082644628,
          0.1551155115511551,
          0.15485996705107083,
          0.15625,
          0.15599343185550082,
          0.1557377049180328,
          0.15548281505728315,
          0.15522875816993464,
          0.15497553017944535,
          0.15472312703583063,
          0.15447154471544716,
          0.15422077922077923,
          0.1539708265802269,
          0.15372168284789645,
          0.15347334410339256,
          0.1532258064516129,
          0.1529790660225443,
          0.1527331189710611,
          0.15248796147672553,
          0.15224358974358973,
          0.152,
          0.15175718849840256,
          0.15151515151515152,
          0.15286624203821655,
          0.15262321144674085,
          0.1523809523809524,
          0.15213946117274169,
          0.1518987341772152,
          0.15323854660347552,
          0.15457413249211358,
          0.15433070866141732,
          0.1540880503144654,
          0.1554160125588697,
          0.15673981191222572,
          0.1564945226917058,
          0.15625,
          0.15600624024961,
          0.1557632398753894,
          0.15552099533437014,
          0.15683229813664595,
          0.15658914728682172,
          0.1563467492260062,
          0.1561051004636785,
          0.1558641975308642,
          0.15562403697996918,
          0.15538461538461537,
          0.15514592933947774,
          0.1549079754601227,
          0.1546707503828484,
          0.154434250764526,
          0.15419847328244274,
          0.15396341463414634,
          0.1537290715372907,
          0.1534954407294833,
          0.15326251896813353,
          0.15303030303030302,
          0.15279878971255673,
          0.15256797583081572,
          0.15384615384615385,
          0.1536144578313253,
          0.15338345864661654,
          0.15315315315315314,
          0.15292353823088456,
          0.15269461077844312,
          0.15246636771300448,
          0.15223880597014924,
          0.15201192250372578,
          0.15178571428571427,
          0.1515601783060921,
          0.1513353115727003,
          0.1511111111111111,
          0.15088757396449703,
          0.15066469719350073,
          0.1504424778761062,
          0.15022091310751104,
          0.15,
          0.14977973568281938,
          0.1495601173020528,
          0.15080527086383602,
          0.15058479532163743,
          0.15036496350364964,
          0.15014577259475217,
          0.14992721979621543,
          0.14970930232558138,
          0.14949201741654572,
          0.15072463768115943,
          0.15050651230101303,
          0.15028901734104047,
          0.15007215007215008,
          0.14985590778097982,
          0.14964028776978416,
          0.14942528735632185,
          0.1492109038737446,
          0.1489971346704871,
          0.14878397711015737,
          0.14857142857142858,
          0.14978601997146934,
          0.14957264957264957,
          0.14935988620199148,
          0.14914772727272727,
          0.150354609929078,
          0.1501416430594901,
          0.14992927864214992,
          0.1497175141242938,
          0.15091678420310295,
          0.15070422535211267,
          0.15049226441631505,
          0.1502808988764045,
          0.1514726507713885,
          0.15126050420168066,
          0.15104895104895105,
          0.15223463687150837,
          0.15202231520223153,
          0.15181058495821728,
          0.15299026425591097,
          0.1527777777777778,
          0.15256588072122051,
          0.15373961218836565,
          0.15352697095435686,
          0.15469613259668508,
          0.15448275862068966,
          0.15426997245179064,
          0.15405777166437415,
          0.15384615384615385,
          0.15363511659807957,
          0.15342465753424658,
          0.15321477428180574,
          0.15300546448087432,
          0.15279672578444747,
          0.15258855585831063,
          0.1523809523809524,
          0.15353260869565216,
          0.15332428765264586,
          0.15311653116531165,
          0.15426251691474965,
          0.15405405405405406,
          0.15384615384615385,
          0.15363881401617252,
          0.15477792732166892,
          0.15456989247311828,
          0.15570469798657718,
          0.1554959785522788,
          0.15528781793842034,
          0.15508021390374332,
          0.1548731642189586,
          0.156,
          0.15712383488681758,
          0.15691489361702127,
          0.15670650730411687,
          0.15782493368700265,
          0.1576158940397351,
          0.15873015873015872,
          0.15852047556142668,
          0.15963060686015831,
          0.15942028985507245,
          0.15921052631578947,
          0.16031537450722733,
          0.16010498687664043,
          0.1598951507208388,
          0.15968586387434555,
          0.15947712418300652,
          0.15926892950391644,
          0.1590612777053455,
          0.15885416666666666,
          0.15864759427828348,
          0.15844155844155844,
          0.1582360570687419,
          0.15803108808290156,
          0.15782664941785252,
          0.15891472868217055,
          0.16,
          0.15979381443298968,
          0.15958815958815958,
          0.15938303341902313,
          0.15917843388960207,
          0.15897435897435896,
          0.1587708066581306,
          0.159846547314578,
          0.15964240102171137,
          0.15943877551020408,
          0.1592356687898089,
          0.16030534351145037,
          0.16010165184243966,
          0.1598984771573604,
          0.1596958174904943,
          0.15949367088607594,
          0.1592920353982301,
          0.1590909090909091,
          0.15889029003783103,
          0.15869017632241814,
          0.15849056603773584,
          0.15829145728643215,
          0.15809284818067754,
          0.15789473684210525,
          0.15894868585732166,
          0.15875,
          0.1585518102372035,
          0.1596009975062344,
          0.15940224159402241,
          0.15920398009950248,
          0.15900621118012423,
          0.1588089330024814,
          0.15985130111524162,
          0.15965346534653466,
          0.16069221260815822,
          0.16049382716049382,
          0.16029593094944514,
          0.16009852216748768,
          0.15990159901599016,
          0.1597051597051597,
          0.15950920245398773,
          0.15931372549019607,
          0.1591187270501836,
          0.15892420537897312,
          0.15873015873015872,
          0.15853658536585366,
          0.15956151035322777,
          0.15936739659367397,
          0.1591737545565006,
          0.15898058252427186,
          0.15878787878787878,
          0.1585956416464891,
          0.1596130592503023,
          0.15942028985507245,
          0.15922798552472858,
          0.15903614457831325,
          0.1588447653429603,
          0.15985576923076922,
          0.1608643457382953,
          0.1606714628297362,
          0.16047904191616766,
          0.16028708133971292,
          0.16009557945041816,
          0.15990453460620524,
          0.16090584028605484,
          0.1619047619047619,
          0.16171224732461356,
          0.16152019002375298,
          0.16251482799525505,
          0.1623222748815166,
          0.1621301775147929,
          0.16193853427895982,
          0.1617473435655254,
          0.1615566037735849,
          0.16136631330977622,
          0.16117647058823528,
          0.1609870740305523,
          0.1607981220657277,
          0.16060961313012895,
          0.16042154566744732,
          0.16023391812865498,
          0.16004672897196262,
          0.16102683780630106,
          0.16083916083916083,
          0.16065192083818394,
          0.16046511627906976,
          0.1602787456445993,
          0.16009280742459397,
          0.15990730011587487,
          0.16087962962962962,
          0.1606936416184971,
          0.16166281755196305,
          0.16147635524798154,
          0.16244239631336405,
          0.16340621403912542,
          0.1632183908045977,
          0.16303099885189437,
          0.1628440366972477,
          0.16380297823596793,
          0.16475972540045766,
          0.16457142857142856,
          0.1643835616438356,
          0.16419612314709237,
          0.16400911161731208,
          0.16496018202502843,
          0.16477272727272727,
          0.16458569807037457,
          0.16439909297052155,
          0.16421291053227632,
          0.16402714932126697,
          0.1638418079096045,
          0.16478555304740405,
          0.1657271702367531,
          0.16554054054054054,
          0.16535433070866143,
          0.1651685393258427,
          0.16498316498316498,
          0.1647982062780269,
          0.16461366181410975,
          0.1644295302013423,
          0.16424581005586592,
          0.16517857142857142,
          0.16499442586399107,
          0.16592427616926503,
          0.1657397107897664,
          0.16666666666666666,
          0.16648168701442842,
          0.1662971175166297,
          0.16611295681063123,
          0.16592920353982302,
          0.16574585635359115,
          0.16556291390728478,
          0.16538037486218302,
          0.16519823788546256,
          0.16501650165016502,
          0.16483516483516483,
          0.16465422612513722,
          0.16447368421052633,
          0.16429353778751368,
          0.16411378555798686,
          0.16393442622950818,
          0.1648471615720524,
          0.16466739367502725,
          0.1644880174291939,
          0.16430903155603918,
          0.1641304347826087,
          0.16395222584147665,
          0.16377440347071584,
          0.1635969664138678,
          0.1634199134199134,
          0.16324324324324324,
          0.16414686825053995,
          0.1650485436893204,
          0.1648706896551724,
          0.16469321851453175,
          0.16451612903225807,
          0.16433941997851773,
          0.16416309012875535,
          0.1639871382636656,
          0.16381156316916487,
          0.16363636363636364,
          0.16452991452991453,
          0.16542155816435433,
          0.1652452025586354,
          0.1650692225772098,
          0.16489361702127658,
          0.1647183846971307,
          0.16560509554140126,
          0.16542948038176034,
          0.1652542372881356,
          0.16507936507936508,
          0.1649048625792812,
          0.16473072861668428,
          0.16561181434599156,
          0.1654373024236038,
          0.16526315789473683,
          0.1650893796004206,
          0.16491596638655462,
          0.16474291710388247,
          0.16457023060796647,
          0.1643979057591623,
          0.16422594142259414,
          0.16405433646812956,
          0.1638830897703549,
          0.16371220020855057,
          0.16354166666666667,
          0.16441207075962538,
          0.16424116424116425,
          0.1640706126687435,
          0.16390041493775934,
          0.16373056994818652,
          0.16356107660455488,
          0.16339193381592554,
          0.16322314049586778,
          0.16305469556243551,
          0.16288659793814433,
          0.1627188465499485,
          0.16255144032921812,
          0.16238437821171633,
          0.162217659137577,
          0.16205128205128205,
          0.16188524590163936,
          0.1617195496417605,
          0.16155419222903886,
          0.16138917262512767,
          0.16122448979591836,
          0.16106014271151886,
          0.16089613034623218,
          0.1607324516785351,
          0.16056910569105692,
          0.16142131979695432,
          0.1612576064908722,
          0.16109422492401215,
          0.16093117408906882,
          0.16076845298281092,
          0.1606060606060606,
          0.16044399596367306,
          0.16129032258064516,
          0.16112789526686808,
          0.16096579476861167,
          0.16080402010050251,
          0.16164658634538154,
          0.16148445336008024,
          0.16132264529058116,
          0.16116116116116116,
          0.161
         ],
         "yaxis": "y"
        },
        {
         "hovertemplate": "Lanzamientos=%{x}<br>Proporción de 5=%{y}<extra></extra>",
         "legendgroup": "",
         "marker": {
          "color": "black",
          "size": 6,
          "symbol": "circle"
         },
         "mode": "markers",
         "name": "",
         "orientation": "v",
         "showlegend": false,
         "type": "scatter",
         "x": [
          2,
          6,
          10,
          100,
          1000
         ],
         "xaxis": "x",
         "y": [
          0.5,
          0.16666666666666666,
          0.1,
          0.18,
          0.161
         ],
         "yaxis": "y"
        }
       ],
       "layout": {
        "legend": {
         "tracegroupgap": 0
        },
        "shapes": [
         {
          "line": {
           "color": "red",
           "dash": "dash"
          },
          "name": "Probabilidad teórica (1/6)",
          "type": "line",
          "x0": 1,
          "x1": 1000,
          "y0": 0.16666666666666666,
          "y1": 0.16666666666666666
         }
        ],
        "template": {
         "data": {
          "bar": [
           {
            "error_x": {
             "color": "#2a3f5f"
            },
            "error_y": {
             "color": "#2a3f5f"
            },
            "marker": {
             "line": {
              "color": "#E5ECF6",
              "width": 0.5
             },
             "pattern": {
              "fillmode": "overlay",
              "size": 10,
              "solidity": 0.2
             }
            },
            "type": "bar"
           }
          ],
          "barpolar": [
           {
            "marker": {
             "line": {
              "color": "#E5ECF6",
              "width": 0.5
             },
             "pattern": {
              "fillmode": "overlay",
              "size": 10,
              "solidity": 0.2
             }
            },
            "type": "barpolar"
           }
          ],
          "carpet": [
           {
            "aaxis": {
             "endlinecolor": "#2a3f5f",
             "gridcolor": "white",
             "linecolor": "white",
             "minorgridcolor": "white",
             "startlinecolor": "#2a3f5f"
            },
            "baxis": {
             "endlinecolor": "#2a3f5f",
             "gridcolor": "white",
             "linecolor": "white",
             "minorgridcolor": "white",
             "startlinecolor": "#2a3f5f"
            },
            "type": "carpet"
           }
          ],
          "choropleth": [
           {
            "colorbar": {
             "outlinewidth": 0,
             "ticks": ""
            },
            "type": "choropleth"
           }
          ],
          "contour": [
           {
            "colorbar": {
             "outlinewidth": 0,
             "ticks": ""
            },
            "colorscale": [
             [
              0,
              "#0d0887"
             ],
             [
              0.1111111111111111,
              "#46039f"
             ],
             [
              0.2222222222222222,
              "#7201a8"
             ],
             [
              0.3333333333333333,
              "#9c179e"
             ],
             [
              0.4444444444444444,
              "#bd3786"
             ],
             [
              0.5555555555555556,
              "#d8576b"
             ],
             [
              0.6666666666666666,
              "#ed7953"
             ],
             [
              0.7777777777777778,
              "#fb9f3a"
             ],
             [
              0.8888888888888888,
              "#fdca26"
             ],
             [
              1,
              "#f0f921"
             ]
            ],
            "type": "contour"
           }
          ],
          "contourcarpet": [
           {
            "colorbar": {
             "outlinewidth": 0,
             "ticks": ""
            },
            "type": "contourcarpet"
           }
          ],
          "heatmap": [
           {
            "colorbar": {
             "outlinewidth": 0,
             "ticks": ""
            },
            "colorscale": [
             [
              0,
              "#0d0887"
             ],
             [
              0.1111111111111111,
              "#46039f"
             ],
             [
              0.2222222222222222,
              "#7201a8"
             ],
             [
              0.3333333333333333,
              "#9c179e"
             ],
             [
              0.4444444444444444,
              "#bd3786"
             ],
             [
              0.5555555555555556,
              "#d8576b"
             ],
             [
              0.6666666666666666,
              "#ed7953"
             ],
             [
              0.7777777777777778,
              "#fb9f3a"
             ],
             [
              0.8888888888888888,
              "#fdca26"
             ],
             [
              1,
              "#f0f921"
             ]
            ],
            "type": "heatmap"
           }
          ],
          "heatmapgl": [
           {
            "colorbar": {
             "outlinewidth": 0,
             "ticks": ""
            },
            "colorscale": [
             [
              0,
              "#0d0887"
             ],
             [
              0.1111111111111111,
              "#46039f"
             ],
             [
              0.2222222222222222,
              "#7201a8"
             ],
             [
              0.3333333333333333,
              "#9c179e"
             ],
             [
              0.4444444444444444,
              "#bd3786"
             ],
             [
              0.5555555555555556,
              "#d8576b"
             ],
             [
              0.6666666666666666,
              "#ed7953"
             ],
             [
              0.7777777777777778,
              "#fb9f3a"
             ],
             [
              0.8888888888888888,
              "#fdca26"
             ],
             [
              1,
              "#f0f921"
             ]
            ],
            "type": "heatmapgl"
           }
          ],
          "histogram": [
           {
            "marker": {
             "pattern": {
              "fillmode": "overlay",
              "size": 10,
              "solidity": 0.2
             }
            },
            "type": "histogram"
           }
          ],
          "histogram2d": [
           {
            "colorbar": {
             "outlinewidth": 0,
             "ticks": ""
            },
            "colorscale": [
             [
              0,
              "#0d0887"
             ],
             [
              0.1111111111111111,
              "#46039f"
             ],
             [
              0.2222222222222222,
              "#7201a8"
             ],
             [
              0.3333333333333333,
              "#9c179e"
             ],
             [
              0.4444444444444444,
              "#bd3786"
             ],
             [
              0.5555555555555556,
              "#d8576b"
             ],
             [
              0.6666666666666666,
              "#ed7953"
             ],
             [
              0.7777777777777778,
              "#fb9f3a"
             ],
             [
              0.8888888888888888,
              "#fdca26"
             ],
             [
              1,
              "#f0f921"
             ]
            ],
            "type": "histogram2d"
           }
          ],
          "histogram2dcontour": [
           {
            "colorbar": {
             "outlinewidth": 0,
             "ticks": ""
            },
            "colorscale": [
             [
              0,
              "#0d0887"
             ],
             [
              0.1111111111111111,
              "#46039f"
             ],
             [
              0.2222222222222222,
              "#7201a8"
             ],
             [
              0.3333333333333333,
              "#9c179e"
             ],
             [
              0.4444444444444444,
              "#bd3786"
             ],
             [
              0.5555555555555556,
              "#d8576b"
             ],
             [
              0.6666666666666666,
              "#ed7953"
             ],
             [
              0.7777777777777778,
              "#fb9f3a"
             ],
             [
              0.8888888888888888,
              "#fdca26"
             ],
             [
              1,
              "#f0f921"
             ]
            ],
            "type": "histogram2dcontour"
           }
          ],
          "mesh3d": [
           {
            "colorbar": {
             "outlinewidth": 0,
             "ticks": ""
            },
            "type": "mesh3d"
           }
          ],
          "parcoords": [
           {
            "line": {
             "colorbar": {
              "outlinewidth": 0,
              "ticks": ""
             }
            },
            "type": "parcoords"
           }
          ],
          "pie": [
           {
            "automargin": true,
            "type": "pie"
           }
          ],
          "scatter": [
           {
            "fillpattern": {
             "fillmode": "overlay",
             "size": 10,
             "solidity": 0.2
            },
            "type": "scatter"
           }
          ],
          "scatter3d": [
           {
            "line": {
             "colorbar": {
              "outlinewidth": 0,
              "ticks": ""
             }
            },
            "marker": {
             "colorbar": {
              "outlinewidth": 0,
              "ticks": ""
             }
            },
            "type": "scatter3d"
           }
          ],
          "scattercarpet": [
           {
            "marker": {
             "colorbar": {
              "outlinewidth": 0,
              "ticks": ""
             }
            },
            "type": "scattercarpet"
           }
          ],
          "scattergeo": [
           {
            "marker": {
             "colorbar": {
              "outlinewidth": 0,
              "ticks": ""
             }
            },
            "type": "scattergeo"
           }
          ],
          "scattergl": [
           {
            "marker": {
             "colorbar": {
              "outlinewidth": 0,
              "ticks": ""
             }
            },
            "type": "scattergl"
           }
          ],
          "scattermapbox": [
           {
            "marker": {
             "colorbar": {
              "outlinewidth": 0,
              "ticks": ""
             }
            },
            "type": "scattermapbox"
           }
          ],
          "scatterpolar": [
           {
            "marker": {
             "colorbar": {
              "outlinewidth": 0,
              "ticks": ""
             }
            },
            "type": "scatterpolar"
           }
          ],
          "scatterpolargl": [
           {
            "marker": {
             "colorbar": {
              "outlinewidth": 0,
              "ticks": ""
             }
            },
            "type": "scatterpolargl"
           }
          ],
          "scatterternary": [
           {
            "marker": {
             "colorbar": {
              "outlinewidth": 0,
              "ticks": ""
             }
            },
            "type": "scatterternary"
           }
          ],
          "surface": [
           {
            "colorbar": {
             "outlinewidth": 0,
             "ticks": ""
            },
            "colorscale": [
             [
              0,
              "#0d0887"
             ],
             [
              0.1111111111111111,
              "#46039f"
             ],
             [
              0.2222222222222222,
              "#7201a8"
             ],
             [
              0.3333333333333333,
              "#9c179e"
             ],
             [
              0.4444444444444444,
              "#bd3786"
             ],
             [
              0.5555555555555556,
              "#d8576b"
             ],
             [
              0.6666666666666666,
              "#ed7953"
             ],
             [
              0.7777777777777778,
              "#fb9f3a"
             ],
             [
              0.8888888888888888,
              "#fdca26"
             ],
             [
              1,
              "#f0f921"
             ]
            ],
            "type": "surface"
           }
          ],
          "table": [
           {
            "cells": {
             "fill": {
              "color": "#EBF0F8"
             },
             "line": {
              "color": "white"
             }
            },
            "header": {
             "fill": {
              "color": "#C8D4E3"
             },
             "line": {
              "color": "white"
             }
            },
            "type": "table"
           }
          ]
         },
         "layout": {
          "annotationdefaults": {
           "arrowcolor": "#2a3f5f",
           "arrowhead": 0,
           "arrowwidth": 1
          },
          "autotypenumbers": "strict",
          "coloraxis": {
           "colorbar": {
            "outlinewidth": 0,
            "ticks": ""
           }
          },
          "colorscale": {
           "diverging": [
            [
             0,
             "#8e0152"
            ],
            [
             0.1,
             "#c51b7d"
            ],
            [
             0.2,
             "#de77ae"
            ],
            [
             0.3,
             "#f1b6da"
            ],
            [
             0.4,
             "#fde0ef"
            ],
            [
             0.5,
             "#f7f7f7"
            ],
            [
             0.6,
             "#e6f5d0"
            ],
            [
             0.7,
             "#b8e186"
            ],
            [
             0.8,
             "#7fbc41"
            ],
            [
             0.9,
             "#4d9221"
            ],
            [
             1,
             "#276419"
            ]
           ],
           "sequential": [
            [
             0,
             "#0d0887"
            ],
            [
             0.1111111111111111,
             "#46039f"
            ],
            [
             0.2222222222222222,
             "#7201a8"
            ],
            [
             0.3333333333333333,
             "#9c179e"
            ],
            [
             0.4444444444444444,
             "#bd3786"
            ],
            [
             0.5555555555555556,
             "#d8576b"
            ],
            [
             0.6666666666666666,
             "#ed7953"
            ],
            [
             0.7777777777777778,
             "#fb9f3a"
            ],
            [
             0.8888888888888888,
             "#fdca26"
            ],
            [
             1,
             "#f0f921"
            ]
           ],
           "sequentialminus": [
            [
             0,
             "#0d0887"
            ],
            [
             0.1111111111111111,
             "#46039f"
            ],
            [
             0.2222222222222222,
             "#7201a8"
            ],
            [
             0.3333333333333333,
             "#9c179e"
            ],
            [
             0.4444444444444444,
             "#bd3786"
            ],
            [
             0.5555555555555556,
             "#d8576b"
            ],
            [
             0.6666666666666666,
             "#ed7953"
            ],
            [
             0.7777777777777778,
             "#fb9f3a"
            ],
            [
             0.8888888888888888,
             "#fdca26"
            ],
            [
             1,
             "#f0f921"
            ]
           ]
          },
          "colorway": [
           "#636efa",
           "#EF553B",
           "#00cc96",
           "#ab63fa",
           "#FFA15A",
           "#19d3f3",
           "#FF6692",
           "#B6E880",
           "#FF97FF",
           "#FECB52"
          ],
          "font": {
           "color": "#2a3f5f"
          },
          "geo": {
           "bgcolor": "white",
           "lakecolor": "white",
           "landcolor": "#E5ECF6",
           "showlakes": true,
           "showland": true,
           "subunitcolor": "white"
          },
          "hoverlabel": {
           "align": "left"
          },
          "hovermode": "closest",
          "mapbox": {
           "style": "light"
          },
          "paper_bgcolor": "white",
          "plot_bgcolor": "#E5ECF6",
          "polar": {
           "angularaxis": {
            "gridcolor": "white",
            "linecolor": "white",
            "ticks": ""
           },
           "bgcolor": "#E5ECF6",
           "radialaxis": {
            "gridcolor": "white",
            "linecolor": "white",
            "ticks": ""
           }
          },
          "scene": {
           "xaxis": {
            "backgroundcolor": "#E5ECF6",
            "gridcolor": "white",
            "gridwidth": 2,
            "linecolor": "white",
            "showbackground": true,
            "ticks": "",
            "zerolinecolor": "white"
           },
           "yaxis": {
            "backgroundcolor": "#E5ECF6",
            "gridcolor": "white",
            "gridwidth": 2,
            "linecolor": "white",
            "showbackground": true,
            "ticks": "",
            "zerolinecolor": "white"
           },
           "zaxis": {
            "backgroundcolor": "#E5ECF6",
            "gridcolor": "white",
            "gridwidth": 2,
            "linecolor": "white",
            "showbackground": true,
            "ticks": "",
            "zerolinecolor": "white"
           }
          },
          "shapedefaults": {
           "line": {
            "color": "#2a3f5f"
           }
          },
          "ternary": {
           "aaxis": {
            "gridcolor": "white",
            "linecolor": "white",
            "ticks": ""
           },
           "baxis": {
            "gridcolor": "white",
            "linecolor": "white",
            "ticks": ""
           },
           "bgcolor": "#E5ECF6",
           "caxis": {
            "gridcolor": "white",
            "linecolor": "white",
            "ticks": ""
           }
          },
          "title": {
           "x": 0.05
          },
          "xaxis": {
           "automargin": true,
           "gridcolor": "white",
           "linecolor": "white",
           "ticks": "",
           "title": {
            "standoff": 15
           },
           "zerolinecolor": "white",
           "zerolinewidth": 2
          },
          "yaxis": {
           "automargin": true,
           "gridcolor": "white",
           "linecolor": "white",
           "ticks": "",
           "title": {
            "standoff": 15
           },
           "zerolinecolor": "white",
           "zerolinewidth": 2
          }
         }
        },
        "title": {
         "text": "Probabilidad de sacar 5 en el lanzamiento de un dado vs Número de Lanzamientos"
        },
        "xaxis": {
         "anchor": "y",
         "domain": [
          0,
          1
         ],
         "title": {
          "text": "Número de Lanzamientos"
         }
        },
        "yaxis": {
         "anchor": "x",
         "domain": [
          0,
          1
         ],
         "title": {
          "text": "Proporción de 5"
         }
        }
       }
      },
      "text/html": [
       "<div>                            <div id=\"7dea4d6f-c2df-4f02-b6f3-04716a6fc909\" class=\"plotly-graph-div\" style=\"height:525px; width:100%;\"></div>            <script type=\"text/javascript\">                require([\"plotly\"], function(Plotly) {                    window.PLOTLYENV=window.PLOTLYENV || {};                                    if (document.getElementById(\"7dea4d6f-c2df-4f02-b6f3-04716a6fc909\")) {                    Plotly.newPlot(                        \"7dea4d6f-c2df-4f02-b6f3-04716a6fc909\",                        [{\"hovertemplate\":\"N\\u00famero de Lanzamientos=%{x}\\u003cbr\\u003eProporci\\u00f3n de 5=%{y}\\u003cextra\\u003e\\u003c\\u002fextra\\u003e\",\"legendgroup\":\"\",\"line\":{\"color\":\"#636efa\",\"dash\":\"solid\"},\"marker\":{\"symbol\":\"circle\"},\"mode\":\"lines\",\"name\":\"\",\"orientation\":\"v\",\"showlegend\":false,\"x\":[1,2,3,4,5,6,7,8,9,10,11,12,13,14,15,16,17,18,19,20,21,22,23,24,25,26,27,28,29,30,31,32,33,34,35,36,37,38,39,40,41,42,43,44,45,46,47,48,49,50,51,52,53,54,55,56,57,58,59,60,61,62,63,64,65,66,67,68,69,70,71,72,73,74,75,76,77,78,79,80,81,82,83,84,85,86,87,88,89,90,91,92,93,94,95,96,97,98,99,100,101,102,103,104,105,106,107,108,109,110,111,112,113,114,115,116,117,118,119,120,121,122,123,124,125,126,127,128,129,130,131,132,133,134,135,136,137,138,139,140,141,142,143,144,145,146,147,148,149,150,151,152,153,154,155,156,157,158,159,160,161,162,163,164,165,166,167,168,169,170,171,172,173,174,175,176,177,178,179,180,181,182,183,184,185,186,187,188,189,190,191,192,193,194,195,196,197,198,199,200,201,202,203,204,205,206,207,208,209,210,211,212,213,214,215,216,217,218,219,220,221,222,223,224,225,226,227,228,229,230,231,232,233,234,235,236,237,238,239,240,241,242,243,244,245,246,247,248,249,250,251,252,253,254,255,256,257,258,259,260,261,262,263,264,265,266,267,268,269,270,271,272,273,274,275,276,277,278,279,280,281,282,283,284,285,286,287,288,289,290,291,292,293,294,295,296,297,298,299,300,301,302,303,304,305,306,307,308,309,310,311,312,313,314,315,316,317,318,319,320,321,322,323,324,325,326,327,328,329,330,331,332,333,334,335,336,337,338,339,340,341,342,343,344,345,346,347,348,349,350,351,352,353,354,355,356,357,358,359,360,361,362,363,364,365,366,367,368,369,370,371,372,373,374,375,376,377,378,379,380,381,382,383,384,385,386,387,388,389,390,391,392,393,394,395,396,397,398,399,400,401,402,403,404,405,406,407,408,409,410,411,412,413,414,415,416,417,418,419,420,421,422,423,424,425,426,427,428,429,430,431,432,433,434,435,436,437,438,439,440,441,442,443,444,445,446,447,448,449,450,451,452,453,454,455,456,457,458,459,460,461,462,463,464,465,466,467,468,469,470,471,472,473,474,475,476,477,478,479,480,481,482,483,484,485,486,487,488,489,490,491,492,493,494,495,496,497,498,499,500,501,502,503,504,505,506,507,508,509,510,511,512,513,514,515,516,517,518,519,520,521,522,523,524,525,526,527,528,529,530,531,532,533,534,535,536,537,538,539,540,541,542,543,544,545,546,547,548,549,550,551,552,553,554,555,556,557,558,559,560,561,562,563,564,565,566,567,568,569,570,571,572,573,574,575,576,577,578,579,580,581,582,583,584,585,586,587,588,589,590,591,592,593,594,595,596,597,598,599,600,601,602,603,604,605,606,607,608,609,610,611,612,613,614,615,616,617,618,619,620,621,622,623,624,625,626,627,628,629,630,631,632,633,634,635,636,637,638,639,640,641,642,643,644,645,646,647,648,649,650,651,652,653,654,655,656,657,658,659,660,661,662,663,664,665,666,667,668,669,670,671,672,673,674,675,676,677,678,679,680,681,682,683,684,685,686,687,688,689,690,691,692,693,694,695,696,697,698,699,700,701,702,703,704,705,706,707,708,709,710,711,712,713,714,715,716,717,718,719,720,721,722,723,724,725,726,727,728,729,730,731,732,733,734,735,736,737,738,739,740,741,742,743,744,745,746,747,748,749,750,751,752,753,754,755,756,757,758,759,760,761,762,763,764,765,766,767,768,769,770,771,772,773,774,775,776,777,778,779,780,781,782,783,784,785,786,787,788,789,790,791,792,793,794,795,796,797,798,799,800,801,802,803,804,805,806,807,808,809,810,811,812,813,814,815,816,817,818,819,820,821,822,823,824,825,826,827,828,829,830,831,832,833,834,835,836,837,838,839,840,841,842,843,844,845,846,847,848,849,850,851,852,853,854,855,856,857,858,859,860,861,862,863,864,865,866,867,868,869,870,871,872,873,874,875,876,877,878,879,880,881,882,883,884,885,886,887,888,889,890,891,892,893,894,895,896,897,898,899,900,901,902,903,904,905,906,907,908,909,910,911,912,913,914,915,916,917,918,919,920,921,922,923,924,925,926,927,928,929,930,931,932,933,934,935,936,937,938,939,940,941,942,943,944,945,946,947,948,949,950,951,952,953,954,955,956,957,958,959,960,961,962,963,964,965,966,967,968,969,970,971,972,973,974,975,976,977,978,979,980,981,982,983,984,985,986,987,988,989,990,991,992,993,994,995,996,997,998,999,1000],\"xaxis\":\"x\",\"y\":[1.0,0.5,0.3333333333333333,0.25,0.2,0.16666666666666666,0.14285714285714285,0.125,0.1111111111111111,0.1,0.18181818181818182,0.16666666666666666,0.15384615384615385,0.21428571428571427,0.2,0.1875,0.17647058823529413,0.16666666666666666,0.15789473684210525,0.15,0.14285714285714285,0.13636363636363635,0.13043478260869565,0.16666666666666666,0.16,0.15384615384615385,0.14814814814814814,0.14285714285714285,0.13793103448275862,0.13333333333333333,0.12903225806451613,0.125,0.12121212121212122,0.11764705882352941,0.11428571428571428,0.1111111111111111,0.10810810810810811,0.10526315789473684,0.10256410256410256,0.1,0.0975609756097561,0.09523809523809523,0.09302325581395349,0.11363636363636363,0.1111111111111111,0.10869565217391304,0.10638297872340426,0.125,0.12244897959183673,0.12,0.11764705882352941,0.1346153846153846,0.1320754716981132,0.12962962962962962,0.12727272727272726,0.14285714285714285,0.14035087719298245,0.15517241379310345,0.15254237288135594,0.15,0.14754098360655737,0.14516129032258066,0.14285714285714285,0.140625,0.13846153846153847,0.13636363636363635,0.13432835820895522,0.1323529411764706,0.13043478260869565,0.12857142857142856,0.1267605633802817,0.125,0.1232876712328767,0.13513513513513514,0.13333333333333333,0.13157894736842105,0.14285714285714285,0.14102564102564102,0.1518987341772152,0.1625,0.1728395061728395,0.17073170731707318,0.18072289156626506,0.19047619047619047,0.2,0.19767441860465115,0.20689655172413793,0.20454545454545456,0.20224719101123595,0.2,0.1978021978021978,0.1956521739130435,0.1935483870967742,0.19148936170212766,0.18947368421052632,0.1875,0.18556701030927836,0.1836734693877551,0.18181818181818182,0.18,0.1782178217821782,0.17647058823529413,0.18446601941747573,0.18269230769230768,0.18095238095238095,0.1792452830188679,0.17757009345794392,0.17592592592592593,0.1743119266055046,0.17272727272727273,0.17117117117117117,0.16964285714285715,0.168141592920354,0.16666666666666666,0.16521739130434782,0.16379310344827586,0.1623931623931624,0.16101694915254236,0.15966386554621848,0.15833333333333333,0.15702479338842976,0.1557377049180328,0.15447154471544716,0.1532258064516129,0.152,0.15079365079365079,0.14960629921259844,0.15625,0.15503875968992248,0.15384615384615385,0.15267175572519084,0.15151515151515152,0.15037593984962405,0.14925373134328357,0.15555555555555556,0.15441176470588236,0.15328467153284672,0.15217391304347827,0.1510791366906475,0.15,0.14893617021276595,0.14788732394366197,0.14685314685314685,0.14583333333333334,0.14482758620689656,0.14383561643835616,0.14285714285714285,0.14189189189189189,0.1476510067114094,0.14666666666666667,0.1456953642384106,0.14473684210526316,0.1437908496732026,0.14285714285714285,0.14193548387096774,0.14102564102564102,0.14012738853503184,0.13924050632911392,0.13836477987421383,0.1375,0.13664596273291926,0.13580246913580246,0.13496932515337423,0.13414634146341464,0.13333333333333333,0.13253012048192772,0.1377245508982036,0.13690476190476192,0.14201183431952663,0.1411764705882353,0.14035087719298245,0.14534883720930233,0.14450867052023122,0.14367816091954022,0.14285714285714285,0.14772727272727273,0.14689265536723164,0.14606741573033707,0.1452513966480447,0.14444444444444443,0.143646408839779,0.14285714285714285,0.14207650273224043,0.14130434782608695,0.14054054054054055,0.13978494623655913,0.13903743315508021,0.14361702127659576,0.14285714285714285,0.14210526315789473,0.14136125654450263,0.140625,0.13989637305699482,0.13917525773195877,0.13846153846153847,0.14285714285714285,0.14213197969543148,0.1414141414141414,0.1407035175879397,0.14,0.13930348258706468,0.13861386138613863,0.13793103448275862,0.13725490196078433,0.13658536585365855,0.13592233009708737,0.13526570048309178,0.1346153846153846,0.1339712918660287,0.13333333333333333,0.13744075829383887,0.13679245283018868,0.13615023474178403,0.13551401869158877,0.13488372093023257,0.13425925925925927,0.1336405529953917,0.13302752293577982,0.136986301369863,0.13636363636363635,0.13574660633484162,0.13513513513513514,0.13452914798206278,0.13392857142857142,0.13333333333333333,0.13274336283185842,0.13656387665198239,0.13596491228070176,0.13537117903930132,0.13478260869565217,0.1341991341991342,0.13793103448275862,0.13733905579399142,0.13675213675213677,0.13617021276595745,0.13559322033898305,0.1350210970464135,0.13445378151260504,0.13389121338912133,0.1375,0.13692946058091288,0.13636363636363635,0.13580246913580246,0.13524590163934427,0.1346938775510204,0.13414634146341464,0.13360323886639677,0.13306451612903225,0.13253012048192772,0.132,0.13545816733067728,0.1349206349206349,0.13438735177865613,0.13385826771653545,0.13333333333333333,0.1328125,0.13229571984435798,0.13178294573643412,0.13127413127413126,0.1346153846153846,0.13409961685823754,0.13358778625954199,0.13307984790874525,0.13257575757575757,0.1320754716981132,0.13157894736842105,0.1348314606741573,0.13432835820895522,0.13382899628252787,0.13333333333333333,0.13284132841328414,0.1323529411764706,0.13186813186813187,0.13138686131386862,0.13090909090909092,0.13043478260869565,0.1299638989169675,0.12949640287769784,0.12903225806451613,0.12857142857142856,0.12811387900355872,0.1276595744680851,0.13074204946996468,0.13380281690140844,0.13333333333333333,0.13286713286713286,0.13240418118466898,0.13541666666666666,0.13494809688581316,0.13448275862068965,0.13402061855670103,0.13356164383561644,0.13310580204778158,0.1326530612244898,0.13220338983050847,0.13175675675675674,0.13468013468013468,0.1342281879194631,0.13377926421404682,0.13333333333333333,0.132890365448505,0.1357615894039735,0.13861386138613863,0.13815789473684212,0.1377049180327869,0.13725490196078433,0.13680781758957655,0.13636363636363635,0.13592233009708737,0.13548387096774195,0.13504823151125403,0.13782051282051283,0.13738019169329074,0.13694267515923567,0.1365079365079365,0.1360759493670886,0.13564668769716087,0.13522012578616352,0.13479623824451412,0.134375,0.13395638629283488,0.13354037267080746,0.13312693498452013,0.13271604938271606,0.13538461538461538,0.13496932515337423,0.1345565749235474,0.13414634146341464,0.1337386018237082,0.13333333333333333,0.13293051359516617,0.13253012048192772,0.13513513513513514,0.1347305389221557,0.1373134328358209,0.13690476190476192,0.13649851632047477,0.13609467455621302,0.13569321533923304,0.13529411764705881,0.1348973607038123,0.13450292397660818,0.13411078717201166,0.13372093023255813,0.13333333333333333,0.1329479768786127,0.13256484149855907,0.13218390804597702,0.1318051575931232,0.13428571428571429,0.1339031339031339,0.13352272727272727,0.1359773371104816,0.1384180790960452,0.13802816901408452,0.13764044943820225,0.13725490196078433,0.13966480446927373,0.14206128133704735,0.14166666666666666,0.1440443213296399,0.143646408839779,0.14325068870523416,0.14285714285714285,0.14246575342465753,0.14207650273224043,0.14168937329700274,0.14130434782608695,0.14092140921409213,0.14054054054054055,0.14016172506738545,0.13978494623655913,0.14209115281501342,0.1443850267379679,0.144,0.14361702127659576,0.14323607427055704,0.1455026455026455,0.14511873350923482,0.14473684210526316,0.14435695538057744,0.14397905759162305,0.14360313315926893,0.14322916666666666,0.14285714285714285,0.14248704663212436,0.1421188630490956,0.14175257731958762,0.14138817480719795,0.14102564102564102,0.1432225063938619,0.14540816326530612,0.1450381679389313,0.1446700507614213,0.14430379746835442,0.14393939393939395,0.14357682619647355,0.14321608040201006,0.14285714285714285,0.1425,0.14214463840399003,0.14427860696517414,0.14392059553349876,0.14356435643564355,0.14320987654320988,0.14285714285714285,0.14250614250614252,0.14460784313725492,0.14425427872860636,0.14390243902439023,0.1435523114355231,0.14320388349514562,0.14285714285714285,0.14251207729468598,0.14216867469879518,0.14182692307692307,0.14148681055155876,0.14114832535885166,0.14081145584725538,0.14047619047619048,0.14251781472684086,0.14218009478672985,0.14184397163120568,0.14386792452830188,0.14352941176470588,0.1431924882629108,0.14285714285714285,0.1425233644859813,0.14219114219114218,0.14418604651162792,0.14617169373549885,0.14814814814814814,0.14780600461893764,0.14746543778801843,0.14942528735632185,0.14908256880733944,0.14874141876430205,0.14840182648401826,0.1480637813211845,0.14772727272727273,0.1473922902494331,0.14705882352941177,0.14672686230248308,0.1463963963963964,0.14606741573033707,0.14573991031390135,0.14541387024608501,0.14508928571428573,0.1447661469933185,0.14444444444444443,0.14634146341463414,0.14601769911504425,0.1479028697571744,0.14757709251101322,0.14725274725274726,0.14692982456140352,0.14660831509846828,0.1462882096069869,0.14814814814814814,0.15,0.15184381778741865,0.15151515151515152,0.1511879049676026,0.15086206896551724,0.15053763440860216,0.15021459227467812,0.14989293361884368,0.14957264957264957,0.1513859275053305,0.15106382978723404,0.15286624203821655,0.15254237288135594,0.1522198731501057,0.1518987341772152,0.15368421052631578,0.15336134453781514,0.1530398322851153,0.15271966527196654,0.1524008350730689,0.15208333333333332,0.15176715176715178,0.15145228215767634,0.15320910973084886,0.15495867768595042,0.15463917525773196,0.15432098765432098,0.1540041067761807,0.15368852459016394,0.15337423312883436,0.15306122448979592,0.15478615071283094,0.15447154471544716,0.15415821501014199,0.15384615384615385,0.15353535353535352,0.1532258064516129,0.1529175050301811,0.15461847389558234,0.15430861723446893,0.156,0.15768463073852296,0.15737051792828685,0.15705765407554673,0.15674603174603174,0.15643564356435644,0.15612648221343872,0.15581854043392504,0.15551181102362205,0.15520628683693516,0.15490196078431373,0.15459882583170254,0.154296875,0.15594541910331383,0.1556420233463035,0.1553398058252427,0.15503875968992248,0.15667311411992263,0.15637065637065636,0.1579961464354528,0.1576923076923077,0.15738963531669867,0.15708812260536398,0.15678776290630975,0.15648854961832062,0.15619047619047619,0.155893536121673,0.1555977229601518,0.1553030303030303,0.15689981096408318,0.15660377358490565,0.15630885122410546,0.15601503759398497,0.15572232645403378,0.15543071161048688,0.15514018691588785,0.15485074626865672,0.15456238361266295,0.15427509293680297,0.15398886827458255,0.1537037037037037,0.1534195933456562,0.15313653136531366,0.15285451197053407,0.15257352941176472,0.15229357798165138,0.15384615384615385,0.15356489945155394,0.15328467153284672,0.15300546448087432,0.15272727272727274,0.15245009074410162,0.1539855072463768,0.15370705244122965,0.15342960288808663,0.15315315315315314,0.1528776978417266,0.1526032315978456,0.15232974910394265,0.15384615384615385,0.15357142857142858,0.1532976827094474,0.15480427046263345,0.15452930728241562,0.15602836879432624,0.15575221238938053,0.15547703180212014,0.15520282186948853,0.15492957746478872,0.1546572934973638,0.1543859649122807,0.15411558669001751,0.15384615384615385,0.15357766143106458,0.15505226480836237,0.15478260869565216,0.1545138888888889,0.15424610051993068,0.15397923875432526,0.153713298791019,0.15517241379310345,0.1549053356282272,0.15463917525773196,0.15437392795883362,0.1541095890410959,0.15384615384615385,0.15358361774744028,0.15332197614991483,0.15306122448979592,0.15280135823429541,0.15254237288135594,0.15228426395939088,0.15202702702702703,0.15345699831365936,0.1531986531986532,0.15294117647058825,0.15268456375838926,0.152428810720268,0.15384615384615385,0.15358931552587646,0.15333333333333332,0.15474209650582363,0.15448504983388706,0.15422885572139303,0.15562913907284767,0.15537190082644628,0.1551155115511551,0.15485996705107083,0.15625,0.15599343185550082,0.1557377049180328,0.15548281505728315,0.15522875816993464,0.15497553017944535,0.15472312703583063,0.15447154471544716,0.15422077922077923,0.1539708265802269,0.15372168284789645,0.15347334410339256,0.1532258064516129,0.1529790660225443,0.1527331189710611,0.15248796147672553,0.15224358974358973,0.152,0.15175718849840256,0.15151515151515152,0.15286624203821655,0.15262321144674085,0.1523809523809524,0.15213946117274169,0.1518987341772152,0.15323854660347552,0.15457413249211358,0.15433070866141732,0.1540880503144654,0.1554160125588697,0.15673981191222572,0.1564945226917058,0.15625,0.15600624024961,0.1557632398753894,0.15552099533437014,0.15683229813664595,0.15658914728682172,0.1563467492260062,0.1561051004636785,0.1558641975308642,0.15562403697996918,0.15538461538461537,0.15514592933947774,0.1549079754601227,0.1546707503828484,0.154434250764526,0.15419847328244274,0.15396341463414634,0.1537290715372907,0.1534954407294833,0.15326251896813353,0.15303030303030302,0.15279878971255673,0.15256797583081572,0.15384615384615385,0.1536144578313253,0.15338345864661654,0.15315315315315314,0.15292353823088456,0.15269461077844312,0.15246636771300448,0.15223880597014924,0.15201192250372578,0.15178571428571427,0.1515601783060921,0.1513353115727003,0.1511111111111111,0.15088757396449703,0.15066469719350073,0.1504424778761062,0.15022091310751104,0.15,0.14977973568281938,0.1495601173020528,0.15080527086383602,0.15058479532163743,0.15036496350364964,0.15014577259475217,0.14992721979621543,0.14970930232558138,0.14949201741654572,0.15072463768115943,0.15050651230101303,0.15028901734104047,0.15007215007215008,0.14985590778097982,0.14964028776978416,0.14942528735632185,0.1492109038737446,0.1489971346704871,0.14878397711015737,0.14857142857142858,0.14978601997146934,0.14957264957264957,0.14935988620199148,0.14914772727272727,0.150354609929078,0.1501416430594901,0.14992927864214992,0.1497175141242938,0.15091678420310295,0.15070422535211267,0.15049226441631505,0.1502808988764045,0.1514726507713885,0.15126050420168066,0.15104895104895105,0.15223463687150837,0.15202231520223153,0.15181058495821728,0.15299026425591097,0.1527777777777778,0.15256588072122051,0.15373961218836565,0.15352697095435686,0.15469613259668508,0.15448275862068966,0.15426997245179064,0.15405777166437415,0.15384615384615385,0.15363511659807957,0.15342465753424658,0.15321477428180574,0.15300546448087432,0.15279672578444747,0.15258855585831063,0.1523809523809524,0.15353260869565216,0.15332428765264586,0.15311653116531165,0.15426251691474965,0.15405405405405406,0.15384615384615385,0.15363881401617252,0.15477792732166892,0.15456989247311828,0.15570469798657718,0.1554959785522788,0.15528781793842034,0.15508021390374332,0.1548731642189586,0.156,0.15712383488681758,0.15691489361702127,0.15670650730411687,0.15782493368700265,0.1576158940397351,0.15873015873015872,0.15852047556142668,0.15963060686015831,0.15942028985507245,0.15921052631578947,0.16031537450722733,0.16010498687664043,0.1598951507208388,0.15968586387434555,0.15947712418300652,0.15926892950391644,0.1590612777053455,0.15885416666666666,0.15864759427828348,0.15844155844155844,0.1582360570687419,0.15803108808290156,0.15782664941785252,0.15891472868217055,0.16,0.15979381443298968,0.15958815958815958,0.15938303341902313,0.15917843388960207,0.15897435897435896,0.1587708066581306,0.159846547314578,0.15964240102171137,0.15943877551020408,0.1592356687898089,0.16030534351145037,0.16010165184243966,0.1598984771573604,0.1596958174904943,0.15949367088607594,0.1592920353982301,0.1590909090909091,0.15889029003783103,0.15869017632241814,0.15849056603773584,0.15829145728643215,0.15809284818067754,0.15789473684210525,0.15894868585732166,0.15875,0.1585518102372035,0.1596009975062344,0.15940224159402241,0.15920398009950248,0.15900621118012423,0.1588089330024814,0.15985130111524162,0.15965346534653466,0.16069221260815822,0.16049382716049382,0.16029593094944514,0.16009852216748768,0.15990159901599016,0.1597051597051597,0.15950920245398773,0.15931372549019607,0.1591187270501836,0.15892420537897312,0.15873015873015872,0.15853658536585366,0.15956151035322777,0.15936739659367397,0.1591737545565006,0.15898058252427186,0.15878787878787878,0.1585956416464891,0.1596130592503023,0.15942028985507245,0.15922798552472858,0.15903614457831325,0.1588447653429603,0.15985576923076922,0.1608643457382953,0.1606714628297362,0.16047904191616766,0.16028708133971292,0.16009557945041816,0.15990453460620524,0.16090584028605484,0.1619047619047619,0.16171224732461356,0.16152019002375298,0.16251482799525505,0.1623222748815166,0.1621301775147929,0.16193853427895982,0.1617473435655254,0.1615566037735849,0.16136631330977622,0.16117647058823528,0.1609870740305523,0.1607981220657277,0.16060961313012895,0.16042154566744732,0.16023391812865498,0.16004672897196262,0.16102683780630106,0.16083916083916083,0.16065192083818394,0.16046511627906976,0.1602787456445993,0.16009280742459397,0.15990730011587487,0.16087962962962962,0.1606936416184971,0.16166281755196305,0.16147635524798154,0.16244239631336405,0.16340621403912542,0.1632183908045977,0.16303099885189437,0.1628440366972477,0.16380297823596793,0.16475972540045766,0.16457142857142856,0.1643835616438356,0.16419612314709237,0.16400911161731208,0.16496018202502843,0.16477272727272727,0.16458569807037457,0.16439909297052155,0.16421291053227632,0.16402714932126697,0.1638418079096045,0.16478555304740405,0.1657271702367531,0.16554054054054054,0.16535433070866143,0.1651685393258427,0.16498316498316498,0.1647982062780269,0.16461366181410975,0.1644295302013423,0.16424581005586592,0.16517857142857142,0.16499442586399107,0.16592427616926503,0.1657397107897664,0.16666666666666666,0.16648168701442842,0.1662971175166297,0.16611295681063123,0.16592920353982302,0.16574585635359115,0.16556291390728478,0.16538037486218302,0.16519823788546256,0.16501650165016502,0.16483516483516483,0.16465422612513722,0.16447368421052633,0.16429353778751368,0.16411378555798686,0.16393442622950818,0.1648471615720524,0.16466739367502725,0.1644880174291939,0.16430903155603918,0.1641304347826087,0.16395222584147665,0.16377440347071584,0.1635969664138678,0.1634199134199134,0.16324324324324324,0.16414686825053995,0.1650485436893204,0.1648706896551724,0.16469321851453175,0.16451612903225807,0.16433941997851773,0.16416309012875535,0.1639871382636656,0.16381156316916487,0.16363636363636364,0.16452991452991453,0.16542155816435433,0.1652452025586354,0.1650692225772098,0.16489361702127658,0.1647183846971307,0.16560509554140126,0.16542948038176034,0.1652542372881356,0.16507936507936508,0.1649048625792812,0.16473072861668428,0.16561181434599156,0.1654373024236038,0.16526315789473683,0.1650893796004206,0.16491596638655462,0.16474291710388247,0.16457023060796647,0.1643979057591623,0.16422594142259414,0.16405433646812956,0.1638830897703549,0.16371220020855057,0.16354166666666667,0.16441207075962538,0.16424116424116425,0.1640706126687435,0.16390041493775934,0.16373056994818652,0.16356107660455488,0.16339193381592554,0.16322314049586778,0.16305469556243551,0.16288659793814433,0.1627188465499485,0.16255144032921812,0.16238437821171633,0.162217659137577,0.16205128205128205,0.16188524590163936,0.1617195496417605,0.16155419222903886,0.16138917262512767,0.16122448979591836,0.16106014271151886,0.16089613034623218,0.1607324516785351,0.16056910569105692,0.16142131979695432,0.1612576064908722,0.16109422492401215,0.16093117408906882,0.16076845298281092,0.1606060606060606,0.16044399596367306,0.16129032258064516,0.16112789526686808,0.16096579476861167,0.16080402010050251,0.16164658634538154,0.16148445336008024,0.16132264529058116,0.16116116116116116,0.161],\"yaxis\":\"y\",\"type\":\"scatter\"},{\"hovertemplate\":\"Lanzamientos=%{x}\\u003cbr\\u003eProporci\\u00f3n de 5=%{y}\\u003cextra\\u003e\\u003c\\u002fextra\\u003e\",\"legendgroup\":\"\",\"marker\":{\"color\":\"black\",\"size\":6,\"symbol\":\"circle\"},\"mode\":\"markers\",\"name\":\"\",\"orientation\":\"v\",\"showlegend\":false,\"x\":[2,6,10,100,1000],\"xaxis\":\"x\",\"y\":[0.5,0.16666666666666666,0.1,0.18,0.161],\"yaxis\":\"y\",\"type\":\"scatter\"}],                        {\"template\":{\"data\":{\"histogram2dcontour\":[{\"type\":\"histogram2dcontour\",\"colorbar\":{\"outlinewidth\":0,\"ticks\":\"\"},\"colorscale\":[[0.0,\"#0d0887\"],[0.1111111111111111,\"#46039f\"],[0.2222222222222222,\"#7201a8\"],[0.3333333333333333,\"#9c179e\"],[0.4444444444444444,\"#bd3786\"],[0.5555555555555556,\"#d8576b\"],[0.6666666666666666,\"#ed7953\"],[0.7777777777777778,\"#fb9f3a\"],[0.8888888888888888,\"#fdca26\"],[1.0,\"#f0f921\"]]}],\"choropleth\":[{\"type\":\"choropleth\",\"colorbar\":{\"outlinewidth\":0,\"ticks\":\"\"}}],\"histogram2d\":[{\"type\":\"histogram2d\",\"colorbar\":{\"outlinewidth\":0,\"ticks\":\"\"},\"colorscale\":[[0.0,\"#0d0887\"],[0.1111111111111111,\"#46039f\"],[0.2222222222222222,\"#7201a8\"],[0.3333333333333333,\"#9c179e\"],[0.4444444444444444,\"#bd3786\"],[0.5555555555555556,\"#d8576b\"],[0.6666666666666666,\"#ed7953\"],[0.7777777777777778,\"#fb9f3a\"],[0.8888888888888888,\"#fdca26\"],[1.0,\"#f0f921\"]]}],\"heatmap\":[{\"type\":\"heatmap\",\"colorbar\":{\"outlinewidth\":0,\"ticks\":\"\"},\"colorscale\":[[0.0,\"#0d0887\"],[0.1111111111111111,\"#46039f\"],[0.2222222222222222,\"#7201a8\"],[0.3333333333333333,\"#9c179e\"],[0.4444444444444444,\"#bd3786\"],[0.5555555555555556,\"#d8576b\"],[0.6666666666666666,\"#ed7953\"],[0.7777777777777778,\"#fb9f3a\"],[0.8888888888888888,\"#fdca26\"],[1.0,\"#f0f921\"]]}],\"heatmapgl\":[{\"type\":\"heatmapgl\",\"colorbar\":{\"outlinewidth\":0,\"ticks\":\"\"},\"colorscale\":[[0.0,\"#0d0887\"],[0.1111111111111111,\"#46039f\"],[0.2222222222222222,\"#7201a8\"],[0.3333333333333333,\"#9c179e\"],[0.4444444444444444,\"#bd3786\"],[0.5555555555555556,\"#d8576b\"],[0.6666666666666666,\"#ed7953\"],[0.7777777777777778,\"#fb9f3a\"],[0.8888888888888888,\"#fdca26\"],[1.0,\"#f0f921\"]]}],\"contourcarpet\":[{\"type\":\"contourcarpet\",\"colorbar\":{\"outlinewidth\":0,\"ticks\":\"\"}}],\"contour\":[{\"type\":\"contour\",\"colorbar\":{\"outlinewidth\":0,\"ticks\":\"\"},\"colorscale\":[[0.0,\"#0d0887\"],[0.1111111111111111,\"#46039f\"],[0.2222222222222222,\"#7201a8\"],[0.3333333333333333,\"#9c179e\"],[0.4444444444444444,\"#bd3786\"],[0.5555555555555556,\"#d8576b\"],[0.6666666666666666,\"#ed7953\"],[0.7777777777777778,\"#fb9f3a\"],[0.8888888888888888,\"#fdca26\"],[1.0,\"#f0f921\"]]}],\"surface\":[{\"type\":\"surface\",\"colorbar\":{\"outlinewidth\":0,\"ticks\":\"\"},\"colorscale\":[[0.0,\"#0d0887\"],[0.1111111111111111,\"#46039f\"],[0.2222222222222222,\"#7201a8\"],[0.3333333333333333,\"#9c179e\"],[0.4444444444444444,\"#bd3786\"],[0.5555555555555556,\"#d8576b\"],[0.6666666666666666,\"#ed7953\"],[0.7777777777777778,\"#fb9f3a\"],[0.8888888888888888,\"#fdca26\"],[1.0,\"#f0f921\"]]}],\"mesh3d\":[{\"type\":\"mesh3d\",\"colorbar\":{\"outlinewidth\":0,\"ticks\":\"\"}}],\"scatter\":[{\"fillpattern\":{\"fillmode\":\"overlay\",\"size\":10,\"solidity\":0.2},\"type\":\"scatter\"}],\"parcoords\":[{\"type\":\"parcoords\",\"line\":{\"colorbar\":{\"outlinewidth\":0,\"ticks\":\"\"}}}],\"scatterpolargl\":[{\"type\":\"scatterpolargl\",\"marker\":{\"colorbar\":{\"outlinewidth\":0,\"ticks\":\"\"}}}],\"bar\":[{\"error_x\":{\"color\":\"#2a3f5f\"},\"error_y\":{\"color\":\"#2a3f5f\"},\"marker\":{\"line\":{\"color\":\"#E5ECF6\",\"width\":0.5},\"pattern\":{\"fillmode\":\"overlay\",\"size\":10,\"solidity\":0.2}},\"type\":\"bar\"}],\"scattergeo\":[{\"type\":\"scattergeo\",\"marker\":{\"colorbar\":{\"outlinewidth\":0,\"ticks\":\"\"}}}],\"scatterpolar\":[{\"type\":\"scatterpolar\",\"marker\":{\"colorbar\":{\"outlinewidth\":0,\"ticks\":\"\"}}}],\"histogram\":[{\"marker\":{\"pattern\":{\"fillmode\":\"overlay\",\"size\":10,\"solidity\":0.2}},\"type\":\"histogram\"}],\"scattergl\":[{\"type\":\"scattergl\",\"marker\":{\"colorbar\":{\"outlinewidth\":0,\"ticks\":\"\"}}}],\"scatter3d\":[{\"type\":\"scatter3d\",\"line\":{\"colorbar\":{\"outlinewidth\":0,\"ticks\":\"\"}},\"marker\":{\"colorbar\":{\"outlinewidth\":0,\"ticks\":\"\"}}}],\"scattermapbox\":[{\"type\":\"scattermapbox\",\"marker\":{\"colorbar\":{\"outlinewidth\":0,\"ticks\":\"\"}}}],\"scatterternary\":[{\"type\":\"scatterternary\",\"marker\":{\"colorbar\":{\"outlinewidth\":0,\"ticks\":\"\"}}}],\"scattercarpet\":[{\"type\":\"scattercarpet\",\"marker\":{\"colorbar\":{\"outlinewidth\":0,\"ticks\":\"\"}}}],\"carpet\":[{\"aaxis\":{\"endlinecolor\":\"#2a3f5f\",\"gridcolor\":\"white\",\"linecolor\":\"white\",\"minorgridcolor\":\"white\",\"startlinecolor\":\"#2a3f5f\"},\"baxis\":{\"endlinecolor\":\"#2a3f5f\",\"gridcolor\":\"white\",\"linecolor\":\"white\",\"minorgridcolor\":\"white\",\"startlinecolor\":\"#2a3f5f\"},\"type\":\"carpet\"}],\"table\":[{\"cells\":{\"fill\":{\"color\":\"#EBF0F8\"},\"line\":{\"color\":\"white\"}},\"header\":{\"fill\":{\"color\":\"#C8D4E3\"},\"line\":{\"color\":\"white\"}},\"type\":\"table\"}],\"barpolar\":[{\"marker\":{\"line\":{\"color\":\"#E5ECF6\",\"width\":0.5},\"pattern\":{\"fillmode\":\"overlay\",\"size\":10,\"solidity\":0.2}},\"type\":\"barpolar\"}],\"pie\":[{\"automargin\":true,\"type\":\"pie\"}]},\"layout\":{\"autotypenumbers\":\"strict\",\"colorway\":[\"#636efa\",\"#EF553B\",\"#00cc96\",\"#ab63fa\",\"#FFA15A\",\"#19d3f3\",\"#FF6692\",\"#B6E880\",\"#FF97FF\",\"#FECB52\"],\"font\":{\"color\":\"#2a3f5f\"},\"hovermode\":\"closest\",\"hoverlabel\":{\"align\":\"left\"},\"paper_bgcolor\":\"white\",\"plot_bgcolor\":\"#E5ECF6\",\"polar\":{\"bgcolor\":\"#E5ECF6\",\"angularaxis\":{\"gridcolor\":\"white\",\"linecolor\":\"white\",\"ticks\":\"\"},\"radialaxis\":{\"gridcolor\":\"white\",\"linecolor\":\"white\",\"ticks\":\"\"}},\"ternary\":{\"bgcolor\":\"#E5ECF6\",\"aaxis\":{\"gridcolor\":\"white\",\"linecolor\":\"white\",\"ticks\":\"\"},\"baxis\":{\"gridcolor\":\"white\",\"linecolor\":\"white\",\"ticks\":\"\"},\"caxis\":{\"gridcolor\":\"white\",\"linecolor\":\"white\",\"ticks\":\"\"}},\"coloraxis\":{\"colorbar\":{\"outlinewidth\":0,\"ticks\":\"\"}},\"colorscale\":{\"sequential\":[[0.0,\"#0d0887\"],[0.1111111111111111,\"#46039f\"],[0.2222222222222222,\"#7201a8\"],[0.3333333333333333,\"#9c179e\"],[0.4444444444444444,\"#bd3786\"],[0.5555555555555556,\"#d8576b\"],[0.6666666666666666,\"#ed7953\"],[0.7777777777777778,\"#fb9f3a\"],[0.8888888888888888,\"#fdca26\"],[1.0,\"#f0f921\"]],\"sequentialminus\":[[0.0,\"#0d0887\"],[0.1111111111111111,\"#46039f\"],[0.2222222222222222,\"#7201a8\"],[0.3333333333333333,\"#9c179e\"],[0.4444444444444444,\"#bd3786\"],[0.5555555555555556,\"#d8576b\"],[0.6666666666666666,\"#ed7953\"],[0.7777777777777778,\"#fb9f3a\"],[0.8888888888888888,\"#fdca26\"],[1.0,\"#f0f921\"]],\"diverging\":[[0,\"#8e0152\"],[0.1,\"#c51b7d\"],[0.2,\"#de77ae\"],[0.3,\"#f1b6da\"],[0.4,\"#fde0ef\"],[0.5,\"#f7f7f7\"],[0.6,\"#e6f5d0\"],[0.7,\"#b8e186\"],[0.8,\"#7fbc41\"],[0.9,\"#4d9221\"],[1,\"#276419\"]]},\"xaxis\":{\"gridcolor\":\"white\",\"linecolor\":\"white\",\"ticks\":\"\",\"title\":{\"standoff\":15},\"zerolinecolor\":\"white\",\"automargin\":true,\"zerolinewidth\":2},\"yaxis\":{\"gridcolor\":\"white\",\"linecolor\":\"white\",\"ticks\":\"\",\"title\":{\"standoff\":15},\"zerolinecolor\":\"white\",\"automargin\":true,\"zerolinewidth\":2},\"scene\":{\"xaxis\":{\"backgroundcolor\":\"#E5ECF6\",\"gridcolor\":\"white\",\"linecolor\":\"white\",\"showbackground\":true,\"ticks\":\"\",\"zerolinecolor\":\"white\",\"gridwidth\":2},\"yaxis\":{\"backgroundcolor\":\"#E5ECF6\",\"gridcolor\":\"white\",\"linecolor\":\"white\",\"showbackground\":true,\"ticks\":\"\",\"zerolinecolor\":\"white\",\"gridwidth\":2},\"zaxis\":{\"backgroundcolor\":\"#E5ECF6\",\"gridcolor\":\"white\",\"linecolor\":\"white\",\"showbackground\":true,\"ticks\":\"\",\"zerolinecolor\":\"white\",\"gridwidth\":2}},\"shapedefaults\":{\"line\":{\"color\":\"#2a3f5f\"}},\"annotationdefaults\":{\"arrowcolor\":\"#2a3f5f\",\"arrowhead\":0,\"arrowwidth\":1},\"geo\":{\"bgcolor\":\"white\",\"landcolor\":\"#E5ECF6\",\"subunitcolor\":\"white\",\"showland\":true,\"showlakes\":true,\"lakecolor\":\"white\"},\"title\":{\"x\":0.05},\"mapbox\":{\"style\":\"light\"}}},\"xaxis\":{\"anchor\":\"y\",\"domain\":[0.0,1.0],\"title\":{\"text\":\"N\\u00famero de Lanzamientos\"}},\"yaxis\":{\"anchor\":\"x\",\"domain\":[0.0,1.0],\"title\":{\"text\":\"Proporci\\u00f3n de 5\"}},\"legend\":{\"tracegroupgap\":0},\"title\":{\"text\":\"Probabilidad de sacar 5 en el lanzamiento de un dado vs N\\u00famero de Lanzamientos\"},\"shapes\":[{\"line\":{\"color\":\"red\",\"dash\":\"dash\"},\"name\":\"Probabilidad te\\u00f3rica (1\\u002f6)\",\"type\":\"line\",\"x0\":1,\"x1\":1000,\"y0\":0.16666666666666666,\"y1\":0.16666666666666666}]},                        {\"responsive\": true}                    ).then(function(){\n",
       "                            \n",
       "var gd = document.getElementById('7dea4d6f-c2df-4f02-b6f3-04716a6fc909');\n",
       "var x = new MutationObserver(function (mutations, observer) {{\n",
       "        var display = window.getComputedStyle(gd).display;\n",
       "        if (!display || display === 'none') {{\n",
       "            console.log([gd, 'removed!']);\n",
       "            Plotly.purge(gd);\n",
       "            observer.disconnect();\n",
       "        }}\n",
       "}});\n",
       "\n",
       "// Listen for the removal of the full notebook cells\n",
       "var notebookContainer = gd.closest('#notebook-container');\n",
       "if (notebookContainer) {{\n",
       "    x.observe(notebookContainer, {childList: true});\n",
       "}}\n",
       "\n",
       "// Listen for the clearing of the current output cell\n",
       "var outputEl = gd.closest('.output');\n",
       "if (outputEl) {{\n",
       "    x.observe(outputEl, {childList: true});\n",
       "}}\n",
       "\n",
       "                        })                };                });            </script>        </div>"
      ]
     },
     "metadata": {},
     "output_type": "display_data"
    }
   ],
   "source": [
    "# Configuración de la simulación\n",
    "np.random.seed(0)  # Establecer una semilla aleatoria para reproducibilidad\n",
    "num_lanzamientos = 1000  # Número total de lanzamientos\n",
    "lanzamientos = np.random.randint(1, 7, size=num_lanzamientos)  # Simulación de lanzamientos\n",
    "proporciones = []  # Almacenar la proporción de 5 en cada etapa\n",
    "puntos_interes = [2, 6, 10, 100, 1000]  # Puntos de interés para agregar puntos en el gráfico\n",
    "\n",
    "# Realizar la simulación secuencial\n",
    "contador_cinco = 0  # Inicializar el contador de 5\n",
    "for i in range(num_lanzamientos):\n",
    "    if lanzamientos[i] == 5:\n",
    "        contador_cinco += 1\n",
    "    proporciones.append(contador_cinco / (i + 1))  # Calcular la proporción en cada etapa\n",
    "\n",
    "# Crear un DataFrame para Plotly Express\n",
    "df = pd.DataFrame({\n",
    "    'Lanzamientos': range(1, num_lanzamientos + 1),\n",
    "    'Proporción de 5': proporciones\n",
    "})\n",
    "\n",
    "# Agregar puntos de interés\n",
    "puntos_df = df[df['Lanzamientos'].isin(puntos_interes)]\n",
    "\n",
    "# Calcular la probabilidad teórica\n",
    "probabilidad_teorica = 1/6\n",
    "\n",
    "# Crear el gráfico con Plotly Express\n",
    "fig = px.line(df, x='Lanzamientos', y='Proporción de 5', labels={'Lanzamientos': 'Número de Lanzamientos', 'Proporción de 5': 'Proporción de 5'},\n",
    "              title=\"Probabilidad de sacar 5 en el lanzamiento de un dado vs Número de Lanzamientos\")\n",
    "fig.add_shape(type='line', y0=probabilidad_teorica, y1=probabilidad_teorica, x0=1, x1=num_lanzamientos, line=dict(color='red', dash='dash'), name='Probabilidad teórica (1/6)')\n",
    "fig.add_trace(px.scatter(puntos_df, x='Lanzamientos', y='Proporción de 5').data[0].update(marker=dict(color='black', size=6)))\n",
    "\n",
    "fig.show()\n"
   ]
  }
 ],
 "metadata": {
  "kernelspec": {
   "display_name": "Taller1_Estadistica-fldT_h8R",
   "language": "python",
   "name": "python3"
  },
  "language_info": {
   "codemirror_mode": {
    "name": "ipython",
    "version": 3
   },
   "file_extension": ".py",
   "mimetype": "text/x-python",
   "name": "python",
   "nbconvert_exporter": "python",
   "pygments_lexer": "ipython3",
   "version": "3.11.5"
  }
 },
 "nbformat": 4,
 "nbformat_minor": 2
}
