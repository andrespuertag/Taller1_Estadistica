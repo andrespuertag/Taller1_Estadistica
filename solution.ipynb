{
 "cells": [
  {
   "cell_type": "code",
   "execution_count": 9,
   "metadata": {},
   "outputs": [],
   "source": [
    "import numpy as np\n",
    "#import matplotlib.pyplot as plt\n",
    "import random\n",
    "import collections\n",
    "\n",
    "#from scipy.stats import norm"
   ]
  },
  {
   "cell_type": "markdown",
   "metadata": {},
   "source": [
    "1. Suponga que se cuenta con una prueba para detectar la enfermedad A, que es positiva el 90% \n",
    "de las veces cuando se realiza en un paciente que tiene dicha enfermedad, y es negativa el 95% \n",
    "de las veces cuando se realiza en una persona que no tiene la enfermedad. También se sabe que \n",
    "la enfermedad afecta a un 1% de la población.  \n",
    " \n",
    "2. Construya  una  muestra  aleatoria  de  tamaño  100000,  que  contenga  “Sí”  y  “No”,  con \n",
    "probabilidades de 1% y 99%, respectivamente."
   ]
  },
  {
   "cell_type": "code",
   "execution_count": 6,
   "metadata": {},
   "outputs": [],
   "source": [
    "def crear_muestra_aleatoria():\n",
    "  return random.choices([\"Sí\", \"No\"], k=100000, weights=[0.01, 0.99])\n",
    "\n",
    "muestra = crear_muestra_aleatoria()"
   ]
  },
  {
   "cell_type": "code",
   "execution_count": 10,
   "metadata": {},
   "outputs": [
    {
     "name": "stdout",
     "output_type": "stream",
     "text": [
      "(0.0102, 0.9898)\n"
     ]
    }
   ],
   "source": [
    "def calcular_probabilidad(muestra):\n",
    "  contador = collections.Counter(muestra)\n",
    "  return (contador[\"Sí\"] / len(muestra), contador[\"No\"] / len(muestra))\n",
    "\n",
    "muestra = crear_muestra_aleatoria()\n",
    "probabilidad = calcular_probabilidad(muestra)\n",
    "\n",
    "print(probabilidad)"
   ]
  },
  {
   "cell_type": "markdown",
   "metadata": {},
   "source": [
    "3. Construya una muestra aleatoria a partir del vector de valores (“Negativo” y “Positivo”), que \n",
    "de  cuenta  de  que  la  probabilidad  de  que  el  test  salga  “Negativo”  dado  que  “No”  tiene  la \n",
    "enfermedad A es del 90%. Presente tablas de contingencia cruzadas condicionadas de acuerdo \n",
    "con si tiene o no tiene la enfermedad. "
   ]
  },
  {
   "cell_type": "code",
   "execution_count": 14,
   "metadata": {},
   "outputs": [
    {
     "name": "stdout",
     "output_type": "stream",
     "text": [
      "{'Tiene': {'Negativo': 938, 'Positivo': 57}, 'No tiene': {'Negativo': 93083, 'Positivo': 5922}}\n"
     ]
    }
   ],
   "source": [
    "def crear_muestra_aleatoria(tamano_muestra):\n",
    "  \"\"\"\n",
    "  Crea una muestra aleatoria de tamaño `tamano_muestra` a partir del vector de valores (“Negativo” y “Positivo”).\n",
    "\n",
    "  Devuelve:\n",
    "    Una lista de strings, cada uno de los cuales es “Negativo” o “Positivo”.\n",
    "  \"\"\"\n",
    "\n",
    "  muestra = []\n",
    "  for _ in range(tamano_muestra):\n",
    "    # Probabilidad de que el paciente tenga la enfermedad\n",
    "    probabilidad_enfermedad = 0.01\n",
    "    # Probabilidad de que el test salga positivo dado que el paciente tiene la enfermedad\n",
    "    probabilidad_positivo_con_enfermedad = 0.9\n",
    "    # Probabilidad de que el test salga negativo dado que el paciente no tiene la enfermedad\n",
    "    probabilidad_negativo_sin_enfermedad = 0.95\n",
    "\n",
    "    if random.random() <= probabilidad_enfermedad:\n",
    "      # El paciente tiene la enfermedad\n",
    "      muestra.append(\"Positivo\" if random.random() <= probabilidad_positivo_con_enfermedad else \"Negativo\")\n",
    "    else:\n",
    "      # El paciente no tiene la enfermedad\n",
    "      muestra.append(\"Negativo\" if random.random() <= probabilidad_negativo_sin_enfermedad else \"Positivo\")\n",
    "  return muestra\n",
    "\n",
    "muestra = crear_muestra_aleatoria(10000)\n",
    "probabilidad_enfermedad = 0.01\n",
    "\n",
    "# Tabla de contingencia cruzada condicionada por si tiene o no la enfermedad\n",
    "tabla_conjunta = {}\n",
    "for estado_enfermedad in [\"Tiene\", \"No tiene\"]:\n",
    "  tabla_conjunta[estado_enfermedad] = {\"Negativo\": 0, \"Positivo\": 0}\n",
    "for resultado_test in muestra:\n",
    "  estado_enfermedad = \"Tiene\" if random.random() <= probabilidad_enfermedad else \"No tiene\"\n",
    "  tabla_conjunta[estado_enfermedad][resultado_test] += 1\n",
    "\n",
    "print(tabla_conjunta)"
   ]
  },
  {
   "cell_type": "code",
   "execution_count": 16,
   "metadata": {},
   "outputs": [
    {
     "name": "stdout",
     "output_type": "stream",
     "text": [
      "{'Tiene': {'Negativo': 975, 'Positivo': 49}, 'No tiene': {'Negativo': 93151, 'Positivo': 5825}}\n"
     ]
    }
   ],
   "source": []
  }
 ],
 "metadata": {
  "kernelspec": {
   "display_name": "Taller1_Estadistica-fldT_h8R",
   "language": "python",
   "name": "python3"
  },
  "language_info": {
   "codemirror_mode": {
    "name": "ipython",
    "version": 3
   },
   "file_extension": ".py",
   "mimetype": "text/x-python",
   "name": "python",
   "nbconvert_exporter": "python",
   "pygments_lexer": "ipython3",
   "version": "3.11.5"
  }
 },
 "nbformat": 4,
 "nbformat_minor": 2
}
