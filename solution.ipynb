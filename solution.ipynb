{
 "cells": [
  {
   "cell_type": "code",
   "execution_count": 61,
   "metadata": {},
   "outputs": [],
   "source": [
    "import numpy as np\n",
    "import matplotlib.pyplot as plt\n",
    "import random\n",
    "import collections\n",
    "import pandas as pd\n",
    "\n",
    "#from scipy.stats import norm"
   ]
  },
  {
   "cell_type": "markdown",
   "metadata": {},
   "source": [
    "# Parte 1"
   ]
  },
  {
   "cell_type": "markdown",
   "metadata": {},
   "source": [
    "1. Suponga que se cuenta con una prueba para detectar la enfermedad A, que es positiva el 90% \n",
    "de las veces cuando se realiza en un paciente que tiene dicha enfermedad, y es negativa el 95% \n",
    "de las veces cuando se realiza en una persona que no tiene la enfermedad. También se sabe que \n",
    "la enfermedad afecta a un 1% de la población.  \n",
    " \n",
    "2. Construya  una  muestra  aleatoria  de  tamaño  100000,  que  contenga  “Sí”  y  “No”,  con \n",
    "probabilidades de 1% y 99%, respectivamente."
   ]
  },
  {
   "cell_type": "code",
   "execution_count": 62,
   "metadata": {},
   "outputs": [],
   "source": [
    "n=100000\n",
    "\n",
    "def crear_muestra_aleatoria():\n",
    "  return random.choices([\"Sí\", \"No\"], k=n, weights=[0.01, 0.99])"
   ]
  },
  {
   "cell_type": "code",
   "execution_count": 63,
   "metadata": {},
   "outputs": [
    {
     "data": {
      "text/html": [
       "<div>\n",
       "<style scoped>\n",
       "    .dataframe tbody tr th:only-of-type {\n",
       "        vertical-align: middle;\n",
       "    }\n",
       "\n",
       "    .dataframe tbody tr th {\n",
       "        vertical-align: top;\n",
       "    }\n",
       "\n",
       "    .dataframe thead th {\n",
       "        text-align: right;\n",
       "    }\n",
       "</style>\n",
       "<table border=\"1\" class=\"dataframe\">\n",
       "  <thead>\n",
       "    <tr style=\"text-align: right;\">\n",
       "      <th></th>\n",
       "      <th>Infectado</th>\n",
       "    </tr>\n",
       "  </thead>\n",
       "  <tbody>\n",
       "    <tr>\n",
       "      <th>0</th>\n",
       "      <td>No</td>\n",
       "    </tr>\n",
       "    <tr>\n",
       "      <th>1</th>\n",
       "      <td>No</td>\n",
       "    </tr>\n",
       "    <tr>\n",
       "      <th>2</th>\n",
       "      <td>No</td>\n",
       "    </tr>\n",
       "    <tr>\n",
       "      <th>3</th>\n",
       "      <td>No</td>\n",
       "    </tr>\n",
       "    <tr>\n",
       "      <th>4</th>\n",
       "      <td>No</td>\n",
       "    </tr>\n",
       "  </tbody>\n",
       "</table>\n",
       "</div>"
      ],
      "text/plain": [
       "  Infectado\n",
       "0        No\n",
       "1        No\n",
       "2        No\n",
       "3        No\n",
       "4        No"
      ]
     },
     "execution_count": 63,
     "metadata": {},
     "output_type": "execute_result"
    }
   ],
   "source": [
    "muestra = crear_muestra_aleatoria()\n",
    "\n",
    "df=pd.DataFrame({\"Infectado\": muestra})\n",
    "df.head()"
   ]
  },
  {
   "cell_type": "code",
   "execution_count": 64,
   "metadata": {},
   "outputs": [
    {
     "data": {
      "text/plain": [
       "Infectado\n",
       "No           98986\n",
       "Sí            1014\n",
       "Name: count, dtype: int64"
      ]
     },
     "execution_count": 64,
     "metadata": {},
     "output_type": "execute_result"
    }
   ],
   "source": [
    "df.value_counts()"
   ]
  },
  {
   "cell_type": "code",
   "execution_count": 65,
   "metadata": {},
   "outputs": [
    {
     "name": "stdout",
     "output_type": "stream",
     "text": [
      "(0.0094, 0.9906)\n"
     ]
    }
   ],
   "source": [
    "def calcular_probabilidad(muestra):\n",
    "  contador = collections.Counter(muestra)\n",
    "  return (contador[\"Sí\"] / len(muestra), contador[\"No\"] / len(muestra))\n",
    "\n",
    "muestra = crear_muestra_aleatoria()\n",
    "probabilidad = calcular_probabilidad(muestra)\n",
    "\n",
    "print(probabilidad)"
   ]
  },
  {
   "cell_type": "markdown",
   "metadata": {},
   "source": [
    "3. Construya una muestra aleatoria a partir del vector de valores (“Negativo” y “Positivo”), que \n",
    "de  cuenta  de  que  la  probabilidad  de  que  el  test  salga  “Negativo”  dado  que  “No”  tiene  la \n",
    "enfermedad A es del 90%. Presente tablas de contingencia cruzadas condicionadas de acuerdo \n",
    "con si tiene o no tiene la enfermedad. "
   ]
  },
  {
   "cell_type": "markdown",
   "metadata": {},
   "source": [
    "4. Construya una muestra aleatoria a partir del vector de valores (“Negativo” y “Positivo”), que \n",
    "de cuenta de que la probabilidad de que el test salga “Positivo” dado que “Sí” tiene la \n",
    "enfermedad A es del 90%. Presente tablas de contingencia cruzadas condicionadas de acuerdo \n",
    "con si tiene o no tiene la enfermedad."
   ]
  },
  {
   "cell_type": "code",
   "execution_count": 66,
   "metadata": {},
   "outputs": [
    {
     "name": "stdout",
     "output_type": "stream",
     "text": [
      "Resultado_test\n",
      "Negativo    0.94121\n",
      "Positivo    0.05879\n",
      "Name: proportion, dtype: float64\n"
     ]
    }
   ],
   "source": [
    "# Agregar la columna \"Resultado_test\" basada en las reglas de probabilidad\n",
    "df[\"Resultado_test\"] = np.where((df[\"Infectado\"] == \"Sí\") & (np.random.rand(n) < 0.9), \"Positivo\", \"Negativo\")\n",
    "df.loc[(df[\"Infectado\"] == \"No\") & (np.random.rand(n) < 0.05), \"Resultado_test\"] = \"Positivo\"\n",
    "\n",
    "# Verificar la proporción final de \"Resultado_test\"\n",
    "proporcion_resultado = df[\"Resultado_test\"].value_counts(normalize=True)\n",
    "print(proporcion_resultado)"
   ]
  },
  {
   "cell_type": "code",
   "execution_count": 67,
   "metadata": {},
   "outputs": [
    {
     "data": {
      "text/html": [
       "<div>\n",
       "<style scoped>\n",
       "    .dataframe tbody tr th:only-of-type {\n",
       "        vertical-align: middle;\n",
       "    }\n",
       "\n",
       "    .dataframe tbody tr th {\n",
       "        vertical-align: top;\n",
       "    }\n",
       "\n",
       "    .dataframe thead th {\n",
       "        text-align: right;\n",
       "    }\n",
       "</style>\n",
       "<table border=\"1\" class=\"dataframe\">\n",
       "  <thead>\n",
       "    <tr style=\"text-align: right;\">\n",
       "      <th></th>\n",
       "      <th></th>\n",
       "      <th>Resultado_test</th>\n",
       "    </tr>\n",
       "    <tr>\n",
       "      <th>Infectado</th>\n",
       "      <th>Resultado_test</th>\n",
       "      <th></th>\n",
       "    </tr>\n",
       "  </thead>\n",
       "  <tbody>\n",
       "    <tr>\n",
       "      <th rowspan=\"2\" valign=\"top\">No</th>\n",
       "      <th>Negativo</th>\n",
       "      <td>94017</td>\n",
       "    </tr>\n",
       "    <tr>\n",
       "      <th>Positivo</th>\n",
       "      <td>4969</td>\n",
       "    </tr>\n",
       "    <tr>\n",
       "      <th rowspan=\"2\" valign=\"top\">Sí</th>\n",
       "      <th>Negativo</th>\n",
       "      <td>104</td>\n",
       "    </tr>\n",
       "    <tr>\n",
       "      <th>Positivo</th>\n",
       "      <td>910</td>\n",
       "    </tr>\n",
       "  </tbody>\n",
       "</table>\n",
       "</div>"
      ],
      "text/plain": [
       "                          Resultado_test\n",
       "Infectado Resultado_test                \n",
       "No        Negativo                 94017\n",
       "          Positivo                  4969\n",
       "Sí        Negativo                   104\n",
       "          Positivo                   910"
      ]
     },
     "execution_count": 67,
     "metadata": {},
     "output_type": "execute_result"
    }
   ],
   "source": [
    "df.groupby([\"Infectado\",\"Resultado_test\"])[[\"Resultado_test\"]].count()"
   ]
  },
  {
   "cell_type": "code",
   "execution_count": 68,
   "metadata": {},
   "outputs": [
    {
     "data": {
      "text/html": [
       "<div>\n",
       "<style scoped>\n",
       "    .dataframe tbody tr th:only-of-type {\n",
       "        vertical-align: middle;\n",
       "    }\n",
       "\n",
       "    .dataframe tbody tr th {\n",
       "        vertical-align: top;\n",
       "    }\n",
       "\n",
       "    .dataframe thead th {\n",
       "        text-align: right;\n",
       "    }\n",
       "</style>\n",
       "<table border=\"1\" class=\"dataframe\">\n",
       "  <thead>\n",
       "    <tr style=\"text-align: right;\">\n",
       "      <th></th>\n",
       "      <th></th>\n",
       "      <th>Resultado_test</th>\n",
       "    </tr>\n",
       "    <tr>\n",
       "      <th>Resultado_test</th>\n",
       "      <th>Infectado</th>\n",
       "      <th></th>\n",
       "    </tr>\n",
       "  </thead>\n",
       "  <tbody>\n",
       "    <tr>\n",
       "      <th rowspan=\"2\" valign=\"top\">Negativo</th>\n",
       "      <th>No</th>\n",
       "      <td>94017</td>\n",
       "    </tr>\n",
       "    <tr>\n",
       "      <th>Sí</th>\n",
       "      <td>104</td>\n",
       "    </tr>\n",
       "    <tr>\n",
       "      <th rowspan=\"2\" valign=\"top\">Positivo</th>\n",
       "      <th>No</th>\n",
       "      <td>4969</td>\n",
       "    </tr>\n",
       "    <tr>\n",
       "      <th>Sí</th>\n",
       "      <td>910</td>\n",
       "    </tr>\n",
       "  </tbody>\n",
       "</table>\n",
       "</div>"
      ],
      "text/plain": [
       "                          Resultado_test\n",
       "Resultado_test Infectado                \n",
       "Negativo       No                  94017\n",
       "               Sí                    104\n",
       "Positivo       No                   4969\n",
       "               Sí                    910"
      ]
     },
     "execution_count": 68,
     "metadata": {},
     "output_type": "execute_result"
    }
   ],
   "source": [
    "df.groupby([\"Resultado_test\",\"Infectado\"])[[\"Resultado_test\"]].count()"
   ]
  },
  {
   "cell_type": "code",
   "execution_count": 69,
   "metadata": {},
   "outputs": [
    {
     "data": {
      "text/html": [
       "<div>\n",
       "<style scoped>\n",
       "    .dataframe tbody tr th:only-of-type {\n",
       "        vertical-align: middle;\n",
       "    }\n",
       "\n",
       "    .dataframe tbody tr th {\n",
       "        vertical-align: top;\n",
       "    }\n",
       "\n",
       "    .dataframe thead th {\n",
       "        text-align: right;\n",
       "    }\n",
       "</style>\n",
       "<table border=\"1\" class=\"dataframe\">\n",
       "  <thead>\n",
       "    <tr style=\"text-align: right;\">\n",
       "      <th></th>\n",
       "      <th>Infectado</th>\n",
       "      <th>Resultado_test</th>\n",
       "    </tr>\n",
       "  </thead>\n",
       "  <tbody>\n",
       "    <tr>\n",
       "      <th>0</th>\n",
       "      <td>No</td>\n",
       "      <td>Negativo</td>\n",
       "    </tr>\n",
       "    <tr>\n",
       "      <th>1</th>\n",
       "      <td>No</td>\n",
       "      <td>Negativo</td>\n",
       "    </tr>\n",
       "    <tr>\n",
       "      <th>2</th>\n",
       "      <td>No</td>\n",
       "      <td>Negativo</td>\n",
       "    </tr>\n",
       "    <tr>\n",
       "      <th>3</th>\n",
       "      <td>No</td>\n",
       "      <td>Negativo</td>\n",
       "    </tr>\n",
       "    <tr>\n",
       "      <th>4</th>\n",
       "      <td>No</td>\n",
       "      <td>Negativo</td>\n",
       "    </tr>\n",
       "    <tr>\n",
       "      <th>...</th>\n",
       "      <td>...</td>\n",
       "      <td>...</td>\n",
       "    </tr>\n",
       "    <tr>\n",
       "      <th>99995</th>\n",
       "      <td>No</td>\n",
       "      <td>Negativo</td>\n",
       "    </tr>\n",
       "    <tr>\n",
       "      <th>99996</th>\n",
       "      <td>No</td>\n",
       "      <td>Negativo</td>\n",
       "    </tr>\n",
       "    <tr>\n",
       "      <th>99997</th>\n",
       "      <td>No</td>\n",
       "      <td>Negativo</td>\n",
       "    </tr>\n",
       "    <tr>\n",
       "      <th>99998</th>\n",
       "      <td>No</td>\n",
       "      <td>Positivo</td>\n",
       "    </tr>\n",
       "    <tr>\n",
       "      <th>99999</th>\n",
       "      <td>No</td>\n",
       "      <td>Positivo</td>\n",
       "    </tr>\n",
       "  </tbody>\n",
       "</table>\n",
       "<p>100000 rows × 2 columns</p>\n",
       "</div>"
      ],
      "text/plain": [
       "      Infectado Resultado_test\n",
       "0            No       Negativo\n",
       "1            No       Negativo\n",
       "2            No       Negativo\n",
       "3            No       Negativo\n",
       "4            No       Negativo\n",
       "...         ...            ...\n",
       "99995        No       Negativo\n",
       "99996        No       Negativo\n",
       "99997        No       Negativo\n",
       "99998        No       Positivo\n",
       "99999        No       Positivo\n",
       "\n",
       "[100000 rows x 2 columns]"
      ]
     },
     "execution_count": 69,
     "metadata": {},
     "output_type": "execute_result"
    }
   ],
   "source": [
    "df"
   ]
  },
  {
   "cell_type": "markdown",
   "metadata": {},
   "source": [
    "5. Calcule la probabilidad de tener la enfermedad dado que el test salió positivo. Realice los \n",
    "cálculos utilizando las variables simuladas. "
   ]
  },
  {
   "cell_type": "code",
   "execution_count": 70,
   "metadata": {},
   "outputs": [
    {
     "name": "stdout",
     "output_type": "stream",
     "text": [
      "Infectados con test positivo: 910\n",
      "Total test positivos: 5879\n",
      "Probabilidad de estar infectado con test positivo:  0.1547882292906957\n"
     ]
    }
   ],
   "source": [
    "\n",
    "pacientes_infectados_positivos = df[(df[\"Infectado\"] == \"Sí\") & (df[\"Resultado_test\"] == \"Positivo\")]\n",
    "pacientes_infectados_positivos = pacientes_infectados_positivos.shape[0]\n",
    "\n",
    "pacientes_positivos= df[df[\"Resultado_test\"] == \"Positivo\"]\n",
    "pacientes_positivos= pacientes_positivos.shape[0]\n",
    "\n",
    "\n",
    "probabilidad_infectado_verdadero_positivo = pacientes_infectados_positivos/pacientes_positivos\n",
    "\n",
    "print(f\"Infectados con test positivo: {pacientes_infectados_positivos}\")\n",
    "print(f\"Total test positivos: {pacientes_positivos}\")\n",
    "print(f\"Probabilidad de estar infectado con test positivo:  {probabilidad_infectado_verdadero_positivo}\")\n"
   ]
  },
  {
   "cell_type": "markdown",
   "metadata": {},
   "source": [
    "6. Realice los cálculos del punto anterior, utilizando la información del enunciado y el Teorema \n",
    "de Bayes. ¿Qué puede concluir? "
   ]
  },
  {
   "cell_type": "markdown",
   "metadata": {},
   "source": [
    "Para calcular la probabilidad de tener la enfermedad dado que el test salió positivo utilizando el Teorema de Bayes y la información del enunciado, podemos seguir los pasos que se mencionaron previamente. Aquí está el cálculo:\n",
    "\n",
    "1. Probabilidad de tener la enfermedad (P(Enfermedad)):\n",
    "   - En el enunciado, se menciona que el 1% de la muestra tiene la enfermedad, por lo que \\(P({Enfermedad}) = 0.01\\).\n",
    "\n",
    "2. Probabilidad de obtener un resultado positivo en el test dado que se tiene la enfermedad (P(Positivo | Enfermedad)):\n",
    "   - En el enunciado, se establece que el 90% de las personas infectadas obtiene un resultado positivo, es decir, \\(P({Positivo} | {Enfermedad}) = 0.9\\).\n",
    "\n",
    "3. Probabilidad de no tener la enfermedad (P(¬Enfermedad)):\n",
    "   - \\(P({¬Enfermedad}) = 1 - P({Enfermedad}) = 0.99\\).\n",
    "\n",
    "4. Probabilidad de obtener un resultado positivo en el test dado que no se tiene la enfermedad (P(Positivo | ¬Enfermedad)):\n",
    "   - En el enunciado, se establece que el 5% de las personas no infectadas obtiene un resultado positivo, es decir, \\(P({Positivo} | {¬Enfermedad}) = 0.05\\).\n",
    "\n",
    "5. Probabilidad de obtener un resultado positivo en el test (P(Positivo)):\n",
    "   - Utilizando el teorema de probabilidad total:\n",
    "   \\[P({Positivo}) = P({Positivo} | {Enfermedad}) \\cdot P({Enfermedad}) + P({Positivo} | {¬Enfermedad}) \\cdot P({¬Enfermedad})\\]\n",
    "   - Sustituyendo los valores:\n",
    "   \\[P({Positivo}) = 0.9 \\cdot 0.01 + 0.05 \\cdot 0.99\\]\n",
    "   \\[P({Positivo}) = 0.0145\\]\n",
    "\n",
    "6. Probabilidad de tener la enfermedad dado que el test salió positivo (P(Enfermedad | Positivo)):\n",
    "   - Utilizando el Teorema de Bayes:\n",
    "   \\[P({Enfermedad} | {Positivo}) = \\frac{P({Positivo} | {Enfermedad}) \\cdot P({Enfermedad})}{P({Positivo})}\\]\n",
    "   - Sustituyendo los valores:\n",
    "   \\[P({Enfermedad} | {Positivo}) = \\frac{0.9 \\cdot 0.01}{0.0145} \\approx 0.6207\\]\n",
    "\n",
    "Por lo tanto, la probabilidad de tener la enfermedad dado que el test salió positivo es aproximadamente 0.6207 o alrededor del 62.07%. Esto significa que si alguien obtiene un resultado positivo en el test, la probabilidad de que realmente tenga la enfermedad es del 62.07%."
   ]
  },
  {
   "cell_type": "code",
   "execution_count": 71,
   "metadata": {},
   "outputs": [
    {
     "name": "stdout",
     "output_type": "stream",
     "text": [
      "Probabilidad de tener la enfermedad dado que el test salió positivo: 0.15384615384615385\n"
     ]
    }
   ],
   "source": [
    "# Probabilidad de tener la enfermedad (P(Enfermedad))\n",
    "p_enfermedad = 0.01\n",
    "\n",
    "# Probabilidad de obtener un resultado positivo en el test dado que se tiene la enfermedad (P(Positivo | Enfermedad))\n",
    "p_positivo_enfermedad = 0.9\n",
    "\n",
    "# Probabilidad de no tener la enfermedad (P(¬Enfermedad))\n",
    "p_no_enfermedad = 1 - p_enfermedad\n",
    "\n",
    "# Probabilidad de obtener un resultado positivo en el test dado que no se tiene la enfermedad (P(Positivo | ¬Enfermedad))\n",
    "p_positivo_no_enfermedad = 0.05\n",
    "\n",
    "# Probabilidad de obtener un resultado positivo en el test (P(Positivo))\n",
    "p_positivo = (p_positivo_enfermedad * p_enfermedad) + (p_positivo_no_enfermedad * p_no_enfermedad)\n",
    "\n",
    "# Probabilidad de tener la enfermedad dado que el test salió positivo (P(Enfermedad | Positivo))\n",
    "p_enfermedad_positivo = (p_positivo_enfermedad * p_enfermedad) / p_positivo\n",
    "\n",
    "print(\"Probabilidad de tener la enfermedad dado que el test salió positivo:\", p_enfermedad_positivo)\n"
   ]
  },
  {
   "cell_type": "markdown",
   "metadata": {},
   "source": [
    "# Parte 2"
   ]
  },
  {
   "cell_type": "markdown",
   "metadata": {},
   "source": [
    "7. Simule 1000 valores para cada una de las distribuciones de probabilidad uniforme discreta, \n",
    "binomial, Poisson, uniforme continua, normal y Exponencial. Especifique libremente los \n",
    "parámetros para cada una de ellas. Encuentre media y desviación estándar muestral para cada \n",
    "uno de los vectores simulados y compare dichos resultados con los obtenidos con las fórmulas \n",
    "de valor esperado y desviación estándar teoricos. "
   ]
  },
  {
   "cell_type": "markdown",
   "metadata": {},
   "source": [
    "### Distribución de probabilidad uniforme discreta"
   ]
  },
  {
   "cell_type": "code",
   "execution_count": 72,
   "metadata": {},
   "outputs": [
    {
     "data": {
      "image/png": "[encoded data removed]",
      "text/plain": [
       "<Figure size 500x300 with 1 Axes>"
      ]
     },
     "metadata": {},
     "output_type": "display_data"
    }
   ],
   "source": [
    "N = 1000\n",
    "a_uniforme_discreta = 0\n",
    "b_uniforme_discreta = 100\n",
    "\n",
    "dpud = np.random.randint(low=a_uniforme_discreta, high=b_uniforme_discreta, size=N)\n",
    "\n",
    "plt.figure(figsize=(5,3))\n",
    "plt.hist(dpud, bins=20, edgecolor='k', alpha=0.7)\n",
    "plt.xlabel('Valores')\n",
    "plt.ylabel('Frecuencia')\n",
    "plt.title('Histograma de datos generados con distribución de probabilidad uniforme discreta')\n",
    "\n",
    "# Mostrar la gráfica\n",
    "plt.show()"
   ]
  },
  {
   "cell_type": "markdown",
   "metadata": {},
   "source": [
    "### Distribución de probabilidad binomial"
   ]
  },
  {
   "cell_type": "code",
   "execution_count": 73,
   "metadata": {},
   "outputs": [
    {
     "data": {
      "image/png": "[encoded data removed]",
      "text/plain": [
       "<Figure size 500x300 with 1 Axes>"
      ]
     },
     "metadata": {},
     "output_type": "display_data"
    }
   ],
   "source": [
    "n_binomial = 1\n",
    "p_binomial = 0.5\n",
    "\n",
    "dpb = np.random.binomial(n=n_binomial, p=p_binomial, size=N)\n",
    "\n",
    "plt.figure(figsize=(5,3))\n",
    "plt.hist(dpb, bins=20, edgecolor='k')\n",
    "plt.xlabel('Valores')\n",
    "plt.ylabel('Frecuencia')\n",
    "plt.title('Histograma de datos generados con distribución binomial')\n",
    "\n",
    "# Mostrar la gráfica\n",
    "plt.show()"
   ]
  },
  {
   "cell_type": "markdown",
   "metadata": {},
   "source": [
    "### Distribución de probabilidad poisson"
   ]
  },
  {
   "cell_type": "code",
   "execution_count": 74,
   "metadata": {},
   "outputs": [
    {
     "data": {
      "image/png": "[encoded data removed]",
      "text/plain": [
       "<Figure size 500x300 with 1 Axes>"
      ]
     },
     "metadata": {},
     "output_type": "display_data"
    }
   ],
   "source": [
    "lmbda_poisson = 1.5\n",
    "dpp = np.random.poisson(lam=lmbda_poisson, size=N)\n",
    "\n",
    "plt.figure(figsize=(5,3))\n",
    "plt.hist(dpp, bins=20, edgecolor='k')\n",
    "plt.xlabel('Valores')\n",
    "plt.ylabel('Frecuencia')\n",
    "plt.title('Histograma de datos generados con distribución Poisson')\n",
    "\n",
    "# Mostrar la gráfica\n",
    "plt.show()"
   ]
  },
  {
   "cell_type": "markdown",
   "metadata": {},
   "source": [
    "### Distribuicón uniforme continua"
   ]
  },
  {
   "cell_type": "code",
   "execution_count": 75,
   "metadata": {},
   "outputs": [
    {
     "data": {
      "image/png": "[encoded data removed]",
      "text/plain": [
       "<Figure size 500x300 with 1 Axes>"
      ]
     },
     "metadata": {},
     "output_type": "display_data"
    }
   ],
   "source": [
    "a_uniforme_continua = 0\n",
    "b_uniforme_continua = 1\n",
    "duc = np.random.uniform(low=a_uniforme_continua, high=b_uniforme_continua, size=N)\n",
    "\n",
    "plt.figure(figsize=(5,3))\n",
    "plt.hist(duc, bins=20, edgecolor='k', alpha=0.7)\n",
    "plt.xlabel('Valores')\n",
    "plt.ylabel('Frecuencia')\n",
    "plt.title('Histograma de datos generados con distribución uniforme continua')\n",
    "\n",
    "# Mostrar la gráfica\n",
    "plt.show()"
   ]
  },
  {
   "cell_type": "markdown",
   "metadata": {},
   "source": [
    "### Distribuicón normal"
   ]
  },
  {
   "cell_type": "code",
   "execution_count": 76,
   "metadata": {},
   "outputs": [
    {
     "data": {
      "image/png": "[encoded data removed]",
      "text/plain": [
       "<Figure size 500x300 with 1 Axes>"
      ]
     },
     "metadata": {},
     "output_type": "display_data"
    }
   ],
   "source": [
    "mu_normal = 0\n",
    "sigma_normal = 1\n",
    "\n",
    "dnorm = np.random.normal(loc=mu_normal, scale=sigma_normal, size=N)\n",
    "\n",
    "plt.figure(figsize=(5,3))\n",
    "plt.hist(dnorm, bins=20, edgecolor='k', alpha=0.7)\n",
    "plt.xlabel('Valores')\n",
    "plt.ylabel('Frecuencia')\n",
    "plt.title('Histograma de datos generados con distribución normal')\n",
    "\n",
    "# Mostrar la gráfica\n",
    "plt.show()"
   ]
  },
  {
   "cell_type": "markdown",
   "metadata": {},
   "source": [
    "### Distribución Exponencial"
   ]
  },
  {
   "cell_type": "code",
   "execution_count": 77,
   "metadata": {},
   "outputs": [
    {
     "data": {
      "image/png": "[encoded data removed]",
      "text/plain": [
       "<Figure size 500x300 with 1 Axes>"
      ]
     },
     "metadata": {},
     "output_type": "display_data"
    }
   ],
   "source": [
    "lmbda_exponencial = 1\n",
    "dexp = np.random.exponential( scale=lmbda_exponencial, size=N)\n",
    "\n",
    "\n",
    "plt.figure(figsize=(5,3))\n",
    "plt.hist(dexp, bins=20, edgecolor='k', alpha=0.7)\n",
    "plt.xlabel('Valores')\n",
    "plt.ylabel('Frecuencia')\n",
    "plt.title('Histograma de datos generados con distribución exponencial')\n",
    "\n",
    "# Mostrar la gráfica\n",
    "plt.show()"
   ]
  },
  {
   "cell_type": "markdown",
   "metadata": {},
   "source": [
    "### Media y Desviación Estándar de las muestras simuladas"
   ]
  },
  {
   "cell_type": "code",
   "execution_count": 83,
   "metadata": {},
   "outputs": [
    {
     "data": {
      "text/html": [
       "<div>\n",
       "<style scoped>\n",
       "    .dataframe tbody tr th:only-of-type {\n",
       "        vertical-align: middle;\n",
       "    }\n",
       "\n",
       "    .dataframe tbody tr th {\n",
       "        vertical-align: top;\n",
       "    }\n",
       "\n",
       "    .dataframe thead th {\n",
       "        text-align: right;\n",
       "    }\n",
       "</style>\n",
       "<table border=\"1\" class=\"dataframe\">\n",
       "  <thead>\n",
       "    <tr style=\"text-align: right;\">\n",
       "      <th></th>\n",
       "      <th>dist_prob_unif_dis</th>\n",
       "      <th>dist_prob_binom</th>\n",
       "      <th>dist_prob_poisson</th>\n",
       "      <th>dist_prob_unif_cont</th>\n",
       "      <th>dist_prob_norm</th>\n",
       "      <th>dist_prob_exp</th>\n",
       "    </tr>\n",
       "  </thead>\n",
       "  <tbody>\n",
       "    <tr>\n",
       "      <th>count</th>\n",
       "      <td>1000.000000</td>\n",
       "      <td>1000.00000</td>\n",
       "      <td>1000.000000</td>\n",
       "      <td>1000.000000</td>\n",
       "      <td>1000.000000</td>\n",
       "      <td>1000.000000</td>\n",
       "    </tr>\n",
       "    <tr>\n",
       "      <th>mean</th>\n",
       "      <td>49.401000</td>\n",
       "      <td>0.49000</td>\n",
       "      <td>1.520000</td>\n",
       "      <td>0.509583</td>\n",
       "      <td>-0.015512</td>\n",
       "      <td>0.993522</td>\n",
       "    </tr>\n",
       "    <tr>\n",
       "      <th>std</th>\n",
       "      <td>28.337982</td>\n",
       "      <td>0.50015</td>\n",
       "      <td>1.223559</td>\n",
       "      <td>0.289894</td>\n",
       "      <td>1.003529</td>\n",
       "      <td>0.956899</td>\n",
       "    </tr>\n",
       "    <tr>\n",
       "      <th>min</th>\n",
       "      <td>0.000000</td>\n",
       "      <td>0.00000</td>\n",
       "      <td>0.000000</td>\n",
       "      <td>0.000322</td>\n",
       "      <td>-2.752592</td>\n",
       "      <td>0.001087</td>\n",
       "    </tr>\n",
       "    <tr>\n",
       "      <th>25%</th>\n",
       "      <td>25.000000</td>\n",
       "      <td>0.00000</td>\n",
       "      <td>1.000000</td>\n",
       "      <td>0.259181</td>\n",
       "      <td>-0.734951</td>\n",
       "      <td>0.281793</td>\n",
       "    </tr>\n",
       "    <tr>\n",
       "      <th>50%</th>\n",
       "      <td>50.000000</td>\n",
       "      <td>0.00000</td>\n",
       "      <td>1.000000</td>\n",
       "      <td>0.519940</td>\n",
       "      <td>-0.033179</td>\n",
       "      <td>0.724704</td>\n",
       "    </tr>\n",
       "    <tr>\n",
       "      <th>75%</th>\n",
       "      <td>72.000000</td>\n",
       "      <td>1.00000</td>\n",
       "      <td>2.000000</td>\n",
       "      <td>0.763292</td>\n",
       "      <td>0.662374</td>\n",
       "      <td>1.369109</td>\n",
       "    </tr>\n",
       "    <tr>\n",
       "      <th>max</th>\n",
       "      <td>99.000000</td>\n",
       "      <td>1.00000</td>\n",
       "      <td>7.000000</td>\n",
       "      <td>0.996682</td>\n",
       "      <td>3.615972</td>\n",
       "      <td>7.306187</td>\n",
       "    </tr>\n",
       "  </tbody>\n",
       "</table>\n",
       "</div>"
      ],
      "text/plain": [
       "       dist_prob_unif_dis  dist_prob_binom  dist_prob_poisson  \\\n",
       "count         1000.000000       1000.00000        1000.000000   \n",
       "mean            49.401000          0.49000           1.520000   \n",
       "std             28.337982          0.50015           1.223559   \n",
       "min              0.000000          0.00000           0.000000   \n",
       "25%             25.000000          0.00000           1.000000   \n",
       "50%             50.000000          0.00000           1.000000   \n",
       "75%             72.000000          1.00000           2.000000   \n",
       "max             99.000000          1.00000           7.000000   \n",
       "\n",
       "       dist_prob_unif_cont  dist_prob_norm  dist_prob_exp  \n",
       "count          1000.000000     1000.000000    1000.000000  \n",
       "mean              0.509583       -0.015512       0.993522  \n",
       "std               0.289894        1.003529       0.956899  \n",
       "min               0.000322       -2.752592       0.001087  \n",
       "25%               0.259181       -0.734951       0.281793  \n",
       "50%               0.519940       -0.033179       0.724704  \n",
       "75%               0.763292        0.662374       1.369109  \n",
       "max               0.996682        3.615972       7.306187  "
      ]
     },
     "execution_count": 83,
     "metadata": {},
     "output_type": "execute_result"
    }
   ],
   "source": [
    "df_resumen =pd.DataFrame({\"dist_prob_unif_dis\": dpud, \n",
    "                          \"dist_prob_binom\":dpb, \n",
    "                          \"dist_prob_poisson\":dpp, \n",
    "                          \"dist_prob_unif_cont\":duc,\n",
    "                          \"dist_prob_norm\":dnorm,\n",
    "                          \"dist_prob_exp\": dexp})\n",
    "df_resumen.describe()"
   ]
  },
  {
   "cell_type": "markdown",
   "metadata": {},
   "source": [
    "### Valores esperados teóricos"
   ]
  },
  {
   "cell_type": "code",
   "execution_count": 79,
   "metadata": {},
   "outputs": [
    {
     "name": "stdout",
     "output_type": "stream",
     "text": [
      "Valor Esperado Teórico para Uniforme Discreta: 50.0\n",
      "Valor Esperado Teórico para Binomial: 0.5\n",
      "Valor Esperado Teórico para Poisson: 1.5\n",
      "Valor Esperado Teórico para Uniforme Continua: 0.5\n",
      "Valor Esperado Teórico para Normal: 0\n",
      "Valor Esperado Teórico para Exponencial: 1.0\n"
     ]
    }
   ],
   "source": [
    "\n",
    "# Calcula los valores esperados teóricos (medias) para cada distribución\n",
    "mu_uniforme_discreta = (a_uniforme_discreta + b_uniforme_discreta) / 2\n",
    "mu_binomial = n_binomial * p_binomial\n",
    "mu_poisson = lmbda_poisson\n",
    "mu_uniforme_continua = (a_uniforme_continua + b_uniforme_continua) / 2\n",
    "mu_normal_teorico = mu_normal  # En la distribución normal, mu es igual al valor teórico\n",
    "mu_exponencial = 1 / lmbda_exponencial\n",
    "# \n",
    "# Imprime los valores esperados teóricos\n",
    "print(\"Valor Esperado Teórico para Uniforme Discreta:\", mu_uniforme_discreta)\n",
    "print(\"Valor Esperado Teórico para Binomial:\", mu_binomial)\n",
    "print(\"Valor Esperado Teórico para Poisson:\", mu_poisson)\n",
    "print(\"Valor Esperado Teórico para Uniforme Continua:\", mu_uniforme_continua)\n",
    "print(\"Valor Esperado Teórico para Normal:\", mu_normal_teorico)\n",
    "print(\"Valor Esperado Teórico para Exponencial:\", mu_exponencial)\n"
   ]
  }
 ],
 "metadata": {
  "kernelspec": {
   "display_name": "Taller1_Estadistica-fldT_h8R",
   "language": "python",
   "name": "python3"
  },
  "language_info": {
   "codemirror_mode": {
    "name": "ipython",
    "version": 3
   },
   "file_extension": ".py",
   "mimetype": "text/x-python",
   "name": "python",
   "nbconvert_exporter": "python",
   "pygments_lexer": "ipython3",
   "version": "3.11.5"
  }
 },
 "nbformat": 4,
 "nbformat_minor": 2
}
